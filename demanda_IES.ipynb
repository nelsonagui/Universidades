{
  "nbformat": 4,
  "nbformat_minor": 0,
  "metadata": {
    "colab": {
      "provenance": [],
      "toc_visible": true
    },
    "kernelspec": {
      "name": "python3",
      "display_name": "Python 3"
    },
    "language_info": {
      "name": "python"
    }
  },
  "cells": [
    {
      "cell_type": "markdown",
      "metadata": {
        "id": "eHWg4wy47tGH"
      },
      "source": [
        "##Estimación de demanda de IES"
      ]
    },
    {
      "cell_type": "markdown",
      "metadata": {
        "id": "65rt5r0l_vaX"
      },
      "source": [
        "##0. Instalación y carga de librerías"
      ]
    },
    {
      "cell_type": "code",
      "metadata": {
        "colab": {
          "base_uri": "https://localhost:8080/"
        },
        "id": "WVGz1h8-9HfV",
        "outputId": "deef3fcb-d318-47f3-ba3a-8a1a88f2229f"
      },
      "source": [
        "!pip install catboost --quiet"
      ],
      "execution_count": null,
      "outputs": [
        {
          "output_type": "stream",
          "text": [
            "\u001b[K     |████████████████████████████████| 67.3MB 65kB/s \n",
            "\u001b[?25h"
          ],
          "name": "stdout"
        }
      ]
    },
    {
      "cell_type": "code",
      "metadata": {
        "id": "DB2KO8MQ9IjE"
      },
      "source": [
        "from google.colab import files\n",
        "import pandas as pd\n",
        "import numpy as np\n",
        "import matplotlib.pyplot as plt\n",
        "import seaborn as sb\n",
        "plt.style.use('ggplot')\n",
        "\n",
        "from sklearn.experimental import enable_iterative_imputer\n",
        "from sklearn.impute import IterativeImputer, SimpleImputer\n",
        "from sklearn.model_selection import train_test_split\n",
        "from sklearn.compose import ColumnTransformer\n",
        "from sklearn.preprocessing import OneHotEncoder, StandardScaler\n",
        "\n",
        "from sklearn.ensemble import GradientBoostingRegressor\n",
        "import catboost as cb\n",
        "import xgboost as xgb\n",
        "import lightgbm as lgb\n",
        "\n",
        "from sklearn.neural_network import MLPRegressor\n",
        "from sklearn.linear_model import LinearRegression\n",
        "from sklearn.tree import DecisionTreeRegressor\n",
        "from sklearn.ensemble import RandomForestRegressor, ExtraTreesRegressor\n",
        "from sklearn.ensemble import VotingRegressor\n",
        "from sklearn.svm import SVR\n",
        "from sklearn.ensemble import AdaBoostRegressor\n",
        "from sklearn.neighbors import KNeighborsRegressor\n",
        "\n",
        "from sklearn.model_selection import GridSearchCV\n",
        "import multiprocessing\n",
        "from sklearn.metrics import mean_squared_error\n",
        "\n",
        "from sklearn.model_selection import RandomizedSearchCV\n",
        "\n",
        "\n",
        "import warnings\n",
        "warnings.filterwarnings(\"ignore\")"
      ],
      "execution_count": null,
      "outputs": []
    },
    {
      "cell_type": "markdown",
      "metadata": {
        "id": "ACsOWREw_0qG"
      },
      "source": [
        "##1. Carga y formateo de archivo base"
      ]
    },
    {
      "cell_type": "code",
      "metadata": {
        "colab": {
          "resources": {
            "http://localhost:8080/nbextensions/google.colab/files.js": {
              "data": "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",
              "ok": true,
              "headers": [
                [
                  "content-type",
                  "application/javascript"
                ]
              ],
              "status": 200,
              "status_text": ""
            }
          },
          "base_uri": "https://localhost:8080/",
          "height": 73
        },
        "id": "3mrpgb3X-FBd",
        "outputId": "fcaca9d6-4799-4cbb-992b-f5c4edbeab21"
      },
      "source": [
        "files = files.upload()"
      ],
      "execution_count": null,
      "outputs": [
        {
          "output_type": "display_data",
          "data": {
            "text/html": [
              "\n",
              "     <input type=\"file\" id=\"files-dd9eb720-d7ee-4a58-b08f-260e877d2b16\" name=\"files[]\" multiple disabled\n",
              "        style=\"border:none\" />\n",
              "     <output id=\"result-dd9eb720-d7ee-4a58-b08f-260e877d2b16\">\n",
              "      Upload widget is only available when the cell has been executed in the\n",
              "      current browser session. Please rerun this cell to enable.\n",
              "      </output>\n",
              "      <script src=\"/nbextensions/google.colab/files.js\"></script> "
            ],
            "text/plain": [
              "<IPython.core.display.HTML object>"
            ]
          },
          "metadata": {
            "tags": []
          }
        },
        {
          "output_type": "stream",
          "text": [
            "Saving Consolidado_final_v2.xlsx to Consolidado_final_v2.xlsx\n"
          ],
          "name": "stdout"
        }
      ]
    },
    {
      "cell_type": "code",
      "metadata": {
        "colab": {
          "base_uri": "https://localhost:8080/",
          "height": 291
        },
        "id": "hC2EC9Jr-KMo",
        "outputId": "0b0b905c-e1ae-41a5-f1a1-1083e10a6a3c"
      },
      "source": [
        "archivo = pd.read_excel('Consolidado_final_v2.xlsx')\n",
        "archivo.head(3)"
      ],
      "execution_count": null,
      "outputs": [
        {
          "output_type": "execute_result",
          "data": {
            "text/html": [
              "<div>\n",
              "<style scoped>\n",
              "    .dataframe tbody tr th:only-of-type {\n",
              "        vertical-align: middle;\n",
              "    }\n",
              "\n",
              "    .dataframe tbody tr th {\n",
              "        vertical-align: top;\n",
              "    }\n",
              "\n",
              "    .dataframe thead th {\n",
              "        text-align: right;\n",
              "    }\n",
              "</style>\n",
              "<table border=\"1\" class=\"dataframe\">\n",
              "  <thead>\n",
              "    <tr style=\"text-align: right;\">\n",
              "      <th></th>\n",
              "      <th>Año</th>\n",
              "      <th>codigo</th>\n",
              "      <th>NOMBRE IES</th>\n",
              "      <th>NOMBRE CARRERA</th>\n",
              "      <th>TIPO INST 2</th>\n",
              "      <th>TIPO INST 3</th>\n",
              "      <th>REGION SEDE</th>\n",
              "      <th>COMUNA SEDE</th>\n",
              "      <th>AREA CARRERA GENERICA</th>\n",
              "      <th>AREA CONOCIMIENTO</th>\n",
              "      <th>n_24</th>\n",
              "      <th>n_25</th>\n",
              "      <th>n_26</th>\n",
              "      <th>n_Total</th>\n",
              "      <th>m_24</th>\n",
              "      <th>m_25</th>\n",
              "      <th>vacantes_1S</th>\n",
              "      <th>demanda_1</th>\n",
              "      <th>sobrecupos</th>\n",
              "      <th>Convocados</th>\n",
              "      <th>demanda_2</th>\n",
              "      <th>Muestra_2021</th>\n",
              "      <th>auxiliar_muestra</th>\n",
              "      <th>llena_vacante</th>\n",
              "      <th>llena_vacante2</th>\n",
              "      <th>Deficit</th>\n",
              "      <th>gratuidad</th>\n",
              "      <th>duracion</th>\n",
              "      <th>arancel_2021</th>\n",
              "      <th>arancel_anual</th>\n",
              "      <th>matricula_2021</th>\n",
              "      <th>PCT_NOTAS</th>\n",
              "      <th>PCT_RANKING</th>\n",
              "      <th>PCT_LENG</th>\n",
              "      <th>PCT_MATE</th>\n",
              "      <th>PCT_COLEGIO</th>\n",
              "      <th>RM</th>\n",
              "      <th>V</th>\n",
              "      <th>VIII</th>\n",
              "      <th>ingreso_1</th>\n",
              "      <th>ingreso_2</th>\n",
              "      <th>ingreso_3</th>\n",
              "      <th>ingreso_4</th>\n",
              "      <th>ingreso_5</th>\n",
              "      <th>emplea_1</th>\n",
              "      <th>emplea_2</th>\n",
              "      <th>acreditacion</th>\n",
              "    </tr>\n",
              "  </thead>\n",
              "  <tbody>\n",
              "    <tr>\n",
              "      <th>0</th>\n",
              "      <td>2019</td>\n",
              "      <td>11001</td>\n",
              "      <td>UNIVERSIDAD DE CHILE</td>\n",
              "      <td>ARQUITECTURA</td>\n",
              "      <td>Universidades CRUCH</td>\n",
              "      <td>Universidades Estatales CRUCH</td>\n",
              "      <td>REGION METROPOLITANA</td>\n",
              "      <td>SANTIAGO</td>\n",
              "      <td>Arquitectura</td>\n",
              "      <td>Arte y Arquitectura</td>\n",
              "      <td>311</td>\n",
              "      <td>277</td>\n",
              "      <td>451</td>\n",
              "      <td>1039</td>\n",
              "      <td>647.6</td>\n",
              "      <td>600.0</td>\n",
              "      <td>280</td>\n",
              "      <td>3.710714</td>\n",
              "      <td>30.0</td>\n",
              "      <td>310.0</td>\n",
              "      <td>3.351613</td>\n",
              "      <td>NO</td>\n",
              "      <td>NO</td>\n",
              "      <td>SI</td>\n",
              "      <td>1</td>\n",
              "      <td>0</td>\n",
              "      <td>1</td>\n",
              "      <td>12.0</td>\n",
              "      <td>4472200.0</td>\n",
              "      <td>4174900.0</td>\n",
              "      <td>149000.0</td>\n",
              "      <td>20</td>\n",
              "      <td>20</td>\n",
              "      <td>20</td>\n",
              "      <td>30</td>\n",
              "      <td>40</td>\n",
              "      <td>1</td>\n",
              "      <td>0</td>\n",
              "      <td>0</td>\n",
              "      <td>795871.710423</td>\n",
              "      <td>941552.758398</td>\n",
              "      <td>1.071521e+06</td>\n",
              "      <td>1.221897e+06</td>\n",
              "      <td>1.321313e+06</td>\n",
              "      <td>0.741593</td>\n",
              "      <td>0.817106</td>\n",
              "      <td>7</td>\n",
              "    </tr>\n",
              "    <tr>\n",
              "      <th>1</th>\n",
              "      <td>2019</td>\n",
              "      <td>11003</td>\n",
              "      <td>UNIVERSIDAD DE CHILE</td>\n",
              "      <td>ACTUACION TEATRAL</td>\n",
              "      <td>Universidades CRUCH</td>\n",
              "      <td>Universidades Estatales CRUCH</td>\n",
              "      <td>REGION METROPOLITANA</td>\n",
              "      <td>SANTIAGO</td>\n",
              "      <td>Actuación y Teatro</td>\n",
              "      <td>Arte y Arquitectura</td>\n",
              "      <td>23</td>\n",
              "      <td>21</td>\n",
              "      <td>15</td>\n",
              "      <td>59</td>\n",
              "      <td>687.9</td>\n",
              "      <td>612.8</td>\n",
              "      <td>23</td>\n",
              "      <td>2.565217</td>\n",
              "      <td>0.0</td>\n",
              "      <td>23.0</td>\n",
              "      <td>2.565217</td>\n",
              "      <td>NO</td>\n",
              "      <td>NO</td>\n",
              "      <td>SI</td>\n",
              "      <td>1</td>\n",
              "      <td>0</td>\n",
              "      <td>1</td>\n",
              "      <td>10.0</td>\n",
              "      <td>3756700.0</td>\n",
              "      <td>3273900.0</td>\n",
              "      <td>149000.0</td>\n",
              "      <td>10</td>\n",
              "      <td>20</td>\n",
              "      <td>30</td>\n",
              "      <td>15</td>\n",
              "      <td>30</td>\n",
              "      <td>1</td>\n",
              "      <td>0</td>\n",
              "      <td>0</td>\n",
              "      <td>576797.728865</td>\n",
              "      <td>626869.675583</td>\n",
              "      <td>7.334167e+05</td>\n",
              "      <td>8.081382e+05</td>\n",
              "      <td>8.758894e+05</td>\n",
              "      <td>0.273481</td>\n",
              "      <td>0.348315</td>\n",
              "      <td>7</td>\n",
              "    </tr>\n",
              "    <tr>\n",
              "      <th>2</th>\n",
              "      <td>2019</td>\n",
              "      <td>11004</td>\n",
              "      <td>UNIVERSIDAD DE CHILE</td>\n",
              "      <td>DISEÑO TEATRAL</td>\n",
              "      <td>Universidades CRUCH</td>\n",
              "      <td>Universidades Estatales CRUCH</td>\n",
              "      <td>REGION METROPOLITANA</td>\n",
              "      <td>SANTIAGO</td>\n",
              "      <td>Diseño Teatral</td>\n",
              "      <td>Arte y Arquitectura</td>\n",
              "      <td>28</td>\n",
              "      <td>7</td>\n",
              "      <td>33</td>\n",
              "      <td>68</td>\n",
              "      <td>606.5</td>\n",
              "      <td>600.2</td>\n",
              "      <td>23</td>\n",
              "      <td>2.956522</td>\n",
              "      <td>5.0</td>\n",
              "      <td>28.0</td>\n",
              "      <td>2.428571</td>\n",
              "      <td>NO</td>\n",
              "      <td>NO</td>\n",
              "      <td>SI</td>\n",
              "      <td>1</td>\n",
              "      <td>0</td>\n",
              "      <td>1</td>\n",
              "      <td>10.0</td>\n",
              "      <td>3756700.0</td>\n",
              "      <td>3273900.0</td>\n",
              "      <td>149000.0</td>\n",
              "      <td>10</td>\n",
              "      <td>20</td>\n",
              "      <td>25</td>\n",
              "      <td>20</td>\n",
              "      <td>30</td>\n",
              "      <td>1</td>\n",
              "      <td>0</td>\n",
              "      <td>0</td>\n",
              "      <td>NaN</td>\n",
              "      <td>NaN</td>\n",
              "      <td>NaN</td>\n",
              "      <td>NaN</td>\n",
              "      <td>NaN</td>\n",
              "      <td>NaN</td>\n",
              "      <td>NaN</td>\n",
              "      <td>7</td>\n",
              "    </tr>\n",
              "  </tbody>\n",
              "</table>\n",
              "</div>"
            ],
            "text/plain": [
              "    Año  codigo            NOMBRE IES  ...  emplea_1  emplea_2 acreditacion\n",
              "0  2019   11001  UNIVERSIDAD DE CHILE  ...  0.741593  0.817106            7\n",
              "1  2019   11003  UNIVERSIDAD DE CHILE  ...  0.273481  0.348315            7\n",
              "2  2019   11004  UNIVERSIDAD DE CHILE  ...       NaN       NaN            7\n",
              "\n",
              "[3 rows x 47 columns]"
            ]
          },
          "metadata": {
            "tags": []
          },
          "execution_count": 5
        }
      ]
    },
    {
      "cell_type": "code",
      "metadata": {
        "colab": {
          "base_uri": "https://localhost:8080/"
        },
        "id": "H1CjdYY6yzv-",
        "outputId": "c767345e-dcb0-4c31-e88c-885967fc088e"
      },
      "source": [
        "archivo.info()"
      ],
      "execution_count": null,
      "outputs": [
        {
          "output_type": "stream",
          "text": [
            "<class 'pandas.core.frame.DataFrame'>\n",
            "RangeIndex: 5542 entries, 0 to 5541\n",
            "Data columns (total 47 columns):\n",
            " #   Column                 Non-Null Count  Dtype  \n",
            "---  ------                 --------------  -----  \n",
            " 0   Año                    5542 non-null   int64  \n",
            " 1   codigo                 5542 non-null   int64  \n",
            " 2   NOMBRE IES             5542 non-null   object \n",
            " 3   NOMBRE CARRERA         5542 non-null   object \n",
            " 4   TIPO INST 2            5542 non-null   object \n",
            " 5   TIPO INST 3            5542 non-null   object \n",
            " 6   REGION SEDE            5542 non-null   object \n",
            " 7   COMUNA SEDE            5542 non-null   object \n",
            " 8   AREA CARRERA GENERICA  5542 non-null   object \n",
            " 9   AREA CONOCIMIENTO      5542 non-null   object \n",
            " 10  n_24                   5542 non-null   int64  \n",
            " 11  n_25                   5542 non-null   int64  \n",
            " 12  n_26                   5542 non-null   int64  \n",
            " 13  n_Total                5542 non-null   int64  \n",
            " 14  m_24                   5537 non-null   float64\n",
            " 15  m_25                   2757 non-null   float64\n",
            " 16  vacantes_1S            5542 non-null   int64  \n",
            " 17  demanda_1              5542 non-null   float64\n",
            " 18  sobrecupos             3632 non-null   float64\n",
            " 19  Convocados             3632 non-null   float64\n",
            " 20  demanda_2              3632 non-null   float64\n",
            " 21  Muestra_2021           3632 non-null   object \n",
            " 22  auxiliar_muestra       3632 non-null   object \n",
            " 23  llena_vacante          5542 non-null   object \n",
            " 24  llena_vacante2         5542 non-null   int64  \n",
            " 25  Deficit                5542 non-null   int64  \n",
            " 26  gratuidad              5542 non-null   int64  \n",
            " 27  duracion               5490 non-null   float64\n",
            " 28  arancel_2021           5490 non-null   float64\n",
            " 29  arancel_anual          5331 non-null   float64\n",
            " 30  matricula_2021         5490 non-null   float64\n",
            " 31  PCT_NOTAS              5542 non-null   int64  \n",
            " 32  PCT_RANKING            5542 non-null   int64  \n",
            " 33  PCT_LENG               5542 non-null   int64  \n",
            " 34  PCT_MATE               5542 non-null   int64  \n",
            " 35  PCT_COLEGIO            5542 non-null   int64  \n",
            " 36  RM                     5542 non-null   int64  \n",
            " 37  V                      5542 non-null   int64  \n",
            " 38  VIII                   5542 non-null   int64  \n",
            " 39  ingreso_1              4976 non-null   float64\n",
            " 40  ingreso_2              4976 non-null   float64\n",
            " 41  ingreso_3              4976 non-null   float64\n",
            " 42  ingreso_4              4976 non-null   float64\n",
            " 43  ingreso_5              4976 non-null   float64\n",
            " 44  emplea_1               4976 non-null   float64\n",
            " 45  emplea_2               4976 non-null   float64\n",
            " 46  acreditacion           5542 non-null   int64  \n",
            "dtypes: float64(17), int64(19), object(11)\n",
            "memory usage: 2.0+ MB\n"
          ],
          "name": "stdout"
        }
      ]
    },
    {
      "cell_type": "code",
      "metadata": {
        "id": "PyjEqzuJ-Nxg"
      },
      "source": [
        "archivo['Año'] = archivo['Año'].astype('category')\n",
        "archivo['AREA CONOCIMIENTO'] = archivo['AREA CONOCIMIENTO'].astype('category')"
      ],
      "execution_count": null,
      "outputs": []
    },
    {
      "cell_type": "markdown",
      "metadata": {
        "id": "FQKXw5ef__hO"
      },
      "source": [
        "##2. Elección de variables y construcción de Dataframes de entrenamiento y prueba"
      ]
    },
    {
      "cell_type": "markdown",
      "metadata": {
        "id": "Z8UchgugACtK"
      },
      "source": [
        "Las variables a utilizar para predecir si se llena una vacante serán:\n",
        "\n",
        "- Año: Año del proceso.\n",
        "- AREA CONOCIMIENTO: Área de conocimiento de la carrera según Mineduc.\n",
        "- acreditacion: Años de acreditación de la universidad.\n",
        "- gratuidad: Si la carrera tuvo gratuidad en el año.\n",
        "- vacantes: Vacantes informadas para la carrera **[Nuevo]**\n",
        "- duracion: duración en semestres de la carrera.\n",
        "- PCT_COLEGIO: Suma de las ponderaciones de NEM y ranking de notas que exige la carrera.\n",
        "- matricula_2021: Valor de la matrícula 2021 de la carrera (info SIES).\n",
        "- RM: Si la carrera es de la región metropolitana.\n",
        "- ingreso_3: Ingreso bruto al tercer año de la carrera (info SIES).\n",
        "- emplea_1: Tasa de empleabilidad al primer año de la carrera (info SIES)."
      ]
    },
    {
      "cell_type": "code",
      "metadata": {
        "id": "G3DNjYJW-QEW"
      },
      "source": [
        "#features = ['Año','AREA CONOCIMIENTO','acreditacion','gratuidad', 'duracion','PCT_COLEGIO','matricula_2021','RM','ingreso_3','emplea_1']\n",
        "features = ['Año','AREA CONOCIMIENTO','acreditacion','gratuidad', 'vacantes_1S','duracion','PCT_COLEGIO','matricula_2021','RM','V','VIII','ingreso_3','emplea_1']"
      ],
      "execution_count": null,
      "outputs": []
    },
    {
      "cell_type": "code",
      "metadata": {
        "id": "-fwbJ531-UFc"
      },
      "source": [
        "numeric = archivo[features].select_dtypes(include=['float64','int64','int32']).columns.to_list()\n",
        "\n",
        "imputer = IterativeImputer()\n",
        "data = imputer.fit_transform(archivo[numeric])\n",
        "nuevo_data = pd.DataFrame(data, columns=numeric)\n",
        "\n",
        "archivo['duracion'] = nuevo_data['duracion']\n",
        "archivo['matricula_2021'] = nuevo_data['matricula_2021']\n",
        "archivo['ingreso_3'] = nuevo_data['ingreso_3']\n",
        "archivo['emplea_1'] = nuevo_data['emplea_1']"
      ],
      "execution_count": null,
      "outputs": []
    },
    {
      "cell_type": "code",
      "metadata": {
        "colab": {
          "base_uri": "https://localhost:8080/"
        },
        "id": "c4LoJOOh-WXO",
        "outputId": "e0c2cc7e-82b2-465f-96cf-368d1ba82d26"
      },
      "source": [
        "archivo[features].info()"
      ],
      "execution_count": null,
      "outputs": [
        {
          "output_type": "stream",
          "text": [
            "<class 'pandas.core.frame.DataFrame'>\n",
            "RangeIndex: 5542 entries, 0 to 5541\n",
            "Data columns (total 13 columns):\n",
            " #   Column             Non-Null Count  Dtype   \n",
            "---  ------             --------------  -----   \n",
            " 0   Año                5542 non-null   category\n",
            " 1   AREA CONOCIMIENTO  5542 non-null   category\n",
            " 2   acreditacion       5542 non-null   int64   \n",
            " 3   gratuidad          5542 non-null   int64   \n",
            " 4   vacantes_1S        5542 non-null   int64   \n",
            " 5   duracion           5542 non-null   float64 \n",
            " 6   PCT_COLEGIO        5542 non-null   int64   \n",
            " 7   matricula_2021     5542 non-null   float64 \n",
            " 8   RM                 5542 non-null   int64   \n",
            " 9   V                  5542 non-null   int64   \n",
            " 10  VIII               5542 non-null   int64   \n",
            " 11  ingreso_3          5542 non-null   float64 \n",
            " 12  emplea_1           5542 non-null   float64 \n",
            "dtypes: category(2), float64(4), int64(7)\n",
            "memory usage: 487.7 KB\n"
          ],
          "name": "stdout"
        }
      ]
    },
    {
      "cell_type": "markdown",
      "metadata": {
        "id": "R-a5POJ1Hrau"
      },
      "source": [
        "La variable target Y es la demanda, que son los postulantes por vacantes ofrecidas."
      ]
    },
    {
      "cell_type": "code",
      "metadata": {
        "id": "3tfElAgY-ZAR"
      },
      "source": [
        "X = archivo[features]\n",
        "y = archivo['demanda_1']"
      ],
      "execution_count": null,
      "outputs": []
    },
    {
      "cell_type": "markdown",
      "metadata": {
        "id": "6hxWurTAAoEW"
      },
      "source": [
        "Se separa el archivo en dos: uno para entrenar el modelo y en otra para probarlo. La muestra de prueba será del 14% de la muestra total y con ello se tendrán 4766 observaciones para entrenar el modelo y 776 para probarlo."
      ]
    },
    {
      "cell_type": "code",
      "metadata": {
        "id": "6L-oiT_h-owJ"
      },
      "source": [
        "X_train, X_test, y_train, y_test = train_test_split(X,y,test_size=0.14, random_state=0)"
      ],
      "execution_count": null,
      "outputs": []
    },
    {
      "cell_type": "code",
      "metadata": {
        "colab": {
          "base_uri": "https://localhost:8080/"
        },
        "id": "fDPdM_K1-xyL",
        "outputId": "6d6b62db-233d-4996-d7e0-c20f36388370"
      },
      "source": [
        "X_train.shape, X_test.shape"
      ],
      "execution_count": null,
      "outputs": [
        {
          "output_type": "execute_result",
          "data": {
            "text/plain": [
              "((4766, 13), (776, 13))"
            ]
          },
          "metadata": {
            "tags": []
          },
          "execution_count": 40
        }
      ]
    },
    {
      "cell_type": "code",
      "metadata": {
        "colab": {
          "base_uri": "https://localhost:8080/"
        },
        "id": "qpq1r895-z9m",
        "outputId": "a601f394-4c9e-48ad-f1f3-4bb93958975d"
      },
      "source": [
        "# Se identifica el nombre de las columnas numéricas y categóricas\n",
        "cat_cols = X_train.select_dtypes(include=['object', 'category']).columns.to_list()\n",
        "numeric_cols = X_train.select_dtypes(include=['float64', 'int64','int32']).columns.to_list()\n",
        "\n",
        "# Se aplica one-hot-encoding solo a las columnas categóricas, se estandarizan las numéricas.\n",
        "preprocessor = ColumnTransformer(\n",
        "                    [('scale', StandardScaler(), numeric_cols),\n",
        "                    ('onehot', OneHotEncoder(handle_unknown='ignore'), cat_cols)],\n",
        "                    remainder='passthrough')\n",
        "\n",
        "X_train_prep = preprocessor.fit_transform(X_train)\n",
        "X_test_prep  = preprocessor.transform(X_test)\n",
        "\n",
        "# Convertir el output del ColumnTransformer en dataframe y añadir el nombre de las columnas\n",
        "# Nombre de todas las columnas\n",
        "encoded_cat = preprocessor.named_transformers_['onehot'].get_feature_names(cat_cols)\n",
        "labels = np.concatenate([encoded_cat,numeric_cols])\n",
        "\n",
        "# Conversión a dataframe\n",
        "X_train_prep = pd.DataFrame(X_train_prep, columns=labels) #pd.DataFrame.sparse.from_spmatrix\n",
        "X_test_prep  = pd.DataFrame(X_test_prep, columns=labels)\n",
        "X_train_prep.info()"
      ],
      "execution_count": null,
      "outputs": [
        {
          "output_type": "stream",
          "text": [
            "<class 'pandas.core.frame.DataFrame'>\n",
            "RangeIndex: 4766 entries, 0 to 4765\n",
            "Data columns (total 24 columns):\n",
            " #   Column                                       Non-Null Count  Dtype  \n",
            "---  ------                                       --------------  -----  \n",
            " 0   Año_2019                                     4766 non-null   float64\n",
            " 1   Año_2020                                     4766 non-null   float64\n",
            " 2   Año_2021                                     4766 non-null   float64\n",
            " 3   AREA CONOCIMIENTO_Administración y Comercio  4766 non-null   float64\n",
            " 4   AREA CONOCIMIENTO_Agropecuaria               4766 non-null   float64\n",
            " 5   AREA CONOCIMIENTO_Arte y Arquitectura        4766 non-null   float64\n",
            " 6   AREA CONOCIMIENTO_Ciencias Básicas           4766 non-null   float64\n",
            " 7   AREA CONOCIMIENTO_Ciencias Sociales          4766 non-null   float64\n",
            " 8   AREA CONOCIMIENTO_Derecho                    4766 non-null   float64\n",
            " 9   AREA CONOCIMIENTO_Educación                  4766 non-null   float64\n",
            " 10  AREA CONOCIMIENTO_Humanidades                4766 non-null   float64\n",
            " 11  AREA CONOCIMIENTO_Salud                      4766 non-null   float64\n",
            " 12  AREA CONOCIMIENTO_Tecnología                 4766 non-null   float64\n",
            " 13  acreditacion                                 4766 non-null   float64\n",
            " 14  gratuidad                                    4766 non-null   float64\n",
            " 15  vacantes_1S                                  4766 non-null   float64\n",
            " 16  duracion                                     4766 non-null   float64\n",
            " 17  PCT_COLEGIO                                  4766 non-null   float64\n",
            " 18  matricula_2021                               4766 non-null   float64\n",
            " 19  RM                                           4766 non-null   float64\n",
            " 20  V                                            4766 non-null   float64\n",
            " 21  VIII                                         4766 non-null   float64\n",
            " 22  ingreso_3                                    4766 non-null   float64\n",
            " 23  emplea_1                                     4766 non-null   float64\n",
            "dtypes: float64(24)\n",
            "memory usage: 893.8 KB\n"
          ],
          "name": "stdout"
        }
      ]
    },
    {
      "cell_type": "markdown",
      "metadata": {
        "id": "HLdTncP6_3vO"
      },
      "source": [
        "##3. Entrenamiento de modelos"
      ]
    },
    {
      "cell_type": "code",
      "metadata": {
        "colab": {
          "base_uri": "https://localhost:8080/",
          "height": 425
        },
        "id": "uRpgH_fZ-46L",
        "outputId": "20fef15c-1683-482b-f004-3e7c4dc9cbbb"
      },
      "source": [
        "score_train =[]\n",
        "score_test = []\n",
        "MSE_train = [] #mean squared error\n",
        "MSE_test = []\n",
        "\n",
        "names = ['CatBoost', 'XGBoost','LightGBM', 'Decision Tree', 'Random Forest', 'Support Vector Machine',\n",
        "         'AdaBoost', 'Gradient Boosting', 'K Neighbors', 'Extra Trees', 'Lineal Regression', 'Neural Network']\n",
        "\n",
        "models = [cb.CatBoostRegressor(silent=True), xgb.XGBRegressor(),lgb.LGBMRegressor(), DecisionTreeRegressor(),\n",
        "          RandomForestRegressor(), SVR(), AdaBoostRegressor(), GradientBoostingRegressor(), KNeighborsRegressor(), ExtraTreesRegressor(), LinearRegression(),\n",
        "          MLPRegressor()]\n",
        "\n",
        "\n",
        "for model in zip(names, models):\n",
        "  model[1].fit(X_train_prep, y_train)\n",
        "  score_train.append(model[1].score(X_train_prep,y_train))\n",
        "  score_test.append(model[1].score(X_test_prep,y_test))\n",
        "\n",
        "  MSE_train.append(mean_squared_error(y_train, model[1].predict(X_train_prep)))\n",
        "  MSE_test.append(mean_squared_error(y_test, model[1].predict(X_test_prep)))\n",
        "\n",
        "pd.DataFrame({'Modelo':names,\n",
        "              'R2 Train':score_train,\n",
        "              'R2 Test': score_test,\n",
        "              'MSE Train': MSE_train,\n",
        "              'MSE Test': MSE_test}).sort_values('R2 Test', ascending=False)"
      ],
      "execution_count": null,
      "outputs": [
        {
          "output_type": "stream",
          "text": [
            "[20:16:17] WARNING: /workspace/src/objective/regression_obj.cu:152: reg:linear is now deprecated in favor of reg:squarederror.\n"
          ],
          "name": "stdout"
        },
        {
          "output_type": "execute_result",
          "data": {
            "text/html": [
              "<div>\n",
              "<style scoped>\n",
              "    .dataframe tbody tr th:only-of-type {\n",
              "        vertical-align: middle;\n",
              "    }\n",
              "\n",
              "    .dataframe tbody tr th {\n",
              "        vertical-align: top;\n",
              "    }\n",
              "\n",
              "    .dataframe thead th {\n",
              "        text-align: right;\n",
              "    }\n",
              "</style>\n",
              "<table border=\"1\" class=\"dataframe\">\n",
              "  <thead>\n",
              "    <tr style=\"text-align: right;\">\n",
              "      <th></th>\n",
              "      <th>Modelo</th>\n",
              "      <th>R2 Train</th>\n",
              "      <th>R2 Test</th>\n",
              "      <th>MSE Train</th>\n",
              "      <th>MSE Test</th>\n",
              "    </tr>\n",
              "  </thead>\n",
              "  <tbody>\n",
              "    <tr>\n",
              "      <th>0</th>\n",
              "      <td>CatBoost</td>\n",
              "      <td>0.891482</td>\n",
              "      <td>0.778100</td>\n",
              "      <td>1.912587</td>\n",
              "      <td>3.267301</td>\n",
              "    </tr>\n",
              "    <tr>\n",
              "      <th>4</th>\n",
              "      <td>Random Forest</td>\n",
              "      <td>0.964697</td>\n",
              "      <td>0.745201</td>\n",
              "      <td>0.622204</td>\n",
              "      <td>3.751714</td>\n",
              "    </tr>\n",
              "    <tr>\n",
              "      <th>9</th>\n",
              "      <td>Extra Trees</td>\n",
              "      <td>0.995011</td>\n",
              "      <td>0.741006</td>\n",
              "      <td>0.087932</td>\n",
              "      <td>3.813476</td>\n",
              "    </tr>\n",
              "    <tr>\n",
              "      <th>2</th>\n",
              "      <td>LightGBM</td>\n",
              "      <td>0.845473</td>\n",
              "      <td>0.701353</td>\n",
              "      <td>2.723485</td>\n",
              "      <td>4.397328</td>\n",
              "    </tr>\n",
              "    <tr>\n",
              "      <th>3</th>\n",
              "      <td>Decision Tree</td>\n",
              "      <td>0.995011</td>\n",
              "      <td>0.620368</td>\n",
              "      <td>0.087932</td>\n",
              "      <td>5.589771</td>\n",
              "    </tr>\n",
              "    <tr>\n",
              "      <th>7</th>\n",
              "      <td>Gradient Boosting</td>\n",
              "      <td>0.646524</td>\n",
              "      <td>0.580703</td>\n",
              "      <td>6.229891</td>\n",
              "      <td>6.173801</td>\n",
              "    </tr>\n",
              "    <tr>\n",
              "      <th>1</th>\n",
              "      <td>XGBoost</td>\n",
              "      <td>0.637818</td>\n",
              "      <td>0.573911</td>\n",
              "      <td>6.383327</td>\n",
              "      <td>6.273809</td>\n",
              "    </tr>\n",
              "    <tr>\n",
              "      <th>11</th>\n",
              "      <td>Neural Network</td>\n",
              "      <td>0.657071</td>\n",
              "      <td>0.533453</td>\n",
              "      <td>6.044005</td>\n",
              "      <td>6.869517</td>\n",
              "    </tr>\n",
              "    <tr>\n",
              "      <th>8</th>\n",
              "      <td>K Neighbors</td>\n",
              "      <td>0.678357</td>\n",
              "      <td>0.477507</td>\n",
              "      <td>5.668838</td>\n",
              "      <td>7.693283</td>\n",
              "    </tr>\n",
              "    <tr>\n",
              "      <th>5</th>\n",
              "      <td>Support Vector Machine</td>\n",
              "      <td>0.438997</td>\n",
              "      <td>0.397740</td>\n",
              "      <td>9.887475</td>\n",
              "      <td>8.867791</td>\n",
              "    </tr>\n",
              "    <tr>\n",
              "      <th>10</th>\n",
              "      <td>Lineal Regression</td>\n",
              "      <td>0.315631</td>\n",
              "      <td>0.273815</td>\n",
              "      <td>12.061758</td>\n",
              "      <td>10.692475</td>\n",
              "    </tr>\n",
              "    <tr>\n",
              "      <th>6</th>\n",
              "      <td>AdaBoost</td>\n",
              "      <td>0.258471</td>\n",
              "      <td>0.031834</td>\n",
              "      <td>13.069181</td>\n",
              "      <td>14.255448</td>\n",
              "    </tr>\n",
              "  </tbody>\n",
              "</table>\n",
              "</div>"
            ],
            "text/plain": [
              "                    Modelo  R2 Train   R2 Test  MSE Train   MSE Test\n",
              "0                 CatBoost  0.891482  0.778100   1.912587   3.267301\n",
              "4            Random Forest  0.964697  0.745201   0.622204   3.751714\n",
              "9              Extra Trees  0.995011  0.741006   0.087932   3.813476\n",
              "2                 LightGBM  0.845473  0.701353   2.723485   4.397328\n",
              "3            Decision Tree  0.995011  0.620368   0.087932   5.589771\n",
              "7        Gradient Boosting  0.646524  0.580703   6.229891   6.173801\n",
              "1                  XGBoost  0.637818  0.573911   6.383327   6.273809\n",
              "11          Neural Network  0.657071  0.533453   6.044005   6.869517\n",
              "8              K Neighbors  0.678357  0.477507   5.668838   7.693283\n",
              "5   Support Vector Machine  0.438997  0.397740   9.887475   8.867791\n",
              "10       Lineal Regression  0.315631  0.273815  12.061758  10.692475\n",
              "6                 AdaBoost  0.258471  0.031834  13.069181  14.255448"
            ]
          },
          "metadata": {
            "tags": []
          },
          "execution_count": 42
        }
      ]
    },
    {
      "cell_type": "markdown",
      "metadata": {
        "id": "ecUW74qYA0S_"
      },
      "source": [
        "##4. Validación de modelo elegido"
      ]
    },
    {
      "cell_type": "markdown",
      "metadata": {
        "id": "a4SFHMSkA5rE"
      },
      "source": [
        "En adelante se trabajará con Catboost por tener mejor rendimiento en la muestra de prueba con alrededor de 72% de score (análogamente alcanzando el mínimo MSE)."
      ]
    },
    {
      "cell_type": "code",
      "metadata": {
        "colab": {
          "base_uri": "https://localhost:8080/"
        },
        "id": "5gbnyNdXvWiQ",
        "outputId": "b97866c8-c355-434d-a230-f84f388dc5b0"
      },
      "source": [
        "model = cb.CatBoostRegressor(silent=True)\n",
        "model.fit(X_train_prep,y_train)\n",
        "\n",
        "y_pred = model.predict(X_test_prep)\n",
        "\n",
        "model.score(X_test_prep,y_test)"
      ],
      "execution_count": null,
      "outputs": [
        {
          "output_type": "execute_result",
          "data": {
            "text/plain": [
              "0.7780996924015794"
            ]
          },
          "metadata": {
            "tags": []
          },
          "execution_count": 43
        }
      ]
    },
    {
      "cell_type": "code",
      "metadata": {
        "colab": {
          "base_uri": "https://localhost:8080/",
          "height": 767
        },
        "id": "4lR-ykC5z-vC",
        "outputId": "40366465-acf1-4942-bed9-b63fc285e357"
      },
      "source": [
        "importancia_predictores = pd.DataFrame(\n",
        "                            {'predictor': X_train_prep.columns,\n",
        "                             'importancia': model.feature_importances_}\n",
        "                            )\n",
        "importancia_predictores.sort_values('importancia', ascending=False)"
      ],
      "execution_count": null,
      "outputs": [
        {
          "output_type": "execute_result",
          "data": {
            "text/html": [
              "<div>\n",
              "<style scoped>\n",
              "    .dataframe tbody tr th:only-of-type {\n",
              "        vertical-align: middle;\n",
              "    }\n",
              "\n",
              "    .dataframe tbody tr th {\n",
              "        vertical-align: top;\n",
              "    }\n",
              "\n",
              "    .dataframe thead th {\n",
              "        text-align: right;\n",
              "    }\n",
              "</style>\n",
              "<table border=\"1\" class=\"dataframe\">\n",
              "  <thead>\n",
              "    <tr style=\"text-align: right;\">\n",
              "      <th></th>\n",
              "      <th>predictor</th>\n",
              "      <th>importancia</th>\n",
              "    </tr>\n",
              "  </thead>\n",
              "  <tbody>\n",
              "    <tr>\n",
              "      <th>5</th>\n",
              "      <td>AREA CONOCIMIENTO_Arte y Arquitectura</td>\n",
              "      <td>14.719884</td>\n",
              "    </tr>\n",
              "    <tr>\n",
              "      <th>3</th>\n",
              "      <td>AREA CONOCIMIENTO_Administración y Comercio</td>\n",
              "      <td>13.594693</td>\n",
              "    </tr>\n",
              "    <tr>\n",
              "      <th>10</th>\n",
              "      <td>AREA CONOCIMIENTO_Humanidades</td>\n",
              "      <td>13.432339</td>\n",
              "    </tr>\n",
              "    <tr>\n",
              "      <th>22</th>\n",
              "      <td>ingreso_3</td>\n",
              "      <td>10.556772</td>\n",
              "    </tr>\n",
              "    <tr>\n",
              "      <th>9</th>\n",
              "      <td>AREA CONOCIMIENTO_Educación</td>\n",
              "      <td>9.904208</td>\n",
              "    </tr>\n",
              "    <tr>\n",
              "      <th>2</th>\n",
              "      <td>Año_2021</td>\n",
              "      <td>8.668480</td>\n",
              "    </tr>\n",
              "    <tr>\n",
              "      <th>0</th>\n",
              "      <td>Año_2019</td>\n",
              "      <td>6.707161</td>\n",
              "    </tr>\n",
              "    <tr>\n",
              "      <th>6</th>\n",
              "      <td>AREA CONOCIMIENTO_Ciencias Básicas</td>\n",
              "      <td>3.990373</td>\n",
              "    </tr>\n",
              "    <tr>\n",
              "      <th>1</th>\n",
              "      <td>Año_2020</td>\n",
              "      <td>3.708080</td>\n",
              "    </tr>\n",
              "    <tr>\n",
              "      <th>4</th>\n",
              "      <td>AREA CONOCIMIENTO_Agropecuaria</td>\n",
              "      <td>3.507233</td>\n",
              "    </tr>\n",
              "    <tr>\n",
              "      <th>23</th>\n",
              "      <td>emplea_1</td>\n",
              "      <td>1.779285</td>\n",
              "    </tr>\n",
              "    <tr>\n",
              "      <th>13</th>\n",
              "      <td>acreditacion</td>\n",
              "      <td>1.741977</td>\n",
              "    </tr>\n",
              "    <tr>\n",
              "      <th>18</th>\n",
              "      <td>matricula_2021</td>\n",
              "      <td>1.594461</td>\n",
              "    </tr>\n",
              "    <tr>\n",
              "      <th>11</th>\n",
              "      <td>AREA CONOCIMIENTO_Salud</td>\n",
              "      <td>1.549418</td>\n",
              "    </tr>\n",
              "    <tr>\n",
              "      <th>20</th>\n",
              "      <td>V</td>\n",
              "      <td>1.371881</td>\n",
              "    </tr>\n",
              "    <tr>\n",
              "      <th>8</th>\n",
              "      <td>AREA CONOCIMIENTO_Derecho</td>\n",
              "      <td>1.153053</td>\n",
              "    </tr>\n",
              "    <tr>\n",
              "      <th>17</th>\n",
              "      <td>PCT_COLEGIO</td>\n",
              "      <td>0.562869</td>\n",
              "    </tr>\n",
              "    <tr>\n",
              "      <th>14</th>\n",
              "      <td>gratuidad</td>\n",
              "      <td>0.342722</td>\n",
              "    </tr>\n",
              "    <tr>\n",
              "      <th>7</th>\n",
              "      <td>AREA CONOCIMIENTO_Ciencias Sociales</td>\n",
              "      <td>0.308707</td>\n",
              "    </tr>\n",
              "    <tr>\n",
              "      <th>16</th>\n",
              "      <td>duracion</td>\n",
              "      <td>0.220820</td>\n",
              "    </tr>\n",
              "    <tr>\n",
              "      <th>15</th>\n",
              "      <td>vacantes_1S</td>\n",
              "      <td>0.196439</td>\n",
              "    </tr>\n",
              "    <tr>\n",
              "      <th>19</th>\n",
              "      <td>RM</td>\n",
              "      <td>0.180984</td>\n",
              "    </tr>\n",
              "    <tr>\n",
              "      <th>21</th>\n",
              "      <td>VIII</td>\n",
              "      <td>0.142272</td>\n",
              "    </tr>\n",
              "    <tr>\n",
              "      <th>12</th>\n",
              "      <td>AREA CONOCIMIENTO_Tecnología</td>\n",
              "      <td>0.065891</td>\n",
              "    </tr>\n",
              "  </tbody>\n",
              "</table>\n",
              "</div>"
            ],
            "text/plain": [
              "                                      predictor  importancia\n",
              "5         AREA CONOCIMIENTO_Arte y Arquitectura    14.719884\n",
              "3   AREA CONOCIMIENTO_Administración y Comercio    13.594693\n",
              "10                AREA CONOCIMIENTO_Humanidades    13.432339\n",
              "22                                    ingreso_3    10.556772\n",
              "9                   AREA CONOCIMIENTO_Educación     9.904208\n",
              "2                                      Año_2021     8.668480\n",
              "0                                      Año_2019     6.707161\n",
              "6            AREA CONOCIMIENTO_Ciencias Básicas     3.990373\n",
              "1                                      Año_2020     3.708080\n",
              "4                AREA CONOCIMIENTO_Agropecuaria     3.507233\n",
              "23                                     emplea_1     1.779285\n",
              "13                                 acreditacion     1.741977\n",
              "18                               matricula_2021     1.594461\n",
              "11                      AREA CONOCIMIENTO_Salud     1.549418\n",
              "20                                            V     1.371881\n",
              "8                     AREA CONOCIMIENTO_Derecho     1.153053\n",
              "17                                  PCT_COLEGIO     0.562869\n",
              "14                                    gratuidad     0.342722\n",
              "7           AREA CONOCIMIENTO_Ciencias Sociales     0.308707\n",
              "16                                     duracion     0.220820\n",
              "15                                  vacantes_1S     0.196439\n",
              "19                                           RM     0.180984\n",
              "21                                         VIII     0.142272\n",
              "12                 AREA CONOCIMIENTO_Tecnología     0.065891"
            ]
          },
          "metadata": {
            "tags": []
          },
          "execution_count": 44
        }
      ]
    },
    {
      "cell_type": "markdown",
      "metadata": {
        "id": "55CAins9_9mg"
      },
      "source": [
        "**Gráfico de ajuste del modelo**"
      ]
    },
    {
      "cell_type": "code",
      "metadata": {
        "colab": {
          "base_uri": "https://localhost:8080/",
          "height": 462
        },
        "id": "NjLaweBM4sQO",
        "outputId": "acc7e29c-4c55-40d4-b8be-62791430d2c5"
      },
      "source": [
        "plt.figure(figsize=(10,7))\n",
        "sb.scatterplot(x=y_pred,y=y_test)\n",
        "sb.lineplot(x=y_pred, y=y_pred, color='#348ABD', linewidth=3)\n",
        "\n",
        "plt.title('Valor Real vs Predicho de la demanda (muestra de prueba) n=504')\n",
        "plt.xlabel('Valor Predicho')\n",
        "plt.ylabel('Valor Real');"
      ],
      "execution_count": null,
      "outputs": [
        {
          "output_type": "display_data",
          "data": {
            "image/png": "[encoded data removed]",
            "text/plain": [
              "<Figure size 720x504 with 1 Axes>"
            ]
          },
          "metadata": {
            "tags": []
          }
        }
      ]
    },
    {
      "cell_type": "markdown",
      "metadata": {
        "id": "zyOn6rKZtUfu"
      },
      "source": [
        "#Ejemplos"
      ]
    },
    {
      "cell_type": "markdown",
      "metadata": {
        "id": "k9e9qvGeH9EL"
      },
      "source": [
        "Ejemplo de carrera de salud de 10 semestres sin gratuidad. El modelo entrega 9,4 postulantes por vacantes."
      ]
    },
    {
      "cell_type": "code",
      "metadata": {
        "colab": {
          "base_uri": "https://localhost:8080/"
        },
        "id": "prPNEympqWtR",
        "outputId": "0992b131-7875-4667-e6ef-42f74a00cc16"
      },
      "source": [
        "prueba = pd.DataFrame({'Año': [2021],\n",
        "                       'AREA CONOCIMIENTO':['Salud'],\n",
        "                       'acreditacion':[4],\n",
        "                       'gratuidad':[0],\n",
        "                       'vacantes_1S':[60], #60 es como el promedio del ultimo año\n",
        "                       'duracion':[10],\n",
        "                       'PCT_COLEGIO':[50],\n",
        "                       'matricula_2021':[170000],\n",
        "                       'RM':[1],\n",
        "                       'V':[0],\n",
        "                       'VIII':[0],\n",
        "                       'ingreso_3':[1255000],\n",
        "                       'emplea_1':[0.665]})\n",
        "\n",
        "X_prueba_prep  = preprocessor.transform(prueba)\n",
        "model.predict(X_prueba_prep)[0]"
      ],
      "execution_count": null,
      "outputs": [
        {
          "output_type": "execute_result",
          "data": {
            "text/plain": [
              "9.444961750852489"
            ]
          },
          "metadata": {
            "tags": []
          },
          "execution_count": 49
        }
      ]
    },
    {
      "cell_type": "markdown",
      "metadata": {
        "id": "lZjhnPm6IJKB"
      },
      "source": [
        "Ejemplo de carrera de salud de 5 semestres. El modelo entrega 5,6 postulantes por vacantes."
      ]
    },
    {
      "cell_type": "code",
      "metadata": {
        "colab": {
          "base_uri": "https://localhost:8080/"
        },
        "id": "8kV3c5hErXvU",
        "outputId": "505fc321-6b39-4c48-d817-a9d9c658c532"
      },
      "source": [
        "prueba2 = pd.DataFrame({'Año': [2021],\n",
        "                       'AREA CONOCIMIENTO':['Salud'],\n",
        "                      'acreditacion':[4], #4 años de acreditacion\n",
        "                       'gratuidad':[0],\n",
        "                       'vacantes_1S':[60],\n",
        "                       'duracion':[5],\n",
        "                       'PCT_COLEGIO':[50],\n",
        "                       'matricula_2021':[200000],\n",
        "                       'RM':[1],\n",
        "                        'V':[0],\n",
        "                        'VIII':[0],\n",
        "                       'ingreso_3':[544000],\n",
        "                       'emplea_1':[0.44]})\n",
        "\n",
        "X_prueba2_prep  = preprocessor.transform(prueba2)\n",
        "model.predict(X_prueba2_prep)[0]"
      ],
      "execution_count": null,
      "outputs": [
        {
          "output_type": "execute_result",
          "data": {
            "text/plain": [
              "5.673399448773788"
            ]
          },
          "metadata": {
            "tags": []
          },
          "execution_count": 50
        }
      ]
    },
    {
      "cell_type": "code",
      "metadata": {
        "colab": {
          "resources": {
            "http://localhost:8080/nbextensions/google.colab/files.js": {
              "data": "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",
              "ok": true,
              "headers": [
                [
                  "content-type",
                  "application/javascript"
                ]
              ],
              "status": 200,
              "status_text": ""
            }
          },
          "base_uri": "https://localhost:8080/",
          "height": 73
        },
        "id": "rMtlwjMlr2zI",
        "outputId": "d5b40bf7-fa25-419a-c119-0426c3795e04"
      },
      "source": [
        "from google.colab import files\n",
        "carga = files.upload()"
      ],
      "execution_count": null,
      "outputs": [
        {
          "output_type": "display_data",
          "data": {
            "text/html": [
              "\n",
              "     <input type=\"file\" id=\"files-14cafae7-1f5c-498f-ae67-c1edc9fdeb7c\" name=\"files[]\" multiple disabled\n",
              "        style=\"border:none\" />\n",
              "     <output id=\"result-14cafae7-1f5c-498f-ae67-c1edc9fdeb7c\">\n",
              "      Upload widget is only available when the cell has been executed in the\n",
              "      current browser session. Please rerun this cell to enable.\n",
              "      </output>\n",
              "      <script src=\"/nbextensions/google.colab/files.js\"></script> "
            ],
            "text/plain": [
              "<IPython.core.display.HTML object>"
            ]
          },
          "metadata": {
            "tags": []
          }
        },
        {
          "output_type": "stream",
          "text": [
            "Saving ejemplo_UDLA_reg.xlsx to ejemplo_UDLA_reg.xlsx\n"
          ],
          "name": "stdout"
        }
      ]
    },
    {
      "cell_type": "code",
      "metadata": {
        "colab": {
          "base_uri": "https://localhost:8080/",
          "height": 221
        },
        "id": "7TdFcdaVr9iJ",
        "outputId": "082b7b1d-17b6-471a-889c-7ba0b366cd19"
      },
      "source": [
        "udla = pd.read_excel('ejemplo_UDLA_reg.xlsx')\n",
        "udla.head(3) #ejemplo de 3 observaciones"
      ],
      "execution_count": null,
      "outputs": [
        {
          "output_type": "execute_result",
          "data": {
            "text/html": [
              "<div>\n",
              "<style scoped>\n",
              "    .dataframe tbody tr th:only-of-type {\n",
              "        vertical-align: middle;\n",
              "    }\n",
              "\n",
              "    .dataframe tbody tr th {\n",
              "        vertical-align: top;\n",
              "    }\n",
              "\n",
              "    .dataframe thead th {\n",
              "        text-align: right;\n",
              "    }\n",
              "</style>\n",
              "<table border=\"1\" class=\"dataframe\">\n",
              "  <thead>\n",
              "    <tr style=\"text-align: right;\">\n",
              "      <th></th>\n",
              "      <th>Año</th>\n",
              "      <th>NOMBRE CARRERA</th>\n",
              "      <th>AREA CARRERA GENERICA</th>\n",
              "      <th>AREA CONOCIMIENTO</th>\n",
              "      <th>gratuidad</th>\n",
              "      <th>duracion</th>\n",
              "      <th>PCT_COLEGIO</th>\n",
              "      <th>matricula_2021</th>\n",
              "      <th>RM</th>\n",
              "      <th>V</th>\n",
              "      <th>VIII</th>\n",
              "      <th>ingreso_3</th>\n",
              "      <th>emplea_1</th>\n",
              "      <th>acreditacion</th>\n",
              "      <th>vacantes_1S</th>\n",
              "    </tr>\n",
              "  </thead>\n",
              "  <tbody>\n",
              "    <tr>\n",
              "      <th>0</th>\n",
              "      <td>2021</td>\n",
              "      <td>INGENIERIA DE EJECUCION EN ADMINISTRACION DE E...</td>\n",
              "      <td>Administración de Empresas e Ing. Asociadas</td>\n",
              "      <td>Administración y Comercio</td>\n",
              "      <td>0</td>\n",
              "      <td>8</td>\n",
              "      <td>40</td>\n",
              "      <td>170000</td>\n",
              "      <td>1</td>\n",
              "      <td>0</td>\n",
              "      <td>0</td>\n",
              "      <td>1.129011e+06</td>\n",
              "      <td>0.772107</td>\n",
              "      <td>4</td>\n",
              "      <td>60</td>\n",
              "    </tr>\n",
              "    <tr>\n",
              "      <th>1</th>\n",
              "      <td>2021</td>\n",
              "      <td>CONSTRUCCION CIVIL</td>\n",
              "      <td>Construcción Civil</td>\n",
              "      <td>Tecnología</td>\n",
              "      <td>0</td>\n",
              "      <td>9</td>\n",
              "      <td>40</td>\n",
              "      <td>170000</td>\n",
              "      <td>1</td>\n",
              "      <td>0</td>\n",
              "      <td>0</td>\n",
              "      <td>1.353673e+06</td>\n",
              "      <td>0.860196</td>\n",
              "      <td>4</td>\n",
              "      <td>60</td>\n",
              "    </tr>\n",
              "    <tr>\n",
              "      <th>2</th>\n",
              "      <td>2021</td>\n",
              "      <td>INGENIERIA DE EJECUCION EN INFORMATICA</td>\n",
              "      <td>Ingeniería en Computación e Informática</td>\n",
              "      <td>Tecnología</td>\n",
              "      <td>0</td>\n",
              "      <td>8</td>\n",
              "      <td>40</td>\n",
              "      <td>160000</td>\n",
              "      <td>1</td>\n",
              "      <td>0</td>\n",
              "      <td>0</td>\n",
              "      <td>1.243573e+06</td>\n",
              "      <td>0.828190</td>\n",
              "      <td>4</td>\n",
              "      <td>60</td>\n",
              "    </tr>\n",
              "  </tbody>\n",
              "</table>\n",
              "</div>"
            ],
            "text/plain": [
              "    Año  ... vacantes_1S\n",
              "0  2021  ...          60\n",
              "1  2021  ...          60\n",
              "2  2021  ...          60\n",
              "\n",
              "[3 rows x 15 columns]"
            ]
          },
          "metadata": {
            "tags": []
          },
          "execution_count": 53
        }
      ]
    },
    {
      "cell_type": "code",
      "metadata": {
        "id": "8FgS5k-Ur_3f"
      },
      "source": [
        "udla_data = preprocessor.transform(udla[features])\n",
        "\n",
        "pronostico_demanda = model.predict(udla_data)\n",
        "\n",
        "udla['pronostico'] = pronostico_demanda\n",
        "\n",
        "udla.to_excel('udla_predict.xlsx')"
      ],
      "execution_count": null,
      "outputs": []
    },
    {
      "cell_type": "markdown",
      "metadata": {
        "id": "aMkc_kUaIPmp"
      },
      "source": [
        "Ejemplo de demanda de carreras UDLA con y sin gratuidad en región metropolitana:"
      ]
    },
    {
      "cell_type": "code",
      "metadata": {
        "colab": {
          "base_uri": "https://localhost:8080/",
          "height": 527
        },
        "id": "NfA1tGb3sk-u",
        "outputId": "d0c3254a-c067-46a1-b801-2386a1d79789"
      },
      "source": [
        "udla.pivot_table(index='NOMBRE CARRERA', columns=['gratuidad'],  values='pronostico', aggfunc=np.mean)"
      ],
      "execution_count": null,
      "outputs": [
        {
          "output_type": "execute_result",
          "data": {
            "text/html": [
              "<div>\n",
              "<style scoped>\n",
              "    .dataframe tbody tr th:only-of-type {\n",
              "        vertical-align: middle;\n",
              "    }\n",
              "\n",
              "    .dataframe tbody tr th {\n",
              "        vertical-align: top;\n",
              "    }\n",
              "\n",
              "    .dataframe thead th {\n",
              "        text-align: right;\n",
              "    }\n",
              "</style>\n",
              "<table border=\"1\" class=\"dataframe\">\n",
              "  <thead>\n",
              "    <tr style=\"text-align: right;\">\n",
              "      <th>gratuidad</th>\n",
              "      <th>0</th>\n",
              "      <th>1</th>\n",
              "    </tr>\n",
              "    <tr>\n",
              "      <th>NOMBRE CARRERA</th>\n",
              "      <th></th>\n",
              "      <th></th>\n",
              "    </tr>\n",
              "  </thead>\n",
              "  <tbody>\n",
              "    <tr>\n",
              "      <th>CONSTRUCCION CIVIL</th>\n",
              "      <td>3.672922</td>\n",
              "      <td>5.157276</td>\n",
              "    </tr>\n",
              "    <tr>\n",
              "      <th>ENFERMERIA</th>\n",
              "      <td>9.087094</td>\n",
              "      <td>11.142726</td>\n",
              "    </tr>\n",
              "    <tr>\n",
              "      <th>FONOAUDIOLOGIA</th>\n",
              "      <td>2.264535</td>\n",
              "      <td>3.238555</td>\n",
              "    </tr>\n",
              "    <tr>\n",
              "      <th>HOTELERIA Y TURISMO</th>\n",
              "      <td>2.478486</td>\n",
              "      <td>3.344382</td>\n",
              "    </tr>\n",
              "    <tr>\n",
              "      <th>INGENIERIA AMBIENTAL</th>\n",
              "      <td>2.133514</td>\n",
              "      <td>3.170628</td>\n",
              "    </tr>\n",
              "    <tr>\n",
              "      <th>INGENIERIA CIVIL EN COMPUTACION E INFORMATICA</th>\n",
              "      <td>6.412299</td>\n",
              "      <td>7.655751</td>\n",
              "    </tr>\n",
              "    <tr>\n",
              "      <th>INGENIERIA CIVIL INDUSTRIAL</th>\n",
              "      <td>3.920327</td>\n",
              "      <td>5.118493</td>\n",
              "    </tr>\n",
              "    <tr>\n",
              "      <th>INGENIERIA COMERCIAL</th>\n",
              "      <td>4.627151</td>\n",
              "      <td>5.860275</td>\n",
              "    </tr>\n",
              "    <tr>\n",
              "      <th>INGENIERIA DE EJECUCION EN ADMINISTRACION DE EMPRESAS</th>\n",
              "      <td>2.761650</td>\n",
              "      <td>3.833905</td>\n",
              "    </tr>\n",
              "    <tr>\n",
              "      <th>INGENIERIA DE EJECUCION EN INFORMATICA</th>\n",
              "      <td>4.965899</td>\n",
              "      <td>6.733718</td>\n",
              "    </tr>\n",
              "    <tr>\n",
              "      <th>INGENIERIA EN MINAS</th>\n",
              "      <td>2.088287</td>\n",
              "      <td>3.157461</td>\n",
              "    </tr>\n",
              "    <tr>\n",
              "      <th>KINESIOLOGIA</th>\n",
              "      <td>4.901408</td>\n",
              "      <td>6.150237</td>\n",
              "    </tr>\n",
              "    <tr>\n",
              "      <th>NUTRICION Y DIETETICA</th>\n",
              "      <td>3.774176</td>\n",
              "      <td>4.933404</td>\n",
              "    </tr>\n",
              "    <tr>\n",
              "      <th>TECNICO DE NIVEL SUPERIOR EN ENFERMERIA</th>\n",
              "      <td>4.738266</td>\n",
              "      <td>5.933332</td>\n",
              "    </tr>\n",
              "    <tr>\n",
              "      <th>TERAPIA OCUPACIONAL</th>\n",
              "      <td>3.741846</td>\n",
              "      <td>5.191495</td>\n",
              "    </tr>\n",
              "  </tbody>\n",
              "</table>\n",
              "</div>"
            ],
            "text/plain": [
              "gratuidad                                                  0          1\n",
              "NOMBRE CARRERA                                                         \n",
              "CONSTRUCCION CIVIL                                  3.672922   5.157276\n",
              "ENFERMERIA                                          9.087094  11.142726\n",
              "FONOAUDIOLOGIA                                      2.264535   3.238555\n",
              "HOTELERIA Y TURISMO                                 2.478486   3.344382\n",
              "INGENIERIA AMBIENTAL                                2.133514   3.170628\n",
              "INGENIERIA CIVIL EN COMPUTACION E INFORMATICA       6.412299   7.655751\n",
              "INGENIERIA CIVIL INDUSTRIAL                         3.920327   5.118493\n",
              "INGENIERIA COMERCIAL                                4.627151   5.860275\n",
              "INGENIERIA DE EJECUCION EN ADMINISTRACION DE EM...  2.761650   3.833905\n",
              "INGENIERIA DE EJECUCION EN INFORMATICA              4.965899   6.733718\n",
              "INGENIERIA EN MINAS                                 2.088287   3.157461\n",
              "KINESIOLOGIA                                        4.901408   6.150237\n",
              "NUTRICION Y DIETETICA                               3.774176   4.933404\n",
              "TECNICO DE NIVEL SUPERIOR EN ENFERMERIA             4.738266   5.933332\n",
              "TERAPIA OCUPACIONAL                                 3.741846   5.191495"
            ]
          },
          "metadata": {
            "tags": []
          },
          "execution_count": 55
        }
      ]
    },
    {
      "cell_type": "code",
      "metadata": {
        "colab": {
          "base_uri": "https://localhost:8080/",
          "height": 197
        },
        "id": "ACwN_kWC0AiT",
        "outputId": "9285cf4b-eb23-4386-9c30-e8391c585607"
      },
      "source": [
        "demanda_k = []\n",
        "\n",
        "for k in np.arange(20, 71, step=5):\n",
        "  prueba_k = pd.DataFrame({'Año': [2021],\n",
        "                       'AREA CONOCIMIENTO':['Tecnología'],\n",
        "                       'acreditacion':[4],\n",
        "                       'gratuidad':[0],\n",
        "                       'vacantes_1S':[40],\n",
        "                       'duracion':[10],\n",
        "                       'PCT_COLEGIO':[k],\n",
        "                       'matricula_2021':[160000],\n",
        "                       'RM':[1],\n",
        "                       'V':[0],\n",
        "                       'VIII':[0],\n",
        "                       'ingreso_3':[1497727],\n",
        "                       'emplea_1':[0.894]})\n",
        "\n",
        "  X_prueba_k_prep  = preprocessor.transform(prueba_k)\n",
        "  demanda_k.append(model.predict(X_prueba_k_prep)[0])\n",
        "\n",
        "listado = pd.DataFrame({'PCT_COLEGIO': np.arange(20, 71, step=5),\n",
        "                        'demanda': np.array(demanda_k)}).sort_values('demanda', ascending=False)\n",
        "\n",
        "listado.head()"
      ],
      "execution_count": null,
      "outputs": [
        {
          "output_type": "execute_result",
          "data": {
            "text/html": [
              "<div>\n",
              "<style scoped>\n",
              "    .dataframe tbody tr th:only-of-type {\n",
              "        vertical-align: middle;\n",
              "    }\n",
              "\n",
              "    .dataframe tbody tr th {\n",
              "        vertical-align: top;\n",
              "    }\n",
              "\n",
              "    .dataframe thead th {\n",
              "        text-align: right;\n",
              "    }\n",
              "</style>\n",
              "<table border=\"1\" class=\"dataframe\">\n",
              "  <thead>\n",
              "    <tr style=\"text-align: right;\">\n",
              "      <th></th>\n",
              "      <th>PCT_COLEGIO</th>\n",
              "      <th>demanda</th>\n",
              "    </tr>\n",
              "  </thead>\n",
              "  <tbody>\n",
              "    <tr>\n",
              "      <th>0</th>\n",
              "      <td>20</td>\n",
              "      <td>7.775158</td>\n",
              "    </tr>\n",
              "    <tr>\n",
              "      <th>1</th>\n",
              "      <td>25</td>\n",
              "      <td>7.762026</td>\n",
              "    </tr>\n",
              "    <tr>\n",
              "      <th>2</th>\n",
              "      <td>30</td>\n",
              "      <td>7.512047</td>\n",
              "    </tr>\n",
              "    <tr>\n",
              "      <th>3</th>\n",
              "      <td>35</td>\n",
              "      <td>7.314829</td>\n",
              "    </tr>\n",
              "    <tr>\n",
              "      <th>4</th>\n",
              "      <td>40</td>\n",
              "      <td>7.023533</td>\n",
              "    </tr>\n",
              "  </tbody>\n",
              "</table>\n",
              "</div>"
            ],
            "text/plain": [
              "   PCT_COLEGIO   demanda\n",
              "0           20  7.775158\n",
              "1           25  7.762026\n",
              "2           30  7.512047\n",
              "3           35  7.314829\n",
              "4           40  7.023533"
            ]
          },
          "metadata": {
            "tags": []
          },
          "execution_count": 56
        }
      ]
    },
    {
      "cell_type": "code",
      "metadata": {
        "id": "VuoUORJ806Y7"
      },
      "source": [
        "plt.style.use('ggplot')\n",
        "plt.figure(figsize=(10,6))\n",
        "plt.plot(np.arange(20, 71, step=5), demanda_k)\n",
        "plt.xticks(np.arange(20, 71, step=5))\n",
        "plt.xlabel('% PCT_COLEGIO')\n",
        "plt.ylabel('Demanda')\n",
        "plt.title('Demanda para Ing. Civil Informática (sin gratuidad)');"
      ],
      "execution_count": null,
      "outputs": []
    },
    {
      "cell_type": "markdown",
      "metadata": {
        "id": "1eVrJ1HTjMXF"
      },
      "source": [
        "**UDLA diurno - en construcción**"
      ]
    },
    {
      "cell_type": "code",
      "metadata": {
        "colab": {
          "resources": {
            "http://localhost:8080/nbextensions/google.colab/files.js": {
              "data": "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",
              "ok": true,
              "headers": [
                [
                  "content-type",
                  "application/javascript"
                ]
              ],
              "status": 200,
              "status_text": ""
            }
          },
          "base_uri": "https://localhost:8080/",
          "height": 73
        },
        "id": "ib6tH4NdiwUr",
        "outputId": "9042637d-a66f-43d2-eff3-c73d9b77aca2"
      },
      "source": [
        "from google.colab import files\n",
        "carga = files.upload()"
      ],
      "execution_count": null,
      "outputs": [
        {
          "output_type": "display_data",
          "data": {
            "text/html": [
              "\n",
              "     <input type=\"file\" id=\"files-57dfbf63-680a-4b48-a1a9-8973933123c7\" name=\"files[]\" multiple disabled\n",
              "        style=\"border:none\" />\n",
              "     <output id=\"result-57dfbf63-680a-4b48-a1a9-8973933123c7\">\n",
              "      Upload widget is only available when the cell has been executed in the\n",
              "      current browser session. Please rerun this cell to enable.\n",
              "      </output>\n",
              "      <script src=\"/nbextensions/google.colab/files.js\"></script> "
            ],
            "text/plain": [
              "<IPython.core.display.HTML object>"
            ]
          },
          "metadata": {
            "tags": []
          }
        },
        {
          "output_type": "stream",
          "text": [
            "Saving Oferta diurno profesional_NA.xlsx to Oferta diurno profesional_NA.xlsx\n"
          ],
          "name": "stdout"
        }
      ]
    },
    {
      "cell_type": "code",
      "metadata": {
        "id": "ugGKJuJHjgiF"
      },
      "source": [
        "udla_diurno = pd.read_excel('Oferta diurno profesional_NA.xlsx')\n",
        "\n",
        "udla_imputer = imputer.transform(udla_diurno[numeric])\n",
        "udla_imputer = pd.DataFrame(udla_imputer, columns=numeric)\n",
        "\n",
        "udla_diurno['ingreso_3'] = udla_imputer['ingreso_3']\n",
        "udla_diurno['emplea_1'] = udla_imputer['emplea_1']\n",
        "\n",
        "#udla_diurno[features] = udla_diurno\n",
        "#udla_diurno.isnull().sum()"
      ],
      "execution_count": null,
      "outputs": []
    },
    {
      "cell_type": "code",
      "metadata": {
        "id": "JAgNNuxpjoLX"
      },
      "source": [
        "demanda_k = []\n",
        "indice = []\n",
        "ponderacion = []\n",
        "\n",
        "for i in udla_diurno.index:\n",
        "  for k in np.arange(20,71, step=5):\n",
        "    udla_diurno['PCT_COLEGIO'] = k\n",
        "    X_prueba_k_prep  = preprocessor.transform(udla_diurno.iloc[i:i+1])\n",
        "    demanda_k.append(model.predict(X_prueba_k_prep)[0])\n",
        "    indice.append(i)\n",
        "    ponderacion.append(k)\n",
        "\n",
        "salida = pd.DataFrame({'indice':indice, 'ponderacion':ponderacion, 'demanda':demanda_k})"
      ],
      "execution_count": null,
      "outputs": []
    },
    {
      "cell_type": "code",
      "metadata": {
        "colab": {
          "base_uri": "https://localhost:8080/",
          "height": 436
        },
        "id": "jG4fD1J8klJN",
        "outputId": "20695f8e-4be5-40fb-f4a0-7363d01bee65"
      },
      "source": [
        "tabla = salida.pivot_table(index=['indice'], columns=['ponderacion'], values='demanda', aggfunc='max')\n",
        "tabla"
      ],
      "execution_count": null,
      "outputs": [
        {
          "output_type": "execute_result",
          "data": {
            "text/html": [
              "<div>\n",
              "<style scoped>\n",
              "    .dataframe tbody tr th:only-of-type {\n",
              "        vertical-align: middle;\n",
              "    }\n",
              "\n",
              "    .dataframe tbody tr th {\n",
              "        vertical-align: top;\n",
              "    }\n",
              "\n",
              "    .dataframe thead th {\n",
              "        text-align: right;\n",
              "    }\n",
              "</style>\n",
              "<table border=\"1\" class=\"dataframe\">\n",
              "  <thead>\n",
              "    <tr style=\"text-align: right;\">\n",
              "      <th>ponderacion</th>\n",
              "      <th>20</th>\n",
              "      <th>25</th>\n",
              "      <th>30</th>\n",
              "      <th>35</th>\n",
              "      <th>40</th>\n",
              "      <th>45</th>\n",
              "      <th>50</th>\n",
              "      <th>55</th>\n",
              "      <th>60</th>\n",
              "      <th>65</th>\n",
              "      <th>70</th>\n",
              "    </tr>\n",
              "    <tr>\n",
              "      <th>indice</th>\n",
              "      <th></th>\n",
              "      <th></th>\n",
              "      <th></th>\n",
              "      <th></th>\n",
              "      <th></th>\n",
              "      <th></th>\n",
              "      <th></th>\n",
              "      <th></th>\n",
              "      <th></th>\n",
              "      <th></th>\n",
              "      <th></th>\n",
              "    </tr>\n",
              "  </thead>\n",
              "  <tbody>\n",
              "    <tr>\n",
              "      <th>0</th>\n",
              "      <td>5.255580</td>\n",
              "      <td>5.268716</td>\n",
              "      <td>5.291656</td>\n",
              "      <td>5.477106</td>\n",
              "      <td>5.630178</td>\n",
              "      <td>5.399740</td>\n",
              "      <td>5.143390</td>\n",
              "      <td>5.153879</td>\n",
              "      <td>5.049472</td>\n",
              "      <td>5.049472</td>\n",
              "      <td>5.014023</td>\n",
              "    </tr>\n",
              "    <tr>\n",
              "      <th>1</th>\n",
              "      <td>5.648021</td>\n",
              "      <td>5.716388</td>\n",
              "      <td>5.693362</td>\n",
              "      <td>5.660137</td>\n",
              "      <td>5.740110</td>\n",
              "      <td>5.527248</td>\n",
              "      <td>5.311059</td>\n",
              "      <td>5.321548</td>\n",
              "      <td>5.212468</td>\n",
              "      <td>5.212468</td>\n",
              "      <td>5.177019</td>\n",
              "    </tr>\n",
              "    <tr>\n",
              "      <th>2</th>\n",
              "      <td>4.982363</td>\n",
              "      <td>5.005014</td>\n",
              "      <td>5.046046</td>\n",
              "      <td>5.376651</td>\n",
              "      <td>5.555083</td>\n",
              "      <td>5.306421</td>\n",
              "      <td>5.126921</td>\n",
              "      <td>5.082861</td>\n",
              "      <td>4.926699</td>\n",
              "      <td>4.926699</td>\n",
              "      <td>4.891250</td>\n",
              "    </tr>\n",
              "    <tr>\n",
              "      <th>3</th>\n",
              "      <td>4.930409</td>\n",
              "      <td>4.998775</td>\n",
              "      <td>5.025288</td>\n",
              "      <td>4.989526</td>\n",
              "      <td>5.153968</td>\n",
              "      <td>4.937637</td>\n",
              "      <td>4.765768</td>\n",
              "      <td>4.776258</td>\n",
              "      <td>4.637884</td>\n",
              "      <td>4.637884</td>\n",
              "      <td>4.602435</td>\n",
              "    </tr>\n",
              "    <tr>\n",
              "      <th>4</th>\n",
              "      <td>6.492754</td>\n",
              "      <td>6.598362</td>\n",
              "      <td>6.639328</td>\n",
              "      <td>6.696942</td>\n",
              "      <td>7.028240</td>\n",
              "      <td>6.832756</td>\n",
              "      <td>6.744484</td>\n",
              "      <td>6.754973</td>\n",
              "      <td>7.902536</td>\n",
              "      <td>7.902536</td>\n",
              "      <td>7.859333</td>\n",
              "    </tr>\n",
              "    <tr>\n",
              "      <th>...</th>\n",
              "      <td>...</td>\n",
              "      <td>...</td>\n",
              "      <td>...</td>\n",
              "      <td>...</td>\n",
              "      <td>...</td>\n",
              "      <td>...</td>\n",
              "      <td>...</td>\n",
              "      <td>...</td>\n",
              "      <td>...</td>\n",
              "      <td>...</td>\n",
              "      <td>...</td>\n",
              "    </tr>\n",
              "    <tr>\n",
              "      <th>151</th>\n",
              "      <td>5.388401</td>\n",
              "      <td>5.182418</td>\n",
              "      <td>5.038458</td>\n",
              "      <td>5.021724</td>\n",
              "      <td>5.222375</td>\n",
              "      <td>5.295168</td>\n",
              "      <td>5.318899</td>\n",
              "      <td>5.383110</td>\n",
              "      <td>6.067417</td>\n",
              "      <td>6.067417</td>\n",
              "      <td>6.012350</td>\n",
              "    </tr>\n",
              "    <tr>\n",
              "      <th>152</th>\n",
              "      <td>2.513914</td>\n",
              "      <td>2.404015</td>\n",
              "      <td>2.354047</td>\n",
              "      <td>2.456989</td>\n",
              "      <td>2.490504</td>\n",
              "      <td>2.121557</td>\n",
              "      <td>1.816691</td>\n",
              "      <td>1.776987</td>\n",
              "      <td>1.920999</td>\n",
              "      <td>1.920999</td>\n",
              "      <td>1.900239</td>\n",
              "    </tr>\n",
              "    <tr>\n",
              "      <th>153</th>\n",
              "      <td>2.823811</td>\n",
              "      <td>2.719087</td>\n",
              "      <td>2.662979</td>\n",
              "      <td>2.573974</td>\n",
              "      <td>2.571588</td>\n",
              "      <td>2.198307</td>\n",
              "      <td>1.939691</td>\n",
              "      <td>1.945988</td>\n",
              "      <td>2.118896</td>\n",
              "      <td>2.118896</td>\n",
              "      <td>2.098135</td>\n",
              "    </tr>\n",
              "    <tr>\n",
              "      <th>154</th>\n",
              "      <td>1.515886</td>\n",
              "      <td>1.380397</td>\n",
              "      <td>1.176102</td>\n",
              "      <td>1.048435</td>\n",
              "      <td>1.134489</td>\n",
              "      <td>0.973045</td>\n",
              "      <td>0.939982</td>\n",
              "      <td>0.946279</td>\n",
              "      <td>0.993448</td>\n",
              "      <td>0.993448</td>\n",
              "      <td>0.972479</td>\n",
              "    </tr>\n",
              "    <tr>\n",
              "      <th>155</th>\n",
              "      <td>3.130293</td>\n",
              "      <td>2.960628</td>\n",
              "      <td>2.907324</td>\n",
              "      <td>2.738037</td>\n",
              "      <td>2.728861</td>\n",
              "      <td>2.385816</td>\n",
              "      <td>2.126218</td>\n",
              "      <td>2.132515</td>\n",
              "      <td>2.300750</td>\n",
              "      <td>2.300750</td>\n",
              "      <td>2.279989</td>\n",
              "    </tr>\n",
              "  </tbody>\n",
              "</table>\n",
              "<p>156 rows × 11 columns</p>\n",
              "</div>"
            ],
            "text/plain": [
              "ponderacion        20        25        30  ...        60        65        70\n",
              "indice                                     ...                              \n",
              "0            5.255580  5.268716  5.291656  ...  5.049472  5.049472  5.014023\n",
              "1            5.648021  5.716388  5.693362  ...  5.212468  5.212468  5.177019\n",
              "2            4.982363  5.005014  5.046046  ...  4.926699  4.926699  4.891250\n",
              "3            4.930409  4.998775  5.025288  ...  4.637884  4.637884  4.602435\n",
              "4            6.492754  6.598362  6.639328  ...  7.902536  7.902536  7.859333\n",
              "...               ...       ...       ...  ...       ...       ...       ...\n",
              "151          5.388401  5.182418  5.038458  ...  6.067417  6.067417  6.012350\n",
              "152          2.513914  2.404015  2.354047  ...  1.920999  1.920999  1.900239\n",
              "153          2.823811  2.719087  2.662979  ...  2.118896  2.118896  2.098135\n",
              "154          1.515886  1.380397  1.176102  ...  0.993448  0.993448  0.972479\n",
              "155          3.130293  2.960628  2.907324  ...  2.300750  2.300750  2.279989\n",
              "\n",
              "[156 rows x 11 columns]"
            ]
          },
          "metadata": {
            "tags": []
          },
          "execution_count": 78
        }
      ]
    },
    {
      "cell_type": "code",
      "metadata": {
        "colab": {
          "base_uri": "https://localhost:8080/",
          "height": 417
        },
        "id": "c635lf2Uk_Nc",
        "outputId": "08f53545-5669-4577-f67a-8a77628b9b57"
      },
      "source": [
        "salida_2 = pd.concat([udla_diurno, tabla], axis=1).drop(columns='PCT_COLEGIO')\n",
        "salida_2['pond_max'] = salida_2.loc[:,[20, 25,30,35,40,45,50,55,60,65,70]].idxmax(axis=1)\n",
        "salida_2['demanda_max'] = salida_2.loc[:,[20, 25,30,35,40,45,50,55,60,65,70]].max(axis=1)\n",
        "\n",
        "salida_2.head()"
      ],
      "execution_count": null,
      "outputs": [
        {
          "output_type": "execute_result",
          "data": {
            "text/html": [
              "<div>\n",
              "<style scoped>\n",
              "    .dataframe tbody tr th:only-of-type {\n",
              "        vertical-align: middle;\n",
              "    }\n",
              "\n",
              "    .dataframe tbody tr th {\n",
              "        vertical-align: top;\n",
              "    }\n",
              "\n",
              "    .dataframe thead th {\n",
              "        text-align: right;\n",
              "    }\n",
              "</style>\n",
              "<table border=\"1\" class=\"dataframe\">\n",
              "  <thead>\n",
              "    <tr style=\"text-align: right;\">\n",
              "      <th></th>\n",
              "      <th>Año</th>\n",
              "      <th>Facultad</th>\n",
              "      <th>Carrera</th>\n",
              "      <th>AREA CARRERA GENERICA</th>\n",
              "      <th>AREA CONOCIMIENTO</th>\n",
              "      <th>Campus</th>\n",
              "      <th>Sede</th>\n",
              "      <th>Programa</th>\n",
              "      <th>vacantes_1S</th>\n",
              "      <th>duracion</th>\n",
              "      <th>matricula_2021</th>\n",
              "      <th>gratuidad</th>\n",
              "      <th>RM</th>\n",
              "      <th>V</th>\n",
              "      <th>VIII</th>\n",
              "      <th>acreditacion</th>\n",
              "      <th>ingreso_3</th>\n",
              "      <th>emplea_1</th>\n",
              "      <th>20</th>\n",
              "      <th>25</th>\n",
              "      <th>30</th>\n",
              "      <th>35</th>\n",
              "      <th>40</th>\n",
              "      <th>45</th>\n",
              "      <th>50</th>\n",
              "      <th>55</th>\n",
              "      <th>60</th>\n",
              "      <th>65</th>\n",
              "      <th>70</th>\n",
              "      <th>pond_max</th>\n",
              "      <th>demanda_max</th>\n",
              "    </tr>\n",
              "  </thead>\n",
              "  <tbody>\n",
              "    <tr>\n",
              "      <th>0</th>\n",
              "      <td>2021</td>\n",
              "      <td>Fac. Ciencias Sociales</td>\n",
              "      <td>TRABAJO SOCIAL</td>\n",
              "      <td>Trabajo Social</td>\n",
              "      <td>Ciencias Sociales</td>\n",
              "      <td>VIÑA DEL MAR</td>\n",
              "      <td>VIÑA DEL MAR</td>\n",
              "      <td>UVL1135</td>\n",
              "      <td>25</td>\n",
              "      <td>10</td>\n",
              "      <td>170000</td>\n",
              "      <td>0</td>\n",
              "      <td>0</td>\n",
              "      <td>1</td>\n",
              "      <td>0</td>\n",
              "      <td>4</td>\n",
              "      <td>801236.507186</td>\n",
              "      <td>0.663644</td>\n",
              "      <td>5.255580</td>\n",
              "      <td>5.268716</td>\n",
              "      <td>5.291656</td>\n",
              "      <td>5.477106</td>\n",
              "      <td>5.630178</td>\n",
              "      <td>5.399740</td>\n",
              "      <td>5.143390</td>\n",
              "      <td>5.153879</td>\n",
              "      <td>5.049472</td>\n",
              "      <td>5.049472</td>\n",
              "      <td>5.014023</td>\n",
              "      <td>40</td>\n",
              "      <td>5.630178</td>\n",
              "    </tr>\n",
              "    <tr>\n",
              "      <th>1</th>\n",
              "      <td>2021</td>\n",
              "      <td>Fac. Ciencias Sociales</td>\n",
              "      <td>TRABAJO SOCIAL</td>\n",
              "      <td>Trabajo Social</td>\n",
              "      <td>Ciencias Sociales</td>\n",
              "      <td>LA FLORIDA</td>\n",
              "      <td>SANTIAGO</td>\n",
              "      <td>ULF1135</td>\n",
              "      <td>25</td>\n",
              "      <td>10</td>\n",
              "      <td>170000</td>\n",
              "      <td>0</td>\n",
              "      <td>1</td>\n",
              "      <td>0</td>\n",
              "      <td>0</td>\n",
              "      <td>4</td>\n",
              "      <td>801236.507186</td>\n",
              "      <td>0.663644</td>\n",
              "      <td>5.648021</td>\n",
              "      <td>5.716388</td>\n",
              "      <td>5.693362</td>\n",
              "      <td>5.660137</td>\n",
              "      <td>5.740110</td>\n",
              "      <td>5.527248</td>\n",
              "      <td>5.311059</td>\n",
              "      <td>5.321548</td>\n",
              "      <td>5.212468</td>\n",
              "      <td>5.212468</td>\n",
              "      <td>5.177019</td>\n",
              "      <td>40</td>\n",
              "      <td>5.740110</td>\n",
              "    </tr>\n",
              "    <tr>\n",
              "      <th>2</th>\n",
              "      <td>2021</td>\n",
              "      <td>Fac. Ciencias Sociales</td>\n",
              "      <td>TRABAJO SOCIAL</td>\n",
              "      <td>Trabajo Social</td>\n",
              "      <td>Ciencias Sociales</td>\n",
              "      <td>CONCEPCION</td>\n",
              "      <td>CONCEPCION</td>\n",
              "      <td>UCO1135</td>\n",
              "      <td>35</td>\n",
              "      <td>10</td>\n",
              "      <td>170000</td>\n",
              "      <td>0</td>\n",
              "      <td>0</td>\n",
              "      <td>0</td>\n",
              "      <td>1</td>\n",
              "      <td>4</td>\n",
              "      <td>801236.507186</td>\n",
              "      <td>0.663644</td>\n",
              "      <td>4.982363</td>\n",
              "      <td>5.005014</td>\n",
              "      <td>5.046046</td>\n",
              "      <td>5.376651</td>\n",
              "      <td>5.555083</td>\n",
              "      <td>5.306421</td>\n",
              "      <td>5.126921</td>\n",
              "      <td>5.082861</td>\n",
              "      <td>4.926699</td>\n",
              "      <td>4.926699</td>\n",
              "      <td>4.891250</td>\n",
              "      <td>40</td>\n",
              "      <td>5.555083</td>\n",
              "    </tr>\n",
              "    <tr>\n",
              "      <th>3</th>\n",
              "      <td>2021</td>\n",
              "      <td>Fac. Ciencias Sociales</td>\n",
              "      <td>TRABAJO SOCIAL</td>\n",
              "      <td>Trabajo Social</td>\n",
              "      <td>Ciencias Sociales</td>\n",
              "      <td>SANTIAGO</td>\n",
              "      <td>SANTIAGO</td>\n",
              "      <td>USC1135</td>\n",
              "      <td>40</td>\n",
              "      <td>10</td>\n",
              "      <td>170000</td>\n",
              "      <td>0</td>\n",
              "      <td>1</td>\n",
              "      <td>0</td>\n",
              "      <td>0</td>\n",
              "      <td>4</td>\n",
              "      <td>801236.507186</td>\n",
              "      <td>0.663644</td>\n",
              "      <td>4.930409</td>\n",
              "      <td>4.998775</td>\n",
              "      <td>5.025288</td>\n",
              "      <td>4.989526</td>\n",
              "      <td>5.153968</td>\n",
              "      <td>4.937637</td>\n",
              "      <td>4.765768</td>\n",
              "      <td>4.776258</td>\n",
              "      <td>4.637884</td>\n",
              "      <td>4.637884</td>\n",
              "      <td>4.602435</td>\n",
              "      <td>40</td>\n",
              "      <td>5.153968</td>\n",
              "    </tr>\n",
              "    <tr>\n",
              "      <th>4</th>\n",
              "      <td>2021</td>\n",
              "      <td>Fac. Ciencias Sociales</td>\n",
              "      <td>PSICOLOGIA</td>\n",
              "      <td>Psicología</td>\n",
              "      <td>Ciencias Sociales</td>\n",
              "      <td>MAIPU</td>\n",
              "      <td>SANTIAGO</td>\n",
              "      <td>UMP158</td>\n",
              "      <td>50</td>\n",
              "      <td>10</td>\n",
              "      <td>170000</td>\n",
              "      <td>0</td>\n",
              "      <td>1</td>\n",
              "      <td>0</td>\n",
              "      <td>0</td>\n",
              "      <td>4</td>\n",
              "      <td>880780.644132</td>\n",
              "      <td>0.678432</td>\n",
              "      <td>6.492754</td>\n",
              "      <td>6.598362</td>\n",
              "      <td>6.639328</td>\n",
              "      <td>6.696942</td>\n",
              "      <td>7.028240</td>\n",
              "      <td>6.832756</td>\n",
              "      <td>6.744484</td>\n",
              "      <td>6.754973</td>\n",
              "      <td>7.902536</td>\n",
              "      <td>7.902536</td>\n",
              "      <td>7.859333</td>\n",
              "      <td>60</td>\n",
              "      <td>7.902536</td>\n",
              "    </tr>\n",
              "  </tbody>\n",
              "</table>\n",
              "</div>"
            ],
            "text/plain": [
              "    Año                Facultad  ... pond_max demanda_max\n",
              "0  2021  Fac. Ciencias Sociales  ...       40    5.630178\n",
              "1  2021  Fac. Ciencias Sociales  ...       40    5.740110\n",
              "2  2021  Fac. Ciencias Sociales  ...       40    5.555083\n",
              "3  2021  Fac. Ciencias Sociales  ...       40    5.153968\n",
              "4  2021  Fac. Ciencias Sociales  ...       60    7.902536\n",
              "\n",
              "[5 rows x 31 columns]"
            ]
          },
          "metadata": {
            "tags": []
          },
          "execution_count": 81
        }
      ]
    },
    {
      "cell_type": "code",
      "metadata": {
        "id": "0OW3F91elEYP"
      },
      "source": [
        "salida_2.to_excel('demanda_vacantes.xlsx')"
      ],
      "execution_count": null,
      "outputs": []
    }
  ]
}