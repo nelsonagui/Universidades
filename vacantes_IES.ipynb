{
  "nbformat": 4,
  "nbformat_minor": 0,
  "metadata": {
    "colab": {
      "provenance": [],
      "collapsed_sections": [
        "FiKjrUAw6nXW"
      ],
      "toc_visible": true
    },
    "kernelspec": {
      "display_name": "Python 3",
      "name": "python3"
    },
    "language_info": {
      "name": "python"
    }
  },
  "cells": [
    {
      "cell_type": "markdown",
      "metadata": {
        "id": "VohxNeoD68EW"
      },
      "source": [
        "#Estimación de probabilidad de llenar vacantes de IES"
      ]
    },
    {
      "cell_type": "markdown",
      "metadata": {
        "id": "wH_6eKlF7F13"
      },
      "source": [
        "##0. Instalación y carga de librerías"
      ]
    },
    {
      "cell_type": "code",
      "metadata": {
        "id": "4rd87Padwm5m",
        "colab": {
          "base_uri": "https://localhost:8080/"
        },
        "outputId": "dec5c412-fcab-4af2-b105-b26145901e2f"
      },
      "source": [
        "!pip install catboost --quiet"
      ],
      "execution_count": null,
      "outputs": [
        {
          "output_type": "stream",
          "text": [
            "\u001b[K     |████████████████████████████████| 67.3MB 52kB/s \n",
            "\u001b[?25h"
          ],
          "name": "stdout"
        }
      ]
    },
    {
      "cell_type": "code",
      "metadata": {
        "id": "Id9JeT0UxPmP"
      },
      "source": [
        "from google.colab import files\n",
        "import pandas as pd\n",
        "import numpy as np\n",
        "import matplotlib.pyplot as plt\n",
        "\n",
        "from sklearn.experimental import enable_iterative_imputer\n",
        "from sklearn.impute import IterativeImputer, SimpleImputer\n",
        "from sklearn.model_selection import train_test_split\n",
        "from sklearn.compose import ColumnTransformer\n",
        "from sklearn.preprocessing import OneHotEncoder, StandardScaler\n",
        "\n",
        "from sklearn.ensemble import GradientBoostingClassifier\n",
        "import catboost as cb\n",
        "import xgboost as xgb\n",
        "import lightgbm as lgb\n",
        "\n",
        "from sklearn.neural_network import MLPClassifier\n",
        "from sklearn.linear_model import LogisticRegression\n",
        "from sklearn.tree import DecisionTreeClassifier\n",
        "from sklearn.ensemble import RandomForestClassifier, ExtraTreesClassifier\n",
        "from sklearn.ensemble import VotingClassifier\n",
        "from sklearn.svm import SVC\n",
        "from sklearn.ensemble import AdaBoostClassifier\n",
        "from sklearn.neighbors import KNeighborsClassifier\n",
        "\n",
        "from sklearn.ensemble import RandomForestRegressor\n",
        "\n",
        "from sklearn.metrics import confusion_matrix,ConfusionMatrixDisplay,classification_report\n",
        "from sklearn.model_selection import GridSearchCV\n",
        "import multiprocessing\n",
        "\n",
        "from sklearn.model_selection import RandomizedSearchCV\n",
        "from scipy.stats import reciprocal, uniform\n",
        "\n",
        "#import statsmodels.api as sm\n",
        "\n",
        "import warnings\n",
        "warnings.filterwarnings(\"ignore\")"
      ],
      "execution_count": null,
      "outputs": []
    },
    {
      "cell_type": "markdown",
      "metadata": {
        "id": "twMf1jMu7U1o"
      },
      "source": [
        "##1. Carga y formateo de archivo base"
      ]
    },
    {
      "cell_type": "code",
      "metadata": {
        "colab": {
          "resources": {
            "http://localhost:8080/nbextensions/google.colab/files.js": {
              "data": "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",
              "ok": true,
              "headers": [
                [
                  "content-type",
                  "application/javascript"
                ]
              ],
              "status": 200,
              "status_text": ""
            }
          },
          "base_uri": "https://localhost:8080/",
          "height": 73
        },
        "id": "xjkQjHxfxSkp",
        "outputId": "a95caa57-b47a-4b95-f986-c1276799bd2c"
      },
      "source": [
        "files = files.upload()"
      ],
      "execution_count": null,
      "outputs": [
        {
          "output_type": "display_data",
          "data": {
            "text/html": [
              "\n",
              "     <input type=\"file\" id=\"files-7fa1cdd1-09b6-4085-9f94-96cefd1e9978\" name=\"files[]\" multiple disabled\n",
              "        style=\"border:none\" />\n",
              "     <output id=\"result-7fa1cdd1-09b6-4085-9f94-96cefd1e9978\">\n",
              "      Upload widget is only available when the cell has been executed in the\n",
              "      current browser session. Please rerun this cell to enable.\n",
              "      </output>\n",
              "      <script src=\"/nbextensions/google.colab/files.js\"></script> "
            ],
            "text/plain": [
              "<IPython.core.display.HTML object>"
            ]
          },
          "metadata": {
            "tags": []
          }
        },
        {
          "output_type": "stream",
          "text": [
            "Saving Consolidado_final_v2.xlsx to Consolidado_final_v2.xlsx\n"
          ],
          "name": "stdout"
        }
      ]
    },
    {
      "cell_type": "code",
      "metadata": {
        "colab": {
          "base_uri": "https://localhost:8080/",
          "height": 291
        },
        "id": "sKl9Si8cxbkX",
        "outputId": "2bc4225e-1199-41c4-d0b2-26640382f9eb"
      },
      "source": [
        "archivo = pd.read_excel('Consolidado_final_v2.xlsx')\n",
        "archivo.head(3)"
      ],
      "execution_count": null,
      "outputs": [
        {
          "output_type": "execute_result",
          "data": {
            "text/html": [
              "<div>\n",
              "<style scoped>\n",
              "    .dataframe tbody tr th:only-of-type {\n",
              "        vertical-align: middle;\n",
              "    }\n",
              "\n",
              "    .dataframe tbody tr th {\n",
              "        vertical-align: top;\n",
              "    }\n",
              "\n",
              "    .dataframe thead th {\n",
              "        text-align: right;\n",
              "    }\n",
              "</style>\n",
              "<table border=\"1\" class=\"dataframe\">\n",
              "  <thead>\n",
              "    <tr style=\"text-align: right;\">\n",
              "      <th></th>\n",
              "      <th>Año</th>\n",
              "      <th>codigo</th>\n",
              "      <th>NOMBRE IES</th>\n",
              "      <th>NOMBRE CARRERA</th>\n",
              "      <th>TIPO INST 2</th>\n",
              "      <th>TIPO INST 3</th>\n",
              "      <th>REGION SEDE</th>\n",
              "      <th>COMUNA SEDE</th>\n",
              "      <th>AREA CARRERA GENERICA</th>\n",
              "      <th>AREA CONOCIMIENTO</th>\n",
              "      <th>n_24</th>\n",
              "      <th>n_25</th>\n",
              "      <th>n_26</th>\n",
              "      <th>n_Total</th>\n",
              "      <th>m_24</th>\n",
              "      <th>m_25</th>\n",
              "      <th>vacantes_1S</th>\n",
              "      <th>demanda_1</th>\n",
              "      <th>sobrecupos</th>\n",
              "      <th>Convocados</th>\n",
              "      <th>demanda_2</th>\n",
              "      <th>Muestra_2021</th>\n",
              "      <th>auxiliar_muestra</th>\n",
              "      <th>llena_vacante</th>\n",
              "      <th>llena_vacante2</th>\n",
              "      <th>Deficit</th>\n",
              "      <th>gratuidad</th>\n",
              "      <th>duracion</th>\n",
              "      <th>arancel_2021</th>\n",
              "      <th>arancel_anual</th>\n",
              "      <th>matricula_2021</th>\n",
              "      <th>PCT_NOTAS</th>\n",
              "      <th>PCT_RANKING</th>\n",
              "      <th>PCT_LENG</th>\n",
              "      <th>PCT_MATE</th>\n",
              "      <th>PCT_COLEGIO</th>\n",
              "      <th>RM</th>\n",
              "      <th>V</th>\n",
              "      <th>VIII</th>\n",
              "      <th>ingreso_1</th>\n",
              "      <th>ingreso_2</th>\n",
              "      <th>ingreso_3</th>\n",
              "      <th>ingreso_4</th>\n",
              "      <th>ingreso_5</th>\n",
              "      <th>emplea_1</th>\n",
              "      <th>emplea_2</th>\n",
              "      <th>acreditacion</th>\n",
              "    </tr>\n",
              "  </thead>\n",
              "  <tbody>\n",
              "    <tr>\n",
              "      <th>0</th>\n",
              "      <td>2019</td>\n",
              "      <td>11001</td>\n",
              "      <td>UNIVERSIDAD DE CHILE</td>\n",
              "      <td>ARQUITECTURA</td>\n",
              "      <td>Universidades CRUCH</td>\n",
              "      <td>Universidades Estatales CRUCH</td>\n",
              "      <td>REGION METROPOLITANA</td>\n",
              "      <td>SANTIAGO</td>\n",
              "      <td>Arquitectura</td>\n",
              "      <td>Arte y Arquitectura</td>\n",
              "      <td>311</td>\n",
              "      <td>277</td>\n",
              "      <td>451</td>\n",
              "      <td>1039</td>\n",
              "      <td>647.6</td>\n",
              "      <td>600.0</td>\n",
              "      <td>280</td>\n",
              "      <td>3.710714</td>\n",
              "      <td>30.0</td>\n",
              "      <td>310.0</td>\n",
              "      <td>3.351613</td>\n",
              "      <td>NO</td>\n",
              "      <td>NO</td>\n",
              "      <td>SI</td>\n",
              "      <td>1</td>\n",
              "      <td>0</td>\n",
              "      <td>1</td>\n",
              "      <td>12.0</td>\n",
              "      <td>4472200.0</td>\n",
              "      <td>4174900.0</td>\n",
              "      <td>149000.0</td>\n",
              "      <td>20</td>\n",
              "      <td>20</td>\n",
              "      <td>20</td>\n",
              "      <td>30</td>\n",
              "      <td>40</td>\n",
              "      <td>1</td>\n",
              "      <td>0</td>\n",
              "      <td>0</td>\n",
              "      <td>795871.710423</td>\n",
              "      <td>941552.758398</td>\n",
              "      <td>1.071521e+06</td>\n",
              "      <td>1.221897e+06</td>\n",
              "      <td>1.321313e+06</td>\n",
              "      <td>0.741593</td>\n",
              "      <td>0.817106</td>\n",
              "      <td>7</td>\n",
              "    </tr>\n",
              "    <tr>\n",
              "      <th>1</th>\n",
              "      <td>2019</td>\n",
              "      <td>11003</td>\n",
              "      <td>UNIVERSIDAD DE CHILE</td>\n",
              "      <td>ACTUACION TEATRAL</td>\n",
              "      <td>Universidades CRUCH</td>\n",
              "      <td>Universidades Estatales CRUCH</td>\n",
              "      <td>REGION METROPOLITANA</td>\n",
              "      <td>SANTIAGO</td>\n",
              "      <td>Actuación y Teatro</td>\n",
              "      <td>Arte y Arquitectura</td>\n",
              "      <td>23</td>\n",
              "      <td>21</td>\n",
              "      <td>15</td>\n",
              "      <td>59</td>\n",
              "      <td>687.9</td>\n",
              "      <td>612.8</td>\n",
              "      <td>23</td>\n",
              "      <td>2.565217</td>\n",
              "      <td>0.0</td>\n",
              "      <td>23.0</td>\n",
              "      <td>2.565217</td>\n",
              "      <td>NO</td>\n",
              "      <td>NO</td>\n",
              "      <td>SI</td>\n",
              "      <td>1</td>\n",
              "      <td>0</td>\n",
              "      <td>1</td>\n",
              "      <td>10.0</td>\n",
              "      <td>3756700.0</td>\n",
              "      <td>3273900.0</td>\n",
              "      <td>149000.0</td>\n",
              "      <td>10</td>\n",
              "      <td>20</td>\n",
              "      <td>30</td>\n",
              "      <td>15</td>\n",
              "      <td>30</td>\n",
              "      <td>1</td>\n",
              "      <td>0</td>\n",
              "      <td>0</td>\n",
              "      <td>576797.728865</td>\n",
              "      <td>626869.675583</td>\n",
              "      <td>7.334167e+05</td>\n",
              "      <td>8.081382e+05</td>\n",
              "      <td>8.758894e+05</td>\n",
              "      <td>0.273481</td>\n",
              "      <td>0.348315</td>\n",
              "      <td>7</td>\n",
              "    </tr>\n",
              "    <tr>\n",
              "      <th>2</th>\n",
              "      <td>2019</td>\n",
              "      <td>11004</td>\n",
              "      <td>UNIVERSIDAD DE CHILE</td>\n",
              "      <td>DISEÑO TEATRAL</td>\n",
              "      <td>Universidades CRUCH</td>\n",
              "      <td>Universidades Estatales CRUCH</td>\n",
              "      <td>REGION METROPOLITANA</td>\n",
              "      <td>SANTIAGO</td>\n",
              "      <td>Diseño Teatral</td>\n",
              "      <td>Arte y Arquitectura</td>\n",
              "      <td>28</td>\n",
              "      <td>7</td>\n",
              "      <td>33</td>\n",
              "      <td>68</td>\n",
              "      <td>606.5</td>\n",
              "      <td>600.2</td>\n",
              "      <td>23</td>\n",
              "      <td>2.956522</td>\n",
              "      <td>5.0</td>\n",
              "      <td>28.0</td>\n",
              "      <td>2.428571</td>\n",
              "      <td>NO</td>\n",
              "      <td>NO</td>\n",
              "      <td>SI</td>\n",
              "      <td>1</td>\n",
              "      <td>0</td>\n",
              "      <td>1</td>\n",
              "      <td>10.0</td>\n",
              "      <td>3756700.0</td>\n",
              "      <td>3273900.0</td>\n",
              "      <td>149000.0</td>\n",
              "      <td>10</td>\n",
              "      <td>20</td>\n",
              "      <td>25</td>\n",
              "      <td>20</td>\n",
              "      <td>30</td>\n",
              "      <td>1</td>\n",
              "      <td>0</td>\n",
              "      <td>0</td>\n",
              "      <td>NaN</td>\n",
              "      <td>NaN</td>\n",
              "      <td>NaN</td>\n",
              "      <td>NaN</td>\n",
              "      <td>NaN</td>\n",
              "      <td>NaN</td>\n",
              "      <td>NaN</td>\n",
              "      <td>7</td>\n",
              "    </tr>\n",
              "  </tbody>\n",
              "</table>\n",
              "</div>"
            ],
            "text/plain": [
              "    Año  codigo            NOMBRE IES  ...  emplea_1  emplea_2 acreditacion\n",
              "0  2019   11001  UNIVERSIDAD DE CHILE  ...  0.741593  0.817106            7\n",
              "1  2019   11003  UNIVERSIDAD DE CHILE  ...  0.273481  0.348315            7\n",
              "2  2019   11004  UNIVERSIDAD DE CHILE  ...       NaN       NaN            7\n",
              "\n",
              "[3 rows x 47 columns]"
            ]
          },
          "metadata": {
            "tags": []
          },
          "execution_count": 4
        }
      ]
    },
    {
      "cell_type": "markdown",
      "metadata": {
        "id": "tv2viUK_j59T"
      },
      "source": [
        "El año y el área de conocimiento las asigno como variables categóricas. El año tiene mejor rendimiento en el modelo como variable categórica que como numérica."
      ]
    },
    {
      "cell_type": "code",
      "metadata": {
        "id": "d7QNAQW9SB98"
      },
      "source": [
        "archivo['Año'] = archivo['Año'].astype('category')\n",
        "archivo['AREA CONOCIMIENTO'] = archivo['AREA CONOCIMIENTO'].astype('category')"
      ],
      "execution_count": null,
      "outputs": []
    },
    {
      "cell_type": "markdown",
      "metadata": {
        "id": "HCDVTgEMkVPm"
      },
      "source": [
        "Estructura del archivo en donde se aprecia que hay valores nulos que deben trabajarse. La idea es tener disponibles las 4200 observaciones para las variables que se van a elegir como predictoras en el modelo."
      ]
    },
    {
      "cell_type": "code",
      "metadata": {
        "colab": {
          "base_uri": "https://localhost:8080/"
        },
        "id": "UwSmzdydx3RM",
        "outputId": "c518c3da-8b9e-484c-c44e-fc2ea3313ab2"
      },
      "source": [
        "archivo.info()"
      ],
      "execution_count": null,
      "outputs": [
        {
          "output_type": "stream",
          "text": [
            "<class 'pandas.core.frame.DataFrame'>\n",
            "RangeIndex: 5542 entries, 0 to 5541\n",
            "Data columns (total 47 columns):\n",
            " #   Column                 Non-Null Count  Dtype   \n",
            "---  ------                 --------------  -----   \n",
            " 0   Año                    5542 non-null   category\n",
            " 1   codigo                 5542 non-null   int64   \n",
            " 2   NOMBRE IES             5542 non-null   object  \n",
            " 3   NOMBRE CARRERA         5542 non-null   object  \n",
            " 4   TIPO INST 2            5542 non-null   object  \n",
            " 5   TIPO INST 3            5542 non-null   object  \n",
            " 6   REGION SEDE            5542 non-null   object  \n",
            " 7   COMUNA SEDE            5542 non-null   object  \n",
            " 8   AREA CARRERA GENERICA  5542 non-null   object  \n",
            " 9   AREA CONOCIMIENTO      5542 non-null   category\n",
            " 10  n_24                   5542 non-null   int64   \n",
            " 11  n_25                   5542 non-null   int64   \n",
            " 12  n_26                   5542 non-null   int64   \n",
            " 13  n_Total                5542 non-null   int64   \n",
            " 14  m_24                   5537 non-null   float64 \n",
            " 15  m_25                   2757 non-null   float64 \n",
            " 16  vacantes_1S            5542 non-null   int64   \n",
            " 17  demanda_1              5542 non-null   float64 \n",
            " 18  sobrecupos             3632 non-null   float64 \n",
            " 19  Convocados             3632 non-null   float64 \n",
            " 20  demanda_2              3632 non-null   float64 \n",
            " 21  Muestra_2021           3632 non-null   object  \n",
            " 22  auxiliar_muestra       3632 non-null   object  \n",
            " 23  llena_vacante          5542 non-null   object  \n",
            " 24  llena_vacante2         5542 non-null   int64   \n",
            " 25  Deficit                5542 non-null   int64   \n",
            " 26  gratuidad              5542 non-null   int64   \n",
            " 27  duracion               5490 non-null   float64 \n",
            " 28  arancel_2021           5490 non-null   float64 \n",
            " 29  arancel_anual          5331 non-null   float64 \n",
            " 30  matricula_2021         5490 non-null   float64 \n",
            " 31  PCT_NOTAS              5542 non-null   int64   \n",
            " 32  PCT_RANKING            5542 non-null   int64   \n",
            " 33  PCT_LENG               5542 non-null   int64   \n",
            " 34  PCT_MATE               5542 non-null   int64   \n",
            " 35  PCT_COLEGIO            5542 non-null   int64   \n",
            " 36  RM                     5542 non-null   int64   \n",
            " 37  V                      5542 non-null   int64   \n",
            " 38  VIII                   5542 non-null   int64   \n",
            " 39  ingreso_1              4976 non-null   float64 \n",
            " 40  ingreso_2              4976 non-null   float64 \n",
            " 41  ingreso_3              4976 non-null   float64 \n",
            " 42  ingreso_4              4976 non-null   float64 \n",
            " 43  ingreso_5              4976 non-null   float64 \n",
            " 44  emplea_1               4976 non-null   float64 \n",
            " 45  emplea_2               4976 non-null   float64 \n",
            " 46  acreditacion           5542 non-null   int64   \n",
            "dtypes: category(2), float64(17), int64(18), object(10)\n",
            "memory usage: 1.9+ MB\n"
          ],
          "name": "stdout"
        }
      ]
    },
    {
      "cell_type": "markdown",
      "metadata": {
        "id": "r7poJnbOdKzK"
      },
      "source": [
        "##2. Elección de variables y construcción de Dataframes de entrenamiento y prueba"
      ]
    },
    {
      "cell_type": "markdown",
      "metadata": {
        "id": "FZToxRAykhO8"
      },
      "source": [
        "Las variables a utilizar para predecir si se llena una vacante serán:\n",
        "\n",
        "- Año: Año del proceso.\n",
        "- AREA CONOCIMIENTO: Área de conocimiento de la carrera según Mineduc.\n",
        "- acreditacion: Años de acreditación de la universidad.\n",
        "- gratuidad: Si la carrera tuvo gratuidad en el año.\n",
        "- duracion: duración en semestres de la carrera.\n",
        "- PCT_COLEGIO: Suma de las ponderaciones de NEM y ranking de notas que exige la carrera.\n",
        "- matricula_2021: Valor de la matrícula 2021 de la carrera (info SIES).\n",
        "- RM: Si la carrera es de la región metropolitana.\n",
        "- V: Si la carrera es de la región V.\n",
        "- VIII: Si la carrera es de la región VIII.\n",
        "- ingreso_3: Ingreso bruto al tercer año de la carrera (info SIES).\n",
        "- emplea_1: Tasa de empleabilidad al primer año de la carrera (info SIES).\n",
        "\n",
        "Se optó por la matricula en vez del arancel, pues la matrícula tiene mejor rendimiento en el modelo. Lo mismo con el ingreso al tercer año (se probó el ingreso desde el primer al quinto año).\n",
        "Por otro lado, no aporta (en ciertos casos empeora) a mejorar el rendimiento del modelo agregar al nombre de la institución superior."
      ]
    },
    {
      "cell_type": "code",
      "metadata": {
        "id": "Cf44lWM_yZI1"
      },
      "source": [
        "features = ['Año','AREA CONOCIMIENTO','acreditacion','gratuidad','duracion','PCT_COLEGIO','matricula_2021','RM','V','VIII','ingreso_3','emplea_1']"
      ],
      "execution_count": null,
      "outputs": []
    },
    {
      "cell_type": "markdown",
      "metadata": {
        "id": "TGHch1r5mk_e"
      },
      "source": [
        "Las variables duración, matricula_2021, ingreso_3 y emplea_1 tienen valores nulos y deben estimarse. Se utilizará un algoritmo iterativo para imputar los valores nulos siguiendo los patrones de las demás variables numéricas.\n",
        "Esto es mejor que borrar las observaciones que tienen valores nulos, ya que se pierde información y empeora el rendimiento del modelo."
      ]
    },
    {
      "cell_type": "code",
      "metadata": {
        "id": "yTqk2LWplAlV"
      },
      "source": [
        "numeric = archivo[features].select_dtypes(include=['float64','int64','int32']).columns.to_list()\n",
        "\n",
        "imputer = IterativeImputer()\n",
        "data = imputer.fit_transform(archivo[numeric])\n",
        "nuevo_data = pd.DataFrame(data, columns=numeric)\n",
        "\n",
        "archivo['duracion'] = nuevo_data['duracion']\n",
        "archivo['matricula_2021'] = nuevo_data['matricula_2021']\n",
        "archivo['ingreso_3'] = nuevo_data['ingreso_3']\n",
        "archivo['emplea_1'] = nuevo_data['emplea_1']"
      ],
      "execution_count": null,
      "outputs": []
    },
    {
      "cell_type": "markdown",
      "metadata": {
        "id": "LWbXcUQZn5uI"
      },
      "source": [
        "El archivo con las variables elegidas ahora no tiene valores nulos:"
      ]
    },
    {
      "cell_type": "code",
      "metadata": {
        "colab": {
          "base_uri": "https://localhost:8080/"
        },
        "id": "-1wltibHB7ZV",
        "outputId": "2bae974a-1a36-4859-eca2-75cc142740be"
      },
      "source": [
        "archivo[features].info()"
      ],
      "execution_count": null,
      "outputs": [
        {
          "output_type": "stream",
          "text": [
            "<class 'pandas.core.frame.DataFrame'>\n",
            "RangeIndex: 5542 entries, 0 to 5541\n",
            "Data columns (total 12 columns):\n",
            " #   Column             Non-Null Count  Dtype   \n",
            "---  ------             --------------  -----   \n",
            " 0   Año                5542 non-null   category\n",
            " 1   AREA CONOCIMIENTO  5542 non-null   category\n",
            " 2   acreditacion       5542 non-null   int64   \n",
            " 3   gratuidad          5542 non-null   int64   \n",
            " 4   duracion           5542 non-null   float64 \n",
            " 5   PCT_COLEGIO        5542 non-null   int64   \n",
            " 6   matricula_2021     5542 non-null   float64 \n",
            " 7   RM                 5542 non-null   int64   \n",
            " 8   V                  5542 non-null   int64   \n",
            " 9   VIII               5542 non-null   int64   \n",
            " 10  ingreso_3          5542 non-null   float64 \n",
            " 11  emplea_1           5542 non-null   float64 \n",
            "dtypes: category(2), float64(4), int64(6)\n",
            "memory usage: 444.4 KB\n"
          ],
          "name": "stdout"
        }
      ]
    },
    {
      "cell_type": "markdown",
      "metadata": {
        "id": "EZIFEK4poGJZ"
      },
      "source": [
        "La matriz de variables explicativas será X y la variable target Y será llena_vacante2 que indica si la carrera llena o no la vacante del año."
      ]
    },
    {
      "cell_type": "code",
      "metadata": {
        "id": "clurKmllzFfc"
      },
      "source": [
        "X = archivo[features]\n",
        "y = archivo['llena_vacante2']"
      ],
      "execution_count": null,
      "outputs": []
    },
    {
      "cell_type": "markdown",
      "metadata": {
        "id": "wk8E0re7owao"
      },
      "source": [
        "Se separa el archivo en dos: uno para entrenar el modelo y en otra para probarlo. La muestra de prueba será del 12% de la muestra total y con ello se tendrán 4876 observaciones para entrenar el modelo y 666 para probarlo. Esas 666 observaciones quedan aisladas."
      ]
    },
    {
      "cell_type": "code",
      "metadata": {
        "id": "tu07YA9tzXZE"
      },
      "source": [
        "X_train, X_test, y_train, y_test = train_test_split(X,y,test_size=0.12,random_state=42) #stratify=y"
      ],
      "execution_count": null,
      "outputs": []
    },
    {
      "cell_type": "code",
      "metadata": {
        "colab": {
          "base_uri": "https://localhost:8080/"
        },
        "id": "wFVlOJUbpfGt",
        "outputId": "75ecc4b0-62ca-45f1-c72d-34bec131ae13"
      },
      "source": [
        "X_train.shape, X_test.shape"
      ],
      "execution_count": null,
      "outputs": [
        {
          "output_type": "execute_result",
          "data": {
            "text/plain": [
              "((4876, 12), (666, 12))"
            ]
          },
          "metadata": {
            "tags": []
          },
          "execution_count": 78
        }
      ]
    },
    {
      "cell_type": "code",
      "metadata": {
        "colab": {
          "base_uri": "https://localhost:8080/"
        },
        "id": "7rk0jy4iOim2",
        "outputId": "565154f4-d22c-498e-c33f-f674b6c777a4"
      },
      "source": [
        "X_test.groupby('Año').size()"
      ],
      "execution_count": null,
      "outputs": [
        {
          "output_type": "execute_result",
          "data": {
            "text/plain": [
              "Año\n",
              "2019    231\n",
              "2020    213\n",
              "2021    222\n",
              "dtype: int64"
            ]
          },
          "metadata": {
            "tags": []
          },
          "execution_count": 79
        }
      ]
    },
    {
      "cell_type": "markdown",
      "metadata": {
        "id": "aaSNq36zp9zN"
      },
      "source": [
        "Como se van a probar varios algoritmos y cada cual tiene requerimientos particulares, para que los datos sean aceptados, se estandarizarán las variables numéricas y las categóricas se transformarán como One Hot Encoder (cada categoría va a ser una variable que vale 1 o 0)."
      ]
    },
    {
      "cell_type": "code",
      "metadata": {
        "colab": {
          "base_uri": "https://localhost:8080/"
        },
        "id": "ga5aVIeazrTN",
        "outputId": "35104a5d-aafe-41e6-891b-f0409899e61f"
      },
      "source": [
        "# Se identifica el nombre de las columnas numéricas y categóricas\n",
        "cat_cols = X_train.select_dtypes(include=['object', 'category']).columns.to_list()\n",
        "numeric_cols = X_train.select_dtypes(include=['float64', 'int64','int32']).columns.to_list()\n",
        "\n",
        "# Se aplica one-hot-encoding solo a las columnas categóricas, se estandarizan las numéricas.\n",
        "preprocessor = ColumnTransformer(\n",
        "                    [('scale', StandardScaler(), numeric_cols),\n",
        "                    ('onehot', OneHotEncoder(handle_unknown='ignore'), cat_cols)],\n",
        "                    remainder='passthrough')\n",
        "\n",
        "X_train_prep = preprocessor.fit_transform(X_train)\n",
        "X_test_prep  = preprocessor.transform(X_test)\n",
        "\n",
        "# Convertir el output del ColumnTransformer en dataframe y añadir el nombre de las columnas\n",
        "# Nombre de todas las columnas\n",
        "encoded_cat = preprocessor.named_transformers_['onehot'].get_feature_names(cat_cols)\n",
        "labels = np.concatenate([encoded_cat,numeric_cols])\n",
        "\n",
        "# Conversión a dataframe\n",
        "X_train_prep = pd.DataFrame(X_train_prep, columns=labels) #pd.DataFrame.sparse.from_spmatrix\n",
        "X_test_prep  = pd.DataFrame(X_test_prep, columns=labels)\n",
        "X_train_prep.info()"
      ],
      "execution_count": null,
      "outputs": [
        {
          "output_type": "stream",
          "text": [
            "<class 'pandas.core.frame.DataFrame'>\n",
            "RangeIndex: 4876 entries, 0 to 4875\n",
            "Data columns (total 23 columns):\n",
            " #   Column                                       Non-Null Count  Dtype  \n",
            "---  ------                                       --------------  -----  \n",
            " 0   Año_2019                                     4876 non-null   float64\n",
            " 1   Año_2020                                     4876 non-null   float64\n",
            " 2   Año_2021                                     4876 non-null   float64\n",
            " 3   AREA CONOCIMIENTO_Administración y Comercio  4876 non-null   float64\n",
            " 4   AREA CONOCIMIENTO_Agropecuaria               4876 non-null   float64\n",
            " 5   AREA CONOCIMIENTO_Arte y Arquitectura        4876 non-null   float64\n",
            " 6   AREA CONOCIMIENTO_Ciencias Básicas           4876 non-null   float64\n",
            " 7   AREA CONOCIMIENTO_Ciencias Sociales          4876 non-null   float64\n",
            " 8   AREA CONOCIMIENTO_Derecho                    4876 non-null   float64\n",
            " 9   AREA CONOCIMIENTO_Educación                  4876 non-null   float64\n",
            " 10  AREA CONOCIMIENTO_Humanidades                4876 non-null   float64\n",
            " 11  AREA CONOCIMIENTO_Salud                      4876 non-null   float64\n",
            " 12  AREA CONOCIMIENTO_Tecnología                 4876 non-null   float64\n",
            " 13  acreditacion                                 4876 non-null   float64\n",
            " 14  gratuidad                                    4876 non-null   float64\n",
            " 15  duracion                                     4876 non-null   float64\n",
            " 16  PCT_COLEGIO                                  4876 non-null   float64\n",
            " 17  matricula_2021                               4876 non-null   float64\n",
            " 18  RM                                           4876 non-null   float64\n",
            " 19  V                                            4876 non-null   float64\n",
            " 20  VIII                                         4876 non-null   float64\n",
            " 21  ingreso_3                                    4876 non-null   float64\n",
            " 22  emplea_1                                     4876 non-null   float64\n",
            "dtypes: float64(23)\n",
            "memory usage: 876.3 KB\n"
          ],
          "name": "stdout"
        }
      ]
    },
    {
      "cell_type": "markdown",
      "metadata": {
        "id": "gzpoHaIacia-"
      },
      "source": [
        "##3. Entrenamiento de modelos"
      ]
    },
    {
      "cell_type": "markdown",
      "metadata": {
        "id": "RD1JyPU1u9D6"
      },
      "source": [
        "Ya teniendo definidos los archivos de entrenamiento y prueba con el formato adecuado, se entrenarán 12 modelos para ver su rendimiento a la hora de predecir la variable target de llenar vacantes. Luego del entrenamiento, se observa que los 5 mejores modelos son aquellos basados en la técnica del boosting, en donde el algoritmo a partir de varios modelos va aprendiendo de forma secuencial de los errores de cada modelo precedente para ir mejorando el pronóstico final.\n",
        "En particular, el que tiene mejor rendimiento en score es Catboost con un 81,49% de accuracy para el set de prueba, logrando un buen balance de rendimiento con el set de entrenamiento (lo cual es importante para poder generalizar el modelo).\n",
        "\n",
        "(Catboost es un algoritmo ensamblado de machine learning de la empresa de tecnología más grande de Rusia: Yandex. El algoritmo fue liberado hace unos 3 años, y suele encabezar las competencias de machine learning junto con las redes neuronales)."
      ]
    },
    {
      "cell_type": "code",
      "metadata": {
        "colab": {
          "base_uri": "https://localhost:8080/",
          "height": 407
        },
        "id": "F61be0n8OdP9",
        "outputId": "ddbf0a79-c061-4e2e-dfe3-eacf66d5626f"
      },
      "source": [
        "score_train =[]\n",
        "score_test = []\n",
        "\n",
        "names = ['CatBoost', 'XGBoost','LightGBM','Logistic Regression', 'Decision Tree', 'Random Forest', 'Support Vector Machine',\n",
        "         'AdaBoost', 'Gradient Boosting', 'K Neighbors', 'Extra Trees','Neural Network']\n",
        "\n",
        "models = [cb.CatBoostClassifier(silent=True), xgb.XGBClassifier(),lgb.LGBMClassifier(),LogisticRegression(), DecisionTreeClassifier(),\n",
        "          RandomForestClassifier(), SVC(), AdaBoostClassifier(), GradientBoostingClassifier(), KNeighborsClassifier(), ExtraTreesClassifier(), MLPClassifier()]\n",
        "\n",
        "\n",
        "for model in zip(names, models):\n",
        "  model[1].fit(X_train_prep, y_train)\n",
        "  score_train.append(model[1].score(X_train_prep,y_train))\n",
        "  score_test.append(model[1].score(X_test_prep,y_test))\n",
        "\n",
        "pd.DataFrame({'Modelo':names,\n",
        "              'Score Train':score_train,\n",
        "              'Score_Test': score_test}).sort_values('Score_Test', ascending=False)"
      ],
      "execution_count": null,
      "outputs": [
        {
          "output_type": "execute_result",
          "data": {
            "text/html": [
              "<div>\n",
              "<style scoped>\n",
              "    .dataframe tbody tr th:only-of-type {\n",
              "        vertical-align: middle;\n",
              "    }\n",
              "\n",
              "    .dataframe tbody tr th {\n",
              "        vertical-align: top;\n",
              "    }\n",
              "\n",
              "    .dataframe thead th {\n",
              "        text-align: right;\n",
              "    }\n",
              "</style>\n",
              "<table border=\"1\" class=\"dataframe\">\n",
              "  <thead>\n",
              "    <tr style=\"text-align: right;\">\n",
              "      <th></th>\n",
              "      <th>Modelo</th>\n",
              "      <th>Score Train</th>\n",
              "      <th>Score_Test</th>\n",
              "    </tr>\n",
              "  </thead>\n",
              "  <tbody>\n",
              "    <tr>\n",
              "      <th>0</th>\n",
              "      <td>CatBoost</td>\n",
              "      <td>0.884126</td>\n",
              "      <td>0.839339</td>\n",
              "    </tr>\n",
              "    <tr>\n",
              "      <th>2</th>\n",
              "      <td>LightGBM</td>\n",
              "      <td>0.895406</td>\n",
              "      <td>0.834835</td>\n",
              "    </tr>\n",
              "    <tr>\n",
              "      <th>1</th>\n",
              "      <td>XGBoost</td>\n",
              "      <td>0.807424</td>\n",
              "      <td>0.813814</td>\n",
              "    </tr>\n",
              "    <tr>\n",
              "      <th>5</th>\n",
              "      <td>Random Forest</td>\n",
              "      <td>0.974774</td>\n",
              "      <td>0.806306</td>\n",
              "    </tr>\n",
              "    <tr>\n",
              "      <th>8</th>\n",
              "      <td>Gradient Boosting</td>\n",
              "      <td>0.808655</td>\n",
              "      <td>0.804805</td>\n",
              "    </tr>\n",
              "    <tr>\n",
              "      <th>6</th>\n",
              "      <td>Support Vector Machine</td>\n",
              "      <td>0.797580</td>\n",
              "      <td>0.789790</td>\n",
              "    </tr>\n",
              "    <tr>\n",
              "      <th>10</th>\n",
              "      <td>Extra Trees</td>\n",
              "      <td>0.974774</td>\n",
              "      <td>0.786787</td>\n",
              "    </tr>\n",
              "    <tr>\n",
              "      <th>11</th>\n",
              "      <td>Neural Network</td>\n",
              "      <td>0.840238</td>\n",
              "      <td>0.782282</td>\n",
              "    </tr>\n",
              "    <tr>\n",
              "      <th>7</th>\n",
              "      <td>AdaBoost</td>\n",
              "      <td>0.764561</td>\n",
              "      <td>0.777778</td>\n",
              "    </tr>\n",
              "    <tr>\n",
              "      <th>9</th>\n",
              "      <td>K Neighbors</td>\n",
              "      <td>0.835931</td>\n",
              "      <td>0.777778</td>\n",
              "    </tr>\n",
              "    <tr>\n",
              "      <th>3</th>\n",
              "      <td>Logistic Regression</td>\n",
              "      <td>0.733798</td>\n",
              "      <td>0.759760</td>\n",
              "    </tr>\n",
              "    <tr>\n",
              "      <th>4</th>\n",
              "      <td>Decision Tree</td>\n",
              "      <td>0.974774</td>\n",
              "      <td>0.752252</td>\n",
              "    </tr>\n",
              "  </tbody>\n",
              "</table>\n",
              "</div>"
            ],
            "text/plain": [
              "                    Modelo  Score Train  Score_Test\n",
              "0                 CatBoost     0.884126    0.839339\n",
              "2                 LightGBM     0.895406    0.834835\n",
              "1                  XGBoost     0.807424    0.813814\n",
              "5            Random Forest     0.974774    0.806306\n",
              "8        Gradient Boosting     0.808655    0.804805\n",
              "6   Support Vector Machine     0.797580    0.789790\n",
              "10             Extra Trees     0.974774    0.786787\n",
              "11          Neural Network     0.840238    0.782282\n",
              "7                 AdaBoost     0.764561    0.777778\n",
              "9              K Neighbors     0.835931    0.777778\n",
              "3      Logistic Regression     0.733798    0.759760\n",
              "4            Decision Tree     0.974774    0.752252"
            ]
          },
          "metadata": {
            "tags": []
          },
          "execution_count": 81
        }
      ]
    },
    {
      "cell_type": "markdown",
      "metadata": {
        "id": "2htrxdvpc24F"
      },
      "source": [
        "##4. Validación de modelo elegido"
      ]
    },
    {
      "cell_type": "markdown",
      "metadata": {
        "id": "_TM9pK-ImG1S"
      },
      "source": [
        "**(Paréntesis: salida de los coeficientes de la Regresión Logística)**"
      ]
    },
    {
      "cell_type": "code",
      "metadata": {
        "colab": {
          "base_uri": "https://localhost:8080/",
          "height": 773
        },
        "id": "eShoaUrBgJ5g",
        "outputId": "7dcbe996-b7c5-442e-8e7b-f21000ce1f8c"
      },
      "source": [
        "model_2 = LogisticRegression()\n",
        "model_2.fit(X_train_prep,y_train)\n",
        "\n",
        "print(\"Intercepto:\", model_2.intercept_)\n",
        "print('Exp Intercepto', np.exp(model_2.intercept_))\n",
        "\n",
        "pd.DataFrame({'Variable':X_train_prep.columns,\n",
        "              'Coeficiente':model_2.coef_.flatten(),\n",
        "              'Exp Coeficiente': np.exp(model_2.coef_.flatten())})"
      ],
      "execution_count": null,
      "outputs": [
        {
          "output_type": "stream",
          "text": [
            "Intercepto: [1.05546226]\n",
            "Exp Intercepto [2.87330307]\n"
          ],
          "name": "stdout"
        },
        {
          "output_type": "execute_result",
          "data": {
            "text/html": [
              "<div>\n",
              "<style scoped>\n",
              "    .dataframe tbody tr th:only-of-type {\n",
              "        vertical-align: middle;\n",
              "    }\n",
              "\n",
              "    .dataframe tbody tr th {\n",
              "        vertical-align: top;\n",
              "    }\n",
              "\n",
              "    .dataframe thead th {\n",
              "        text-align: right;\n",
              "    }\n",
              "</style>\n",
              "<table border=\"1\" class=\"dataframe\">\n",
              "  <thead>\n",
              "    <tr style=\"text-align: right;\">\n",
              "      <th></th>\n",
              "      <th>Variable</th>\n",
              "      <th>Coeficiente</th>\n",
              "      <th>Exp Coeficiente</th>\n",
              "    </tr>\n",
              "  </thead>\n",
              "  <tbody>\n",
              "    <tr>\n",
              "      <th>0</th>\n",
              "      <td>Año_2019</td>\n",
              "      <td>0.339743</td>\n",
              "      <td>1.404586</td>\n",
              "    </tr>\n",
              "    <tr>\n",
              "      <th>1</th>\n",
              "      <td>Año_2020</td>\n",
              "      <td>0.613656</td>\n",
              "      <td>1.847173</td>\n",
              "    </tr>\n",
              "    <tr>\n",
              "      <th>2</th>\n",
              "      <td>Año_2021</td>\n",
              "      <td>0.205815</td>\n",
              "      <td>1.228526</td>\n",
              "    </tr>\n",
              "    <tr>\n",
              "      <th>3</th>\n",
              "      <td>AREA CONOCIMIENTO_Administración y Comercio</td>\n",
              "      <td>-0.130486</td>\n",
              "      <td>0.877669</td>\n",
              "    </tr>\n",
              "    <tr>\n",
              "      <th>4</th>\n",
              "      <td>AREA CONOCIMIENTO_Agropecuaria</td>\n",
              "      <td>0.271114</td>\n",
              "      <td>1.311425</td>\n",
              "    </tr>\n",
              "    <tr>\n",
              "      <th>5</th>\n",
              "      <td>AREA CONOCIMIENTO_Arte y Arquitectura</td>\n",
              "      <td>-0.104296</td>\n",
              "      <td>0.900959</td>\n",
              "    </tr>\n",
              "    <tr>\n",
              "      <th>6</th>\n",
              "      <td>AREA CONOCIMIENTO_Ciencias Básicas</td>\n",
              "      <td>-0.131454</td>\n",
              "      <td>0.876820</td>\n",
              "    </tr>\n",
              "    <tr>\n",
              "      <th>7</th>\n",
              "      <td>AREA CONOCIMIENTO_Ciencias Sociales</td>\n",
              "      <td>0.125472</td>\n",
              "      <td>1.133683</td>\n",
              "    </tr>\n",
              "    <tr>\n",
              "      <th>8</th>\n",
              "      <td>AREA CONOCIMIENTO_Derecho</td>\n",
              "      <td>0.054171</td>\n",
              "      <td>1.055665</td>\n",
              "    </tr>\n",
              "    <tr>\n",
              "      <th>9</th>\n",
              "      <td>AREA CONOCIMIENTO_Educación</td>\n",
              "      <td>0.266042</td>\n",
              "      <td>1.304789</td>\n",
              "    </tr>\n",
              "    <tr>\n",
              "      <th>10</th>\n",
              "      <td>AREA CONOCIMIENTO_Humanidades</td>\n",
              "      <td>0.657864</td>\n",
              "      <td>1.930664</td>\n",
              "    </tr>\n",
              "    <tr>\n",
              "      <th>11</th>\n",
              "      <td>AREA CONOCIMIENTO_Salud</td>\n",
              "      <td>-0.080561</td>\n",
              "      <td>0.922599</td>\n",
              "    </tr>\n",
              "    <tr>\n",
              "      <th>12</th>\n",
              "      <td>AREA CONOCIMIENTO_Tecnología</td>\n",
              "      <td>-0.577091</td>\n",
              "      <td>0.561530</td>\n",
              "    </tr>\n",
              "    <tr>\n",
              "      <th>13</th>\n",
              "      <td>acreditacion</td>\n",
              "      <td>-0.911784</td>\n",
              "      <td>0.401807</td>\n",
              "    </tr>\n",
              "    <tr>\n",
              "      <th>14</th>\n",
              "      <td>gratuidad</td>\n",
              "      <td>0.507490</td>\n",
              "      <td>1.661117</td>\n",
              "    </tr>\n",
              "    <tr>\n",
              "      <th>15</th>\n",
              "      <td>duracion</td>\n",
              "      <td>1.060747</td>\n",
              "      <td>2.888528</td>\n",
              "    </tr>\n",
              "    <tr>\n",
              "      <th>16</th>\n",
              "      <td>PCT_COLEGIO</td>\n",
              "      <td>0.077131</td>\n",
              "      <td>1.080183</td>\n",
              "    </tr>\n",
              "    <tr>\n",
              "      <th>17</th>\n",
              "      <td>matricula_2021</td>\n",
              "      <td>0.375367</td>\n",
              "      <td>1.455526</td>\n",
              "    </tr>\n",
              "    <tr>\n",
              "      <th>18</th>\n",
              "      <td>RM</td>\n",
              "      <td>0.715360</td>\n",
              "      <td>2.044922</td>\n",
              "    </tr>\n",
              "    <tr>\n",
              "      <th>19</th>\n",
              "      <td>V</td>\n",
              "      <td>-1.311047</td>\n",
              "      <td>0.269538</td>\n",
              "    </tr>\n",
              "    <tr>\n",
              "      <th>20</th>\n",
              "      <td>VIII</td>\n",
              "      <td>-0.418934</td>\n",
              "      <td>0.657748</td>\n",
              "    </tr>\n",
              "    <tr>\n",
              "      <th>21</th>\n",
              "      <td>ingreso_3</td>\n",
              "      <td>1.180035</td>\n",
              "      <td>3.254488</td>\n",
              "    </tr>\n",
              "    <tr>\n",
              "      <th>22</th>\n",
              "      <td>emplea_1</td>\n",
              "      <td>-1.274152</td>\n",
              "      <td>0.279668</td>\n",
              "    </tr>\n",
              "  </tbody>\n",
              "</table>\n",
              "</div>"
            ],
            "text/plain": [
              "                                       Variable  Coeficiente  Exp Coeficiente\n",
              "0                                      Año_2019     0.339743         1.404586\n",
              "1                                      Año_2020     0.613656         1.847173\n",
              "2                                      Año_2021     0.205815         1.228526\n",
              "3   AREA CONOCIMIENTO_Administración y Comercio    -0.130486         0.877669\n",
              "4                AREA CONOCIMIENTO_Agropecuaria     0.271114         1.311425\n",
              "5         AREA CONOCIMIENTO_Arte y Arquitectura    -0.104296         0.900959\n",
              "6            AREA CONOCIMIENTO_Ciencias Básicas    -0.131454         0.876820\n",
              "7           AREA CONOCIMIENTO_Ciencias Sociales     0.125472         1.133683\n",
              "8                     AREA CONOCIMIENTO_Derecho     0.054171         1.055665\n",
              "9                   AREA CONOCIMIENTO_Educación     0.266042         1.304789\n",
              "10                AREA CONOCIMIENTO_Humanidades     0.657864         1.930664\n",
              "11                      AREA CONOCIMIENTO_Salud    -0.080561         0.922599\n",
              "12                 AREA CONOCIMIENTO_Tecnología    -0.577091         0.561530\n",
              "13                                 acreditacion    -0.911784         0.401807\n",
              "14                                    gratuidad     0.507490         1.661117\n",
              "15                                     duracion     1.060747         2.888528\n",
              "16                                  PCT_COLEGIO     0.077131         1.080183\n",
              "17                               matricula_2021     0.375367         1.455526\n",
              "18                                           RM     0.715360         2.044922\n",
              "19                                            V    -1.311047         0.269538\n",
              "20                                         VIII    -0.418934         0.657748\n",
              "21                                    ingreso_3     1.180035         3.254488\n",
              "22                                     emplea_1    -1.274152         0.279668"
            ]
          },
          "metadata": {
            "tags": []
          },
          "execution_count": 82
        }
      ]
    },
    {
      "cell_type": "markdown",
      "metadata": {
        "id": "SHJknCqUvAgw"
      },
      "source": [
        "(---fin de paréntesis---)"
      ]
    },
    {
      "cell_type": "markdown",
      "metadata": {
        "id": "SBcJ3OQCyb6L"
      },
      "source": [
        "En adelante se usará Catboost para evaluar el modelo y hacer las predicciones."
      ]
    },
    {
      "cell_type": "code",
      "metadata": {
        "id": "VGu6fByIPr28",
        "colab": {
          "base_uri": "https://localhost:8080/"
        },
        "outputId": "83f850a3-9a27-4257-f2eb-447322bf565c"
      },
      "source": [
        "model = cb.CatBoostClassifier(silent=True)\n",
        "model.fit(X_train_prep,y_train)\n",
        "\n",
        "model.score(X_test_prep,y_test)"
      ],
      "execution_count": null,
      "outputs": [
        {
          "output_type": "execute_result",
          "data": {
            "text/plain": [
              "0.8393393393393394"
            ]
          },
          "metadata": {
            "tags": []
          },
          "execution_count": 83
        }
      ]
    },
    {
      "cell_type": "markdown",
      "metadata": {
        "id": "i0cvZL2f3P2k"
      },
      "source": [
        "Si se revisa la importancia de cada variable en el modelo, se observa que el área de conocimiento, el año, el ingreso del tercer año y la empleabilidad son los más relevantes."
      ]
    },
    {
      "cell_type": "code",
      "metadata": {
        "colab": {
          "base_uri": "https://localhost:8080/",
          "height": 737
        },
        "id": "gSJqSsBP7tax",
        "outputId": "07b8cc48-a2a8-46f0-ff76-71ae3a0a023f"
      },
      "source": [
        "importancia_predictores = pd.DataFrame(\n",
        "                            {'predictor': X_train_prep.columns,\n",
        "                             'importancia': model.feature_importances_}\n",
        "                            )\n",
        "importancia_predictores.sort_values('importancia', ascending=False)"
      ],
      "execution_count": null,
      "outputs": [
        {
          "output_type": "execute_result",
          "data": {
            "text/html": [
              "<div>\n",
              "<style scoped>\n",
              "    .dataframe tbody tr th:only-of-type {\n",
              "        vertical-align: middle;\n",
              "    }\n",
              "\n",
              "    .dataframe tbody tr th {\n",
              "        vertical-align: top;\n",
              "    }\n",
              "\n",
              "    .dataframe thead th {\n",
              "        text-align: right;\n",
              "    }\n",
              "</style>\n",
              "<table border=\"1\" class=\"dataframe\">\n",
              "  <thead>\n",
              "    <tr style=\"text-align: right;\">\n",
              "      <th></th>\n",
              "      <th>predictor</th>\n",
              "      <th>importancia</th>\n",
              "    </tr>\n",
              "  </thead>\n",
              "  <tbody>\n",
              "    <tr>\n",
              "      <th>4</th>\n",
              "      <td>AREA CONOCIMIENTO_Agropecuaria</td>\n",
              "      <td>14.833501</td>\n",
              "    </tr>\n",
              "    <tr>\n",
              "      <th>8</th>\n",
              "      <td>AREA CONOCIMIENTO_Derecho</td>\n",
              "      <td>13.813920</td>\n",
              "    </tr>\n",
              "    <tr>\n",
              "      <th>9</th>\n",
              "      <td>AREA CONOCIMIENTO_Educación</td>\n",
              "      <td>12.098633</td>\n",
              "    </tr>\n",
              "    <tr>\n",
              "      <th>0</th>\n",
              "      <td>Año_2019</td>\n",
              "      <td>8.092306</td>\n",
              "    </tr>\n",
              "    <tr>\n",
              "      <th>21</th>\n",
              "      <td>ingreso_3</td>\n",
              "      <td>8.081873</td>\n",
              "    </tr>\n",
              "    <tr>\n",
              "      <th>2</th>\n",
              "      <td>Año_2021</td>\n",
              "      <td>6.854189</td>\n",
              "    </tr>\n",
              "    <tr>\n",
              "      <th>1</th>\n",
              "      <td>Año_2020</td>\n",
              "      <td>5.896648</td>\n",
              "    </tr>\n",
              "    <tr>\n",
              "      <th>22</th>\n",
              "      <td>emplea_1</td>\n",
              "      <td>5.605239</td>\n",
              "    </tr>\n",
              "    <tr>\n",
              "      <th>12</th>\n",
              "      <td>AREA CONOCIMIENTO_Tecnología</td>\n",
              "      <td>4.076724</td>\n",
              "    </tr>\n",
              "    <tr>\n",
              "      <th>10</th>\n",
              "      <td>AREA CONOCIMIENTO_Humanidades</td>\n",
              "      <td>3.791582</td>\n",
              "    </tr>\n",
              "    <tr>\n",
              "      <th>3</th>\n",
              "      <td>AREA CONOCIMIENTO_Administración y Comercio</td>\n",
              "      <td>3.761141</td>\n",
              "    </tr>\n",
              "    <tr>\n",
              "      <th>5</th>\n",
              "      <td>AREA CONOCIMIENTO_Arte y Arquitectura</td>\n",
              "      <td>2.298716</td>\n",
              "    </tr>\n",
              "    <tr>\n",
              "      <th>19</th>\n",
              "      <td>V</td>\n",
              "      <td>2.219748</td>\n",
              "    </tr>\n",
              "    <tr>\n",
              "      <th>6</th>\n",
              "      <td>AREA CONOCIMIENTO_Ciencias Básicas</td>\n",
              "      <td>1.388952</td>\n",
              "    </tr>\n",
              "    <tr>\n",
              "      <th>15</th>\n",
              "      <td>duracion</td>\n",
              "      <td>1.363507</td>\n",
              "    </tr>\n",
              "    <tr>\n",
              "      <th>17</th>\n",
              "      <td>matricula_2021</td>\n",
              "      <td>1.176527</td>\n",
              "    </tr>\n",
              "    <tr>\n",
              "      <th>7</th>\n",
              "      <td>AREA CONOCIMIENTO_Ciencias Sociales</td>\n",
              "      <td>1.046720</td>\n",
              "    </tr>\n",
              "    <tr>\n",
              "      <th>18</th>\n",
              "      <td>RM</td>\n",
              "      <td>0.712663</td>\n",
              "    </tr>\n",
              "    <tr>\n",
              "      <th>13</th>\n",
              "      <td>acreditacion</td>\n",
              "      <td>0.697970</td>\n",
              "    </tr>\n",
              "    <tr>\n",
              "      <th>14</th>\n",
              "      <td>gratuidad</td>\n",
              "      <td>0.639245</td>\n",
              "    </tr>\n",
              "    <tr>\n",
              "      <th>16</th>\n",
              "      <td>PCT_COLEGIO</td>\n",
              "      <td>0.571778</td>\n",
              "    </tr>\n",
              "    <tr>\n",
              "      <th>20</th>\n",
              "      <td>VIII</td>\n",
              "      <td>0.567820</td>\n",
              "    </tr>\n",
              "    <tr>\n",
              "      <th>11</th>\n",
              "      <td>AREA CONOCIMIENTO_Salud</td>\n",
              "      <td>0.410597</td>\n",
              "    </tr>\n",
              "  </tbody>\n",
              "</table>\n",
              "</div>"
            ],
            "text/plain": [
              "                                      predictor  importancia\n",
              "4                AREA CONOCIMIENTO_Agropecuaria    14.833501\n",
              "8                     AREA CONOCIMIENTO_Derecho    13.813920\n",
              "9                   AREA CONOCIMIENTO_Educación    12.098633\n",
              "0                                      Año_2019     8.092306\n",
              "21                                    ingreso_3     8.081873\n",
              "2                                      Año_2021     6.854189\n",
              "1                                      Año_2020     5.896648\n",
              "22                                     emplea_1     5.605239\n",
              "12                 AREA CONOCIMIENTO_Tecnología     4.076724\n",
              "10                AREA CONOCIMIENTO_Humanidades     3.791582\n",
              "3   AREA CONOCIMIENTO_Administración y Comercio     3.761141\n",
              "5         AREA CONOCIMIENTO_Arte y Arquitectura     2.298716\n",
              "19                                            V     2.219748\n",
              "6            AREA CONOCIMIENTO_Ciencias Básicas     1.388952\n",
              "15                                     duracion     1.363507\n",
              "17                               matricula_2021     1.176527\n",
              "7           AREA CONOCIMIENTO_Ciencias Sociales     1.046720\n",
              "18                                           RM     0.712663\n",
              "13                                 acreditacion     0.697970\n",
              "14                                    gratuidad     0.639245\n",
              "16                                  PCT_COLEGIO     0.571778\n",
              "20                                         VIII     0.567820\n",
              "11                      AREA CONOCIMIENTO_Salud     0.410597"
            ]
          },
          "metadata": {
            "tags": []
          },
          "execution_count": 84
        }
      ]
    },
    {
      "cell_type": "markdown",
      "metadata": {
        "id": "bqCJwRJs3vr_"
      },
      "source": [
        "Si bien el accuracy global es del 83%, se pueden revisar otras métricas relevantes para evaluar el modelo, como la precisión y el recall en el pronóstico cuando la variable llena_vacante vale 1."
      ]
    },
    {
      "cell_type": "code",
      "metadata": {
        "colab": {
          "base_uri": "https://localhost:8080/"
        },
        "id": "M99Rr4TSYQlI",
        "outputId": "a5d3775f-8bb1-4875-f038-17fb7bb05dbc"
      },
      "source": [
        "predict = model.predict(X_test_prep)\n",
        "print(classification_report(y_test,predict))"
      ],
      "execution_count": null,
      "outputs": [
        {
          "output_type": "stream",
          "text": [
            "              precision    recall  f1-score   support\n",
            "\n",
            "           0       0.75      0.73      0.74       211\n",
            "           1       0.88      0.89      0.88       455\n",
            "\n",
            "    accuracy                           0.84       666\n",
            "   macro avg       0.82      0.81      0.81       666\n",
            "weighted avg       0.84      0.84      0.84       666\n",
            "\n"
          ],
          "name": "stdout"
        }
      ]
    },
    {
      "cell_type": "markdown",
      "metadata": {
        "id": "LJtqqEhZ4F8v"
      },
      "source": [
        "En la matriz de confusión siguiente se pueden observar cómo se comporta el modelo con el set de prueba de 832 observaciones. Por ejemplo, de las 540 observaciones que tienen valor 1 en la realidad, el modelo acierta el 484, lo cual es un acierto del 90% (métrica llamada recall). Así también, de las 582 observaciones que el modelo predice como 1, en realidad son 484 las que son efectivamente 1, lo cual da una precisión de 83%. La mezcla de ambos indicadores es el f1-score, calculado en 86%, lo que es en general un buen indicador."
      ]
    },
    {
      "cell_type": "code",
      "metadata": {
        "colab": {
          "base_uri": "https://localhost:8080/",
          "height": 310
        },
        "id": "VtkYHVTsY9W7",
        "outputId": "399e5db1-a2de-4579-8b6d-758e54a1b6e5"
      },
      "source": [
        "confusion = confusion_matrix(y_test, predict)\n",
        "\n",
        "fig, ax = plt.subplots(figsize=(5,5))\n",
        "cm_display_CB = ConfusionMatrixDisplay(confusion,display_labels=[0,1])\n",
        "cm_display_CB.plot(cmap='Blues', ax=ax, values_format='g');"
      ],
      "execution_count": null,
      "outputs": [
        {
          "output_type": "display_data",
          "data": {
            "image/png": "[encoded data removed]",
            "text/plain": [
              "<Figure size 360x360 with 2 Axes>"
            ]
          },
          "metadata": {
            "tags": [],
            "needs_background": "light"
          }
        }
      ]
    },
    {
      "cell_type": "code",
      "metadata": {
        "colab": {
          "base_uri": "https://localhost:8080/",
          "height": 197
        },
        "id": "lXqJab5RQz6G",
        "outputId": "f0d8423d-3159-45d4-d1e1-167a1b1a63ee"
      },
      "source": [
        "X_test['predict'] = predict\n",
        "X_test['real'] = y_test\n",
        "\n",
        "X_test['acierto'] = (predict== y_test)\n",
        "X_test.head()"
      ],
      "execution_count": null,
      "outputs": [
        {
          "output_type": "execute_result",
          "data": {
            "text/html": [
              "<div>\n",
              "<style scoped>\n",
              "    .dataframe tbody tr th:only-of-type {\n",
              "        vertical-align: middle;\n",
              "    }\n",
              "\n",
              "    .dataframe tbody tr th {\n",
              "        vertical-align: top;\n",
              "    }\n",
              "\n",
              "    .dataframe thead th {\n",
              "        text-align: right;\n",
              "    }\n",
              "</style>\n",
              "<table border=\"1\" class=\"dataframe\">\n",
              "  <thead>\n",
              "    <tr style=\"text-align: right;\">\n",
              "      <th></th>\n",
              "      <th>Año</th>\n",
              "      <th>AREA CONOCIMIENTO</th>\n",
              "      <th>acreditacion</th>\n",
              "      <th>gratuidad</th>\n",
              "      <th>duracion</th>\n",
              "      <th>PCT_COLEGIO</th>\n",
              "      <th>matricula_2021</th>\n",
              "      <th>RM</th>\n",
              "      <th>V</th>\n",
              "      <th>VIII</th>\n",
              "      <th>ingreso_3</th>\n",
              "      <th>emplea_1</th>\n",
              "      <th>predict</th>\n",
              "      <th>real</th>\n",
              "      <th>acierto</th>\n",
              "    </tr>\n",
              "  </thead>\n",
              "  <tbody>\n",
              "    <tr>\n",
              "      <th>4235</th>\n",
              "      <td>2021</td>\n",
              "      <td>Educación</td>\n",
              "      <td>5</td>\n",
              "      <td>1</td>\n",
              "      <td>10.0</td>\n",
              "      <td>50</td>\n",
              "      <td>155000.0</td>\n",
              "      <td>0</td>\n",
              "      <td>0</td>\n",
              "      <td>0</td>\n",
              "      <td>8.169302e+05</td>\n",
              "      <td>0.869565</td>\n",
              "      <td>0</td>\n",
              "      <td>0</td>\n",
              "      <td>True</td>\n",
              "    </tr>\n",
              "    <tr>\n",
              "      <th>4908</th>\n",
              "      <td>2021</td>\n",
              "      <td>Tecnología</td>\n",
              "      <td>5</td>\n",
              "      <td>0</td>\n",
              "      <td>8.0</td>\n",
              "      <td>40</td>\n",
              "      <td>370000.0</td>\n",
              "      <td>1</td>\n",
              "      <td>0</td>\n",
              "      <td>0</td>\n",
              "      <td>1.592718e+06</td>\n",
              "      <td>0.879213</td>\n",
              "      <td>0</td>\n",
              "      <td>0</td>\n",
              "      <td>True</td>\n",
              "    </tr>\n",
              "    <tr>\n",
              "      <th>3418</th>\n",
              "      <td>2020</td>\n",
              "      <td>Salud</td>\n",
              "      <td>4</td>\n",
              "      <td>1</td>\n",
              "      <td>10.0</td>\n",
              "      <td>20</td>\n",
              "      <td>240000.0</td>\n",
              "      <td>0</td>\n",
              "      <td>0</td>\n",
              "      <td>0</td>\n",
              "      <td>7.874125e+05</td>\n",
              "      <td>0.423695</td>\n",
              "      <td>1</td>\n",
              "      <td>1</td>\n",
              "      <td>True</td>\n",
              "    </tr>\n",
              "    <tr>\n",
              "      <th>230</th>\n",
              "      <td>2019</td>\n",
              "      <td>Tecnología</td>\n",
              "      <td>6</td>\n",
              "      <td>1</td>\n",
              "      <td>11.0</td>\n",
              "      <td>20</td>\n",
              "      <td>208000.0</td>\n",
              "      <td>0</td>\n",
              "      <td>1</td>\n",
              "      <td>0</td>\n",
              "      <td>1.813632e+06</td>\n",
              "      <td>0.871046</td>\n",
              "      <td>1</td>\n",
              "      <td>1</td>\n",
              "      <td>True</td>\n",
              "    </tr>\n",
              "    <tr>\n",
              "      <th>1315</th>\n",
              "      <td>2019</td>\n",
              "      <td>Ciencias Básicas</td>\n",
              "      <td>5</td>\n",
              "      <td>0</td>\n",
              "      <td>4.0</td>\n",
              "      <td>40</td>\n",
              "      <td>320000.0</td>\n",
              "      <td>0</td>\n",
              "      <td>0</td>\n",
              "      <td>1</td>\n",
              "      <td>1.169311e+06</td>\n",
              "      <td>0.731013</td>\n",
              "      <td>0</td>\n",
              "      <td>1</td>\n",
              "      <td>False</td>\n",
              "    </tr>\n",
              "  </tbody>\n",
              "</table>\n",
              "</div>"
            ],
            "text/plain": [
              "       Año AREA CONOCIMIENTO  acreditacion  ...  predict  real  acierto\n",
              "4235  2021         Educación             5  ...        0     0     True\n",
              "4908  2021        Tecnología             5  ...        0     0     True\n",
              "3418  2020             Salud             4  ...        1     1     True\n",
              "230   2019        Tecnología             6  ...        1     1     True\n",
              "1315  2019  Ciencias Básicas             5  ...        0     1    False\n",
              "\n",
              "[5 rows x 15 columns]"
            ]
          },
          "metadata": {
            "tags": []
          },
          "execution_count": 87
        }
      ]
    },
    {
      "cell_type": "markdown",
      "metadata": {
        "id": "0vkB1wD6dZ-b"
      },
      "source": []
    },
    {
      "cell_type": "code",
      "metadata": {
        "colab": {
          "base_uri": "https://localhost:8080/"
        },
        "id": "EsQys-Z-RYGP",
        "outputId": "a02947d3-6418-49e3-cd15-89e3a0ad3644"
      },
      "source": [
        "X_test.groupby('Año').mean('acierto').loc[:,'acierto']"
      ],
      "execution_count": null,
      "outputs": [
        {
          "output_type": "execute_result",
          "data": {
            "text/plain": [
              "Año\n",
              "2019    0.883117\n",
              "2020    0.798122\n",
              "2021    0.833333\n",
              "Name: acierto, dtype: float64"
            ]
          },
          "metadata": {
            "tags": []
          },
          "execution_count": 89
        }
      ]
    },
    {
      "cell_type": "markdown",
      "metadata": {
        "id": "Zr0_gXCKcs3U"
      },
      "source": [
        "##5. Aplicaciones"
      ]
    },
    {
      "cell_type": "markdown",
      "metadata": {
        "id": "TIxIzXaU87Ni"
      },
      "source": [
        "Como ejemplo de aplicación se buscará predecir la probabilidad de una carrera de Salud de 10 semestres (Enfermería) logre llenar las vacantes, utilizando otros parámetros aproximados.\n",
        "En este caso hay un 89% de probabilidad de que se llenen las vacantes, por lo cual el modelo predice que se van a llenar vacantes (valor 1)."
      ]
    },
    {
      "cell_type": "code",
      "metadata": {
        "colab": {
          "base_uri": "https://localhost:8080/"
        },
        "id": "T7DDs7a68ZqJ",
        "outputId": "f52946cd-3145-47ed-c9a8-c0daf14e4bad"
      },
      "source": [
        "prueba = pd.DataFrame({'Año': [2020],\n",
        "                       'AREA CONOCIMIENTO':['Salud'],\n",
        "                       'acreditacion':[4],\n",
        "                       'gratuidad':[0], #sin gratuidad\n",
        "                       'duracion':[10],\n",
        "                       #'vacantes_1S':[60],\n",
        "                       'PCT_COLEGIO':[50],\n",
        "                       'matricula_2021':[170000],\n",
        "                       'RM':[1],\n",
        "                       'V':[0],\n",
        "                       'VIII':[0],\n",
        "                       'ingreso_3':[1255000],\n",
        "                       'emplea_1':[0.665]})\n",
        "\n",
        "X_prueba_prep  = preprocessor.transform(prueba)\n",
        "model.predict_proba(X_prueba_prep)"
      ],
      "execution_count": null,
      "outputs": [
        {
          "output_type": "execute_result",
          "data": {
            "text/plain": [
              "array([[0.13461999, 0.86538001]])"
            ]
          },
          "metadata": {
            "tags": []
          },
          "execution_count": 90
        }
      ]
    },
    {
      "cell_type": "code",
      "metadata": {
        "colab": {
          "base_uri": "https://localhost:8080/"
        },
        "id": "SkG-g3oo95sm",
        "outputId": "c04ea947-7925-41a7-cc5c-7907a7a5cc9a"
      },
      "source": [
        "model.predict(X_prueba_prep)"
      ],
      "execution_count": null,
      "outputs": [
        {
          "output_type": "execute_result",
          "data": {
            "text/plain": [
              "array([1])"
            ]
          },
          "metadata": {
            "tags": []
          },
          "execution_count": 91
        }
      ]
    },
    {
      "cell_type": "markdown",
      "metadata": {
        "id": "Oqhhk_Vp93DD"
      },
      "source": [
        "Haciendo lo mismo, pero con otra carrera más corta del área de salud de 5 semestres (TNS en Enfermería), con sus ingresos y empleabilidad esperada, el modelo predice que hay una probabilidad del 12% de que se llenen vacantes, por lo cual predice que no se van a llenar al ser la probabilidad menor al 50% (valor 0)."
      ]
    },
    {
      "cell_type": "code",
      "metadata": {
        "colab": {
          "base_uri": "https://localhost:8080/"
        },
        "id": "8ce9QAb4-P4v",
        "outputId": "92755029-6d9b-4a2b-cfad-4fb72f43ee70"
      },
      "source": [
        "prueba2 = pd.DataFrame({'Año': [2020],\n",
        "                       'AREA CONOCIMIENTO':['Salud'],\n",
        "                        'acreditacion':[4], #4 años de acreditacion\n",
        "                       'gratuidad':[0], #sin gratuidad\n",
        "                       'duracion':[5],\n",
        "                       #'vacantes_1S':[60],\n",
        "                       'PCT_COLEGIO':[50],\n",
        "                       'matricula_2021':[170000],\n",
        "                       'RM':[1],\n",
        "                        'V':[0],\n",
        "                        'VIII':[0],\n",
        "                       'ingreso_3':[544000],\n",
        "                       'emplea_1':[0.44]})\n",
        "\n",
        "X_prueba2_prep  = preprocessor.transform(prueba2)\n",
        "model.predict_proba(X_prueba2_prep)"
      ],
      "execution_count": null,
      "outputs": [
        {
          "output_type": "execute_result",
          "data": {
            "text/plain": [
              "array([[0.83147281, 0.16852719]])"
            ]
          },
          "metadata": {
            "tags": []
          },
          "execution_count": 92
        }
      ]
    },
    {
      "cell_type": "code",
      "metadata": {
        "colab": {
          "base_uri": "https://localhost:8080/"
        },
        "id": "uNvxCj-2-_fe",
        "outputId": "77a1a624-b269-4a75-8adf-daada240d94c"
      },
      "source": [
        "model.predict(X_prueba2_prep)"
      ],
      "execution_count": null,
      "outputs": [
        {
          "output_type": "execute_result",
          "data": {
            "text/plain": [
              "array([0])"
            ]
          },
          "metadata": {
            "tags": []
          },
          "execution_count": 93
        }
      ]
    },
    {
      "cell_type": "markdown",
      "metadata": {
        "id": "krXhqnP-_LZ2"
      },
      "source": [
        "**Otros ejemplos tipo UDLA**"
      ]
    },
    {
      "cell_type": "markdown",
      "metadata": {
        "id": "mzDr07i0ApVa"
      },
      "source": [
        "A continuación de cargarán algunas carreras de UDLA para ver la probabilidad de llenar vacantes. Se pueden ver cosas como qué pasa en las mismas carreras con o sin gratuidad."
      ]
    },
    {
      "cell_type": "code",
      "metadata": {
        "colab": {
          "resources": {
            "http://localhost:8080/nbextensions/google.colab/files.js": {
              "data": "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",
              "ok": true,
              "headers": [
                [
                  "content-type",
                  "application/javascript"
                ]
              ],
              "status": 200,
              "status_text": ""
            }
          },
          "base_uri": "https://localhost:8080/",
          "height": 73
        },
        "id": "8sY1KhzEXXGi",
        "outputId": "ddfb19a4-eac2-4ae9-96df-06a30d69abf6"
      },
      "source": [
        "from google.colab import files\n",
        "carga = files.upload()"
      ],
      "execution_count": null,
      "outputs": [
        {
          "output_type": "display_data",
          "data": {
            "text/html": [
              "\n",
              "     <input type=\"file\" id=\"files-7aa790e0-99dd-4ed8-980e-6d35dc6eaaff\" name=\"files[]\" multiple disabled\n",
              "        style=\"border:none\" />\n",
              "     <output id=\"result-7aa790e0-99dd-4ed8-980e-6d35dc6eaaff\">\n",
              "      Upload widget is only available when the cell has been executed in the\n",
              "      current browser session. Please rerun this cell to enable.\n",
              "      </output>\n",
              "      <script src=\"/nbextensions/google.colab/files.js\"></script> "
            ],
            "text/plain": [
              "<IPython.core.display.HTML object>"
            ]
          },
          "metadata": {
            "tags": []
          }
        },
        {
          "output_type": "stream",
          "text": [
            "Saving ejemplo_UDLA.xlsx to ejemplo_UDLA.xlsx\n"
          ],
          "name": "stdout"
        }
      ]
    },
    {
      "cell_type": "code",
      "metadata": {
        "colab": {
          "base_uri": "https://localhost:8080/",
          "height": 187
        },
        "id": "O2OHo8eWXuhl",
        "outputId": "32d3c10d-8d4c-4d7f-e3eb-728bc25ea384"
      },
      "source": [
        "udla = pd.read_excel('ejemplo_UDLA.xlsx')\n",
        "udla.head(3) #ejemplo de 3 observaciones"
      ],
      "execution_count": null,
      "outputs": [
        {
          "output_type": "execute_result",
          "data": {
            "text/html": [
              "<div>\n",
              "<style scoped>\n",
              "    .dataframe tbody tr th:only-of-type {\n",
              "        vertical-align: middle;\n",
              "    }\n",
              "\n",
              "    .dataframe tbody tr th {\n",
              "        vertical-align: top;\n",
              "    }\n",
              "\n",
              "    .dataframe thead th {\n",
              "        text-align: right;\n",
              "    }\n",
              "</style>\n",
              "<table border=\"1\" class=\"dataframe\">\n",
              "  <thead>\n",
              "    <tr style=\"text-align: right;\">\n",
              "      <th></th>\n",
              "      <th>Año</th>\n",
              "      <th>NOMBRE CARRERA</th>\n",
              "      <th>AREA CARRERA GENERICA</th>\n",
              "      <th>AREA CONOCIMIENTO</th>\n",
              "      <th>gratuidad</th>\n",
              "      <th>duracion</th>\n",
              "      <th>PCT_COLEGIO</th>\n",
              "      <th>matricula_2021</th>\n",
              "      <th>RM</th>\n",
              "      <th>V</th>\n",
              "      <th>VIII</th>\n",
              "      <th>ingreso_3</th>\n",
              "      <th>emplea_1</th>\n",
              "      <th>acreditacion</th>\n",
              "    </tr>\n",
              "  </thead>\n",
              "  <tbody>\n",
              "    <tr>\n",
              "      <th>0</th>\n",
              "      <td>2021</td>\n",
              "      <td>INGENIERIA DE EJECUCION EN ADMINISTRACION DE E...</td>\n",
              "      <td>Administración de Empresas e Ing. Asociadas</td>\n",
              "      <td>Administración y Comercio</td>\n",
              "      <td>0</td>\n",
              "      <td>8</td>\n",
              "      <td>40</td>\n",
              "      <td>170000</td>\n",
              "      <td>1</td>\n",
              "      <td>0</td>\n",
              "      <td>0</td>\n",
              "      <td>1.129011e+06</td>\n",
              "      <td>0.772107</td>\n",
              "      <td>4</td>\n",
              "    </tr>\n",
              "    <tr>\n",
              "      <th>1</th>\n",
              "      <td>2021</td>\n",
              "      <td>CONSTRUCCION CIVIL</td>\n",
              "      <td>Construcción Civil</td>\n",
              "      <td>Tecnología</td>\n",
              "      <td>0</td>\n",
              "      <td>9</td>\n",
              "      <td>40</td>\n",
              "      <td>170000</td>\n",
              "      <td>1</td>\n",
              "      <td>0</td>\n",
              "      <td>0</td>\n",
              "      <td>1.353673e+06</td>\n",
              "      <td>0.860196</td>\n",
              "      <td>4</td>\n",
              "    </tr>\n",
              "    <tr>\n",
              "      <th>2</th>\n",
              "      <td>2021</td>\n",
              "      <td>INGENIERIA DE EJECUCION EN INFORMATICA</td>\n",
              "      <td>Ingeniería en Computación e Informática</td>\n",
              "      <td>Tecnología</td>\n",
              "      <td>0</td>\n",
              "      <td>8</td>\n",
              "      <td>40</td>\n",
              "      <td>160000</td>\n",
              "      <td>1</td>\n",
              "      <td>0</td>\n",
              "      <td>0</td>\n",
              "      <td>1.243573e+06</td>\n",
              "      <td>0.828190</td>\n",
              "      <td>4</td>\n",
              "    </tr>\n",
              "  </tbody>\n",
              "</table>\n",
              "</div>"
            ],
            "text/plain": [
              "    Año  ... acreditacion\n",
              "0  2021  ...            4\n",
              "1  2021  ...            4\n",
              "2  2021  ...            4\n",
              "\n",
              "[3 rows x 14 columns]"
            ]
          },
          "metadata": {
            "tags": []
          },
          "execution_count": 95
        }
      ]
    },
    {
      "cell_type": "markdown",
      "metadata": {
        "id": "9mFwu8dlCVDJ"
      },
      "source": [
        "Previa transformación del archivo en formato idóneo, se calculan las probabilidades y la predicción de llenar vacantes el año 2021. El ejemplo se va a exportar a excel."
      ]
    },
    {
      "cell_type": "code",
      "metadata": {
        "id": "BZBnhqSUX6Hw"
      },
      "source": [
        "udla_data = preprocessor.transform(udla[features])\n",
        "\n",
        "predicciones = model.predict(udla_data)\n",
        "probabilidad = model.predict_proba(udla_data)[:,1]\n",
        "\n",
        "udla['prediccion'] = predicciones\n",
        "udla['probabilidad'] = probabilidad\n",
        "\n",
        "udla.to_excel('udla_predict.xlsx')"
      ],
      "execution_count": null,
      "outputs": []
    },
    {
      "cell_type": "markdown",
      "metadata": {
        "id": "daKhUxTrCSQ0"
      },
      "source": [
        "En la siguiente tabla se puede ver el efecto de la gratuidad, en donde en promedio la probabilidad de llenar vacantes aumenta al doble."
      ]
    },
    {
      "cell_type": "code",
      "metadata": {
        "colab": {
          "base_uri": "https://localhost:8080/",
          "height": 527
        },
        "id": "sNLxbGiOBCo0",
        "outputId": "3c59edc0-bc74-4d71-f82b-7ea115a166ce"
      },
      "source": [
        "udla.pivot_table(index='NOMBRE CARRERA', columns=['gratuidad'],  values='probabilidad', aggfunc=np.mean) #ejemplo región RM"
      ],
      "execution_count": null,
      "outputs": [
        {
          "output_type": "execute_result",
          "data": {
            "text/html": [
              "<div>\n",
              "<style scoped>\n",
              "    .dataframe tbody tr th:only-of-type {\n",
              "        vertical-align: middle;\n",
              "    }\n",
              "\n",
              "    .dataframe tbody tr th {\n",
              "        vertical-align: top;\n",
              "    }\n",
              "\n",
              "    .dataframe thead th {\n",
              "        text-align: right;\n",
              "    }\n",
              "</style>\n",
              "<table border=\"1\" class=\"dataframe\">\n",
              "  <thead>\n",
              "    <tr style=\"text-align: right;\">\n",
              "      <th>gratuidad</th>\n",
              "      <th>0</th>\n",
              "      <th>1</th>\n",
              "    </tr>\n",
              "    <tr>\n",
              "      <th>NOMBRE CARRERA</th>\n",
              "      <th></th>\n",
              "      <th></th>\n",
              "    </tr>\n",
              "  </thead>\n",
              "  <tbody>\n",
              "    <tr>\n",
              "      <th>CONSTRUCCION CIVIL</th>\n",
              "      <td>0.086677</td>\n",
              "      <td>0.183281</td>\n",
              "    </tr>\n",
              "    <tr>\n",
              "      <th>ENFERMERIA</th>\n",
              "      <td>0.885238</td>\n",
              "      <td>0.953073</td>\n",
              "    </tr>\n",
              "    <tr>\n",
              "      <th>FONOAUDIOLOGIA</th>\n",
              "      <td>0.173985</td>\n",
              "      <td>0.353883</td>\n",
              "    </tr>\n",
              "    <tr>\n",
              "      <th>HOTELERIA Y TURISMO</th>\n",
              "      <td>0.103101</td>\n",
              "      <td>0.224337</td>\n",
              "    </tr>\n",
              "    <tr>\n",
              "      <th>INGENIERIA AMBIENTAL</th>\n",
              "      <td>0.061966</td>\n",
              "      <td>0.074568</td>\n",
              "    </tr>\n",
              "    <tr>\n",
              "      <th>INGENIERIA CIVIL EN COMPUTACION E INFORMATICA</th>\n",
              "      <td>0.593193</td>\n",
              "      <td>0.819427</td>\n",
              "    </tr>\n",
              "    <tr>\n",
              "      <th>INGENIERIA CIVIL INDUSTRIAL</th>\n",
              "      <td>0.112621</td>\n",
              "      <td>0.348993</td>\n",
              "    </tr>\n",
              "    <tr>\n",
              "      <th>INGENIERIA COMERCIAL</th>\n",
              "      <td>0.150492</td>\n",
              "      <td>0.311784</td>\n",
              "    </tr>\n",
              "    <tr>\n",
              "      <th>INGENIERIA DE EJECUCION EN ADMINISTRACION DE EMPRESAS</th>\n",
              "      <td>0.100715</td>\n",
              "      <td>0.199118</td>\n",
              "    </tr>\n",
              "    <tr>\n",
              "      <th>INGENIERIA DE EJECUCION EN INFORMATICA</th>\n",
              "      <td>0.337947</td>\n",
              "      <td>0.457117</td>\n",
              "    </tr>\n",
              "    <tr>\n",
              "      <th>INGENIERIA EN MINAS</th>\n",
              "      <td>0.074203</td>\n",
              "      <td>0.082416</td>\n",
              "    </tr>\n",
              "    <tr>\n",
              "      <th>KINESIOLOGIA</th>\n",
              "      <td>0.588301</td>\n",
              "      <td>0.677292</td>\n",
              "    </tr>\n",
              "    <tr>\n",
              "      <th>NUTRICION Y DIETETICA</th>\n",
              "      <td>0.424917</td>\n",
              "      <td>0.561747</td>\n",
              "    </tr>\n",
              "    <tr>\n",
              "      <th>TECNICO DE NIVEL SUPERIOR EN ENFERMERIA</th>\n",
              "      <td>0.232348</td>\n",
              "      <td>0.412005</td>\n",
              "    </tr>\n",
              "    <tr>\n",
              "      <th>TERAPIA OCUPACIONAL</th>\n",
              "      <td>0.351256</td>\n",
              "      <td>0.491974</td>\n",
              "    </tr>\n",
              "  </tbody>\n",
              "</table>\n",
              "</div>"
            ],
            "text/plain": [
              "gratuidad                                                  0         1\n",
              "NOMBRE CARRERA                                                        \n",
              "CONSTRUCCION CIVIL                                  0.086677  0.183281\n",
              "ENFERMERIA                                          0.885238  0.953073\n",
              "FONOAUDIOLOGIA                                      0.173985  0.353883\n",
              "HOTELERIA Y TURISMO                                 0.103101  0.224337\n",
              "INGENIERIA AMBIENTAL                                0.061966  0.074568\n",
              "INGENIERIA CIVIL EN COMPUTACION E INFORMATICA       0.593193  0.819427\n",
              "INGENIERIA CIVIL INDUSTRIAL                         0.112621  0.348993\n",
              "INGENIERIA COMERCIAL                                0.150492  0.311784\n",
              "INGENIERIA DE EJECUCION EN ADMINISTRACION DE EM...  0.100715  0.199118\n",
              "INGENIERIA DE EJECUCION EN INFORMATICA              0.337947  0.457117\n",
              "INGENIERIA EN MINAS                                 0.074203  0.082416\n",
              "KINESIOLOGIA                                        0.588301  0.677292\n",
              "NUTRICION Y DIETETICA                               0.424917  0.561747\n",
              "TECNICO DE NIVEL SUPERIOR EN ENFERMERIA             0.232348  0.412005\n",
              "TERAPIA OCUPACIONAL                                 0.351256  0.491974"
            ]
          },
          "metadata": {
            "tags": []
          },
          "execution_count": 98
        }
      ]
    },
    {
      "cell_type": "markdown",
      "metadata": {
        "id": "UpjAmk3QPh76"
      },
      "source": [
        "**Probabilidad de llenar una vacante en función de PCT_COLEGIO**"
      ]
    },
    {
      "cell_type": "markdown",
      "metadata": {
        "id": "C0awV_LYP3V8"
      },
      "source": [
        "El siguiente código muestra que en las inmediaciones de la ponderación del 60% para PCT_COLEGIO se maximiza la probabilidad de llenar una vacante para la carrera de Ing. Civil Informática (probabilidad del 85,9%) en una IES sin gratuidad. El gráfico muestra cómo progresa la probabilidad en función de la ponderación asignada a PCR_COLEGIO."
      ]
    },
    {
      "cell_type": "code",
      "metadata": {
        "colab": {
          "base_uri": "https://localhost:8080/",
          "height": 197
        },
        "id": "aywmVbv3YtjA",
        "outputId": "d5f36352-dd34-40c7-c77c-6cb1d2144e6d"
      },
      "source": [
        "probabilidad_k = []\n",
        "\n",
        "for k in np.arange(20, 71, step=5):\n",
        "  prueba_k = pd.DataFrame({'Año': [2021],\n",
        "                       'AREA CONOCIMIENTO':['Tecnología'],\n",
        "                       'acreditacion':[4],\n",
        "                       'gratuidad':[0],\n",
        "                      # 'vacantes_1S':[20],\n",
        "                       'duracion':[10],\n",
        "                       'PCT_COLEGIO':[k],\n",
        "                       'matricula_2021':[160000],\n",
        "                       'RM':[1],\n",
        "                       'V':[0],\n",
        "                       'VIII':[0],\n",
        "                       'ingreso_3':[1497727],\n",
        "                       'emplea_1':[0.894]})\n",
        "\n",
        "  X_prueba_k_prep  = preprocessor.transform(prueba_k)\n",
        "  probabilidad_k.append(model.predict_proba(X_prueba_k_prep)[:,1])\n",
        "\n",
        "listado = pd.DataFrame({'PCT_COLEGIO': np.arange(20, 71, step=5),\n",
        "                        'probabilidad': np.array(probabilidad_k)[:,0]}).sort_values('probabilidad', ascending=False)\n",
        "\n",
        "listado.head()"
      ],
      "execution_count": null,
      "outputs": [
        {
          "output_type": "execute_result",
          "data": {
            "text/html": [
              "<div>\n",
              "<style scoped>\n",
              "    .dataframe tbody tr th:only-of-type {\n",
              "        vertical-align: middle;\n",
              "    }\n",
              "\n",
              "    .dataframe tbody tr th {\n",
              "        vertical-align: top;\n",
              "    }\n",
              "\n",
              "    .dataframe thead th {\n",
              "        text-align: right;\n",
              "    }\n",
              "</style>\n",
              "<table border=\"1\" class=\"dataframe\">\n",
              "  <thead>\n",
              "    <tr style=\"text-align: right;\">\n",
              "      <th></th>\n",
              "      <th>PCT_COLEGIO</th>\n",
              "      <th>probabilidad</th>\n",
              "    </tr>\n",
              "  </thead>\n",
              "  <tbody>\n",
              "    <tr>\n",
              "      <th>0</th>\n",
              "      <td>20</td>\n",
              "      <td>0.610857</td>\n",
              "    </tr>\n",
              "    <tr>\n",
              "      <th>1</th>\n",
              "      <td>25</td>\n",
              "      <td>0.601683</td>\n",
              "    </tr>\n",
              "    <tr>\n",
              "      <th>4</th>\n",
              "      <td>40</td>\n",
              "      <td>0.593193</td>\n",
              "    </tr>\n",
              "    <tr>\n",
              "      <th>3</th>\n",
              "      <td>35</td>\n",
              "      <td>0.589979</td>\n",
              "    </tr>\n",
              "    <tr>\n",
              "      <th>5</th>\n",
              "      <td>45</td>\n",
              "      <td>0.588778</td>\n",
              "    </tr>\n",
              "  </tbody>\n",
              "</table>\n",
              "</div>"
            ],
            "text/plain": [
              "   PCT_COLEGIO  probabilidad\n",
              "0           20      0.610857\n",
              "1           25      0.601683\n",
              "4           40      0.593193\n",
              "3           35      0.589979\n",
              "5           45      0.588778"
            ]
          },
          "metadata": {
            "tags": []
          },
          "execution_count": 101
        }
      ]
    },
    {
      "cell_type": "code",
      "metadata": {
        "colab": {
          "base_uri": "https://localhost:8080/",
          "height": 408
        },
        "id": "M0L79m8NZJzf",
        "outputId": "5f4e786a-62d7-43da-c7da-88a8fd3ac6a7"
      },
      "source": [
        "plt.style.use('ggplot')\n",
        "plt.figure(figsize=(10,6))\n",
        "plt.plot(np.arange(20, 71, step=5), probabilidad_k)\n",
        "plt.xticks(np.arange(20, 71, step=5))\n",
        "plt.xlabel('% PCT_COLEGIO')\n",
        "plt.ylabel('Probabilidad')\n",
        "plt.title('Probabilidad de llenar vacantes para Ing. Civil Informática (sin gratuidad)');"
      ],
      "execution_count": null,
      "outputs": [
        {
          "output_type": "display_data",
          "data": {
            "image/png": "[encoded data removed]",
            "text/plain": [
              "<Figure size 720x432 with 1 Axes>"
            ]
          },
          "metadata": {
            "tags": []
          }
        }
      ]
    },
    {
      "cell_type": "markdown",
      "metadata": {
        "id": "imZZwt15Gtv_"
      },
      "source": [
        "**UDLA diurno - en construcción**"
      ]
    },
    {
      "cell_type": "code",
      "metadata": {
        "colab": {
          "resources": {
            "http://localhost:8080/nbextensions/google.colab/files.js": {
              "data": "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",
              "ok": true,
              "headers": [
                [
                  "content-type",
                  "application/javascript"
                ]
              ],
              "status": 200,
              "status_text": ""
            }
          },
          "base_uri": "https://localhost:8080/",
          "height": 73
        },
        "id": "IvfZES4im1nj",
        "outputId": "4a2f4ffa-0bbd-45f8-f2f5-a94c465092b3"
      },
      "source": [
        "from google.colab import files\n",
        "carga = files.upload()"
      ],
      "execution_count": null,
      "outputs": [
        {
          "output_type": "display_data",
          "data": {
            "text/html": [
              "\n",
              "     <input type=\"file\" id=\"files-224a251c-be02-43b1-bdcb-89d455b67ad5\" name=\"files[]\" multiple disabled\n",
              "        style=\"border:none\" />\n",
              "     <output id=\"result-224a251c-be02-43b1-bdcb-89d455b67ad5\">\n",
              "      Upload widget is only available when the cell has been executed in the\n",
              "      current browser session. Please rerun this cell to enable.\n",
              "      </output>\n",
              "      <script src=\"/nbextensions/google.colab/files.js\"></script> "
            ],
            "text/plain": [
              "<IPython.core.display.HTML object>"
            ]
          },
          "metadata": {
            "tags": []
          }
        },
        {
          "output_type": "stream",
          "text": [
            "Saving Primera estimación de cupos.xlsx to Primera estimación de cupos.xlsx\n"
          ],
          "name": "stdout"
        }
      ]
    },
    {
      "cell_type": "code",
      "metadata": {
        "colab": {
          "base_uri": "https://localhost:8080/",
          "height": 187
        },
        "id": "8MiZGQgomnlz",
        "outputId": "a1d34573-5af3-4635-d509-59afe3b810ac"
      },
      "source": [
        "udla_diurno = pd.read_excel('Primera estimación de cupos.xlsx')\n",
        "udla_diurno.head(3) #ejemplo de 3 observaciones"
      ],
      "execution_count": null,
      "outputs": [
        {
          "output_type": "execute_result",
          "data": {
            "text/html": [
              "<div>\n",
              "<style scoped>\n",
              "    .dataframe tbody tr th:only-of-type {\n",
              "        vertical-align: middle;\n",
              "    }\n",
              "\n",
              "    .dataframe tbody tr th {\n",
              "        vertical-align: top;\n",
              "    }\n",
              "\n",
              "    .dataframe thead th {\n",
              "        text-align: right;\n",
              "    }\n",
              "</style>\n",
              "<table border=\"1\" class=\"dataframe\">\n",
              "  <thead>\n",
              "    <tr style=\"text-align: right;\">\n",
              "      <th></th>\n",
              "      <th>CARRERA</th>\n",
              "      <th>CAMPUS</th>\n",
              "      <th>CODIGO</th>\n",
              "      <th>Cupos</th>\n",
              "      <th>Campus</th>\n",
              "      <th>Año</th>\n",
              "      <th>AREA CONOCIMIENTO</th>\n",
              "      <th>acreditacion</th>\n",
              "      <th>gratuidad</th>\n",
              "      <th>duracion</th>\n",
              "      <th>PCT_COLEGIO</th>\n",
              "      <th>matricula_2021</th>\n",
              "      <th>RM</th>\n",
              "      <th>V</th>\n",
              "      <th>VIII</th>\n",
              "      <th>ingreso_3</th>\n",
              "      <th>emplea_1</th>\n",
              "    </tr>\n",
              "  </thead>\n",
              "  <tbody>\n",
              "    <tr>\n",
              "      <th>0</th>\n",
              "      <td>AGRONOMIA</td>\n",
              "      <td>PR</td>\n",
              "      <td>UPR153</td>\n",
              "      <td>20</td>\n",
              "      <td>PROVIDENCIA</td>\n",
              "      <td>2021</td>\n",
              "      <td>Agropecuaria</td>\n",
              "      <td>4</td>\n",
              "      <td>0</td>\n",
              "      <td>10</td>\n",
              "      <td>20</td>\n",
              "      <td>170000</td>\n",
              "      <td>1</td>\n",
              "      <td>0</td>\n",
              "      <td>0</td>\n",
              "      <td>1.124670e+06</td>\n",
              "      <td>0.676724</td>\n",
              "    </tr>\n",
              "    <tr>\n",
              "      <th>1</th>\n",
              "      <td>ANIMACION DIGITAL</td>\n",
              "      <td>PR</td>\n",
              "      <td>UPR1103</td>\n",
              "      <td>95</td>\n",
              "      <td>PROVIDENCIA</td>\n",
              "      <td>2021</td>\n",
              "      <td>Arte y Arquitectura</td>\n",
              "      <td>4</td>\n",
              "      <td>0</td>\n",
              "      <td>8</td>\n",
              "      <td>20</td>\n",
              "      <td>170000</td>\n",
              "      <td>1</td>\n",
              "      <td>0</td>\n",
              "      <td>0</td>\n",
              "      <td>NaN</td>\n",
              "      <td>NaN</td>\n",
              "    </tr>\n",
              "    <tr>\n",
              "      <th>2</th>\n",
              "      <td>ARQUITECTURA</td>\n",
              "      <td>PR</td>\n",
              "      <td>UPR160</td>\n",
              "      <td>35</td>\n",
              "      <td>PROVIDENCIA</td>\n",
              "      <td>2021</td>\n",
              "      <td>Arte y Arquitectura</td>\n",
              "      <td>4</td>\n",
              "      <td>0</td>\n",
              "      <td>11</td>\n",
              "      <td>20</td>\n",
              "      <td>170000</td>\n",
              "      <td>1</td>\n",
              "      <td>0</td>\n",
              "      <td>0</td>\n",
              "      <td>1.071521e+06</td>\n",
              "      <td>0.741593</td>\n",
              "    </tr>\n",
              "  </tbody>\n",
              "</table>\n",
              "</div>"
            ],
            "text/plain": [
              "             CARRERA CAMPUS   CODIGO  Cupos  ...  V  VIII     ingreso_3  emplea_1\n",
              "0          AGRONOMIA     PR   UPR153     20  ...  0     0  1.124670e+06  0.676724\n",
              "1  ANIMACION DIGITAL     PR  UPR1103     95  ...  0     0           NaN       NaN\n",
              "2       ARQUITECTURA     PR   UPR160     35  ...  0     0  1.071521e+06  0.741593\n",
              "\n",
              "[3 rows x 17 columns]"
            ]
          },
          "metadata": {
            "tags": []
          },
          "execution_count": 104
        }
      ]
    },
    {
      "cell_type": "code",
      "metadata": {
        "id": "Aae2qn4VnE8k"
      },
      "source": [
        "udla_imputer = imputer.transform(udla_diurno[numeric])\n",
        "udla_imputer = pd.DataFrame(udla_imputer, columns=numeric)\n",
        "\n",
        "udla_diurno['ingreso_3'] = udla_imputer['ingreso_3']\n",
        "udla_diurno['emplea_1'] = udla_imputer['emplea_1']\n",
        "\n",
        "#udla_diurno[features] = udla_diurno\n",
        "#udla_diurno.isnull().sum()"
      ],
      "execution_count": null,
      "outputs": []
    },
    {
      "cell_type": "code",
      "metadata": {
        "id": "rIokp0joqsaG"
      },
      "source": [
        "probabilidad_k = []\n",
        "indice = []\n",
        "ponderacion = []\n",
        "\n",
        "for i in udla_diurno.index:\n",
        "  for k in np.arange(20,71, step=5):\n",
        "    udla_diurno['PCT_COLEGIO'] = k\n",
        "    X_prueba_k_prep  = preprocessor.transform(udla_diurno.iloc[i:i+1])\n",
        "    probabilidad_k.append(model.predict_proba(X_prueba_k_prep)[:,1])\n",
        "    indice.append(i)\n",
        "    ponderacion.append(k)\n",
        "\n",
        "salida = pd.DataFrame({'indice':indice, 'ponderacion':ponderacion, 'probabilidad':np.array(probabilidad_k)[:,0]})"
      ],
      "execution_count": null,
      "outputs": []
    },
    {
      "cell_type": "code",
      "metadata": {
        "colab": {
          "base_uri": "https://localhost:8080/",
          "height": 436
        },
        "id": "6B4G7sNWcB06",
        "outputId": "97409173-176a-4aa4-b16a-6502a9cba8db"
      },
      "source": [
        "tabla = salida.pivot_table(index=['indice'], columns=['ponderacion'], values='probabilidad', aggfunc='max')\n",
        "tabla"
      ],
      "execution_count": null,
      "outputs": [
        {
          "output_type": "execute_result",
          "data": {
            "text/html": [
              "<div>\n",
              "<style scoped>\n",
              "    .dataframe tbody tr th:only-of-type {\n",
              "        vertical-align: middle;\n",
              "    }\n",
              "\n",
              "    .dataframe tbody tr th {\n",
              "        vertical-align: top;\n",
              "    }\n",
              "\n",
              "    .dataframe thead th {\n",
              "        text-align: right;\n",
              "    }\n",
              "</style>\n",
              "<table border=\"1\" class=\"dataframe\">\n",
              "  <thead>\n",
              "    <tr style=\"text-align: right;\">\n",
              "      <th>ponderacion</th>\n",
              "      <th>20</th>\n",
              "      <th>25</th>\n",
              "      <th>30</th>\n",
              "      <th>35</th>\n",
              "      <th>40</th>\n",
              "      <th>45</th>\n",
              "      <th>50</th>\n",
              "      <th>55</th>\n",
              "      <th>60</th>\n",
              "      <th>65</th>\n",
              "      <th>70</th>\n",
              "    </tr>\n",
              "    <tr>\n",
              "      <th>indice</th>\n",
              "      <th></th>\n",
              "      <th></th>\n",
              "      <th></th>\n",
              "      <th></th>\n",
              "      <th></th>\n",
              "      <th></th>\n",
              "      <th></th>\n",
              "      <th></th>\n",
              "      <th></th>\n",
              "      <th></th>\n",
              "      <th></th>\n",
              "    </tr>\n",
              "  </thead>\n",
              "  <tbody>\n",
              "    <tr>\n",
              "      <th>0</th>\n",
              "      <td>0.412470</td>\n",
              "      <td>0.388244</td>\n",
              "      <td>0.326603</td>\n",
              "      <td>0.349605</td>\n",
              "      <td>0.388721</td>\n",
              "      <td>0.352249</td>\n",
              "      <td>0.332996</td>\n",
              "      <td>0.323370</td>\n",
              "      <td>0.322826</td>\n",
              "      <td>0.306915</td>\n",
              "      <td>0.295981</td>\n",
              "    </tr>\n",
              "    <tr>\n",
              "      <th>1</th>\n",
              "      <td>0.495783</td>\n",
              "      <td>0.424644</td>\n",
              "      <td>0.332995</td>\n",
              "      <td>0.338842</td>\n",
              "      <td>0.306699</td>\n",
              "      <td>0.259014</td>\n",
              "      <td>0.236340</td>\n",
              "      <td>0.208801</td>\n",
              "      <td>0.176153</td>\n",
              "      <td>0.165144</td>\n",
              "      <td>0.145132</td>\n",
              "    </tr>\n",
              "    <tr>\n",
              "      <th>2</th>\n",
              "      <td>0.603531</td>\n",
              "      <td>0.569079</td>\n",
              "      <td>0.526135</td>\n",
              "      <td>0.530535</td>\n",
              "      <td>0.540589</td>\n",
              "      <td>0.503190</td>\n",
              "      <td>0.470855</td>\n",
              "      <td>0.473430</td>\n",
              "      <td>0.509561</td>\n",
              "      <td>0.489978</td>\n",
              "      <td>0.475566</td>\n",
              "    </tr>\n",
              "    <tr>\n",
              "      <th>3</th>\n",
              "      <td>0.133153</td>\n",
              "      <td>0.106691</td>\n",
              "      <td>0.084936</td>\n",
              "      <td>0.088609</td>\n",
              "      <td>0.086677</td>\n",
              "      <td>0.079129</td>\n",
              "      <td>0.069610</td>\n",
              "      <td>0.068438</td>\n",
              "      <td>0.078001</td>\n",
              "      <td>0.078183</td>\n",
              "      <td>0.076046</td>\n",
              "    </tr>\n",
              "    <tr>\n",
              "      <th>4</th>\n",
              "      <td>0.523318</td>\n",
              "      <td>0.481788</td>\n",
              "      <td>0.438443</td>\n",
              "      <td>0.436957</td>\n",
              "      <td>0.425127</td>\n",
              "      <td>0.412691</td>\n",
              "      <td>0.396740</td>\n",
              "      <td>0.409689</td>\n",
              "      <td>0.484010</td>\n",
              "      <td>0.504997</td>\n",
              "      <td>0.509427</td>\n",
              "    </tr>\n",
              "    <tr>\n",
              "      <th>...</th>\n",
              "      <td>...</td>\n",
              "      <td>...</td>\n",
              "      <td>...</td>\n",
              "      <td>...</td>\n",
              "      <td>...</td>\n",
              "      <td>...</td>\n",
              "      <td>...</td>\n",
              "      <td>...</td>\n",
              "      <td>...</td>\n",
              "      <td>...</td>\n",
              "      <td>...</td>\n",
              "    </tr>\n",
              "    <tr>\n",
              "      <th>63</th>\n",
              "      <td>0.591495</td>\n",
              "      <td>0.588557</td>\n",
              "      <td>0.597926</td>\n",
              "      <td>0.629157</td>\n",
              "      <td>0.651608</td>\n",
              "      <td>0.637734</td>\n",
              "      <td>0.606367</td>\n",
              "      <td>0.595548</td>\n",
              "      <td>0.595751</td>\n",
              "      <td>0.592494</td>\n",
              "      <td>0.573089</td>\n",
              "    </tr>\n",
              "    <tr>\n",
              "      <th>64</th>\n",
              "      <td>0.058803</td>\n",
              "      <td>0.067052</td>\n",
              "      <td>0.059757</td>\n",
              "      <td>0.063738</td>\n",
              "      <td>0.067783</td>\n",
              "      <td>0.057172</td>\n",
              "      <td>0.049745</td>\n",
              "      <td>0.049727</td>\n",
              "      <td>0.060119</td>\n",
              "      <td>0.057429</td>\n",
              "      <td>0.049759</td>\n",
              "    </tr>\n",
              "    <tr>\n",
              "      <th>65</th>\n",
              "      <td>0.807243</td>\n",
              "      <td>0.787250</td>\n",
              "      <td>0.761132</td>\n",
              "      <td>0.780992</td>\n",
              "      <td>0.801403</td>\n",
              "      <td>0.781487</td>\n",
              "      <td>0.758030</td>\n",
              "      <td>0.752531</td>\n",
              "      <td>0.767311</td>\n",
              "      <td>0.768566</td>\n",
              "      <td>0.751729</td>\n",
              "    </tr>\n",
              "    <tr>\n",
              "      <th>66</th>\n",
              "      <td>0.461954</td>\n",
              "      <td>0.441362</td>\n",
              "      <td>0.419464</td>\n",
              "      <td>0.457139</td>\n",
              "      <td>0.495543</td>\n",
              "      <td>0.511604</td>\n",
              "      <td>0.497340</td>\n",
              "      <td>0.486771</td>\n",
              "      <td>0.494034</td>\n",
              "      <td>0.490659</td>\n",
              "      <td>0.470736</td>\n",
              "    </tr>\n",
              "    <tr>\n",
              "      <th>67</th>\n",
              "      <td>0.465995</td>\n",
              "      <td>0.484890</td>\n",
              "      <td>0.516698</td>\n",
              "      <td>0.548886</td>\n",
              "      <td>0.614400</td>\n",
              "      <td>0.610390</td>\n",
              "      <td>0.598040</td>\n",
              "      <td>0.554667</td>\n",
              "      <td>0.517663</td>\n",
              "      <td>0.504073</td>\n",
              "      <td>0.451429</td>\n",
              "    </tr>\n",
              "  </tbody>\n",
              "</table>\n",
              "<p>68 rows × 11 columns</p>\n",
              "</div>"
            ],
            "text/plain": [
              "ponderacion        20        25        30  ...        60        65        70\n",
              "indice                                     ...                              \n",
              "0            0.412470  0.388244  0.326603  ...  0.322826  0.306915  0.295981\n",
              "1            0.495783  0.424644  0.332995  ...  0.176153  0.165144  0.145132\n",
              "2            0.603531  0.569079  0.526135  ...  0.509561  0.489978  0.475566\n",
              "3            0.133153  0.106691  0.084936  ...  0.078001  0.078183  0.076046\n",
              "4            0.523318  0.481788  0.438443  ...  0.484010  0.504997  0.509427\n",
              "...               ...       ...       ...  ...       ...       ...       ...\n",
              "63           0.591495  0.588557  0.597926  ...  0.595751  0.592494  0.573089\n",
              "64           0.058803  0.067052  0.059757  ...  0.060119  0.057429  0.049759\n",
              "65           0.807243  0.787250  0.761132  ...  0.767311  0.768566  0.751729\n",
              "66           0.461954  0.441362  0.419464  ...  0.494034  0.490659  0.470736\n",
              "67           0.465995  0.484890  0.516698  ...  0.517663  0.504073  0.451429\n",
              "\n",
              "[68 rows x 11 columns]"
            ]
          },
          "metadata": {
            "tags": []
          },
          "execution_count": 108
        }
      ]
    },
    {
      "cell_type": "code",
      "metadata": {
        "colab": {
          "base_uri": "https://localhost:8080/",
          "height": 284
        },
        "id": "MQXKKGS6kTbU",
        "outputId": "b9b7c6b8-8779-4a19-f21f-23fe4494a344"
      },
      "source": [
        "salida_2 = pd.concat([udla_diurno, tabla], axis=1).drop(columns='PCT_COLEGIO')\n",
        "salida_2['pond_max'] = salida_2.loc[:,[20, 25,30,35,40,45,50,55,60,65,70]].idxmax(axis=1)\n",
        "salida_2['prob_max'] = salida_2.loc[:,[20, 25,30,35,40,45,50,55,60,65,70]].max(axis=1)\n",
        "\n",
        "salida_2.head()"
      ],
      "execution_count": null,
      "outputs": [
        {
          "output_type": "execute_result",
          "data": {
            "text/html": [
              "<div>\n",
              "<style scoped>\n",
              "    .dataframe tbody tr th:only-of-type {\n",
              "        vertical-align: middle;\n",
              "    }\n",
              "\n",
              "    .dataframe tbody tr th {\n",
              "        vertical-align: top;\n",
              "    }\n",
              "\n",
              "    .dataframe thead th {\n",
              "        text-align: right;\n",
              "    }\n",
              "</style>\n",
              "<table border=\"1\" class=\"dataframe\">\n",
              "  <thead>\n",
              "    <tr style=\"text-align: right;\">\n",
              "      <th></th>\n",
              "      <th>CARRERA</th>\n",
              "      <th>CAMPUS</th>\n",
              "      <th>CODIGO</th>\n",
              "      <th>Cupos</th>\n",
              "      <th>Campus</th>\n",
              "      <th>Año</th>\n",
              "      <th>AREA CONOCIMIENTO</th>\n",
              "      <th>acreditacion</th>\n",
              "      <th>gratuidad</th>\n",
              "      <th>duracion</th>\n",
              "      <th>matricula_2021</th>\n",
              "      <th>RM</th>\n",
              "      <th>V</th>\n",
              "      <th>VIII</th>\n",
              "      <th>ingreso_3</th>\n",
              "      <th>emplea_1</th>\n",
              "      <th>20</th>\n",
              "      <th>25</th>\n",
              "      <th>30</th>\n",
              "      <th>35</th>\n",
              "      <th>40</th>\n",
              "      <th>45</th>\n",
              "      <th>50</th>\n",
              "      <th>55</th>\n",
              "      <th>60</th>\n",
              "      <th>65</th>\n",
              "      <th>70</th>\n",
              "      <th>pond_max</th>\n",
              "      <th>prob_max</th>\n",
              "    </tr>\n",
              "  </thead>\n",
              "  <tbody>\n",
              "    <tr>\n",
              "      <th>0</th>\n",
              "      <td>AGRONOMIA</td>\n",
              "      <td>PR</td>\n",
              "      <td>UPR153</td>\n",
              "      <td>20</td>\n",
              "      <td>PROVIDENCIA</td>\n",
              "      <td>2021</td>\n",
              "      <td>Agropecuaria</td>\n",
              "      <td>4</td>\n",
              "      <td>0</td>\n",
              "      <td>10</td>\n",
              "      <td>170000</td>\n",
              "      <td>1</td>\n",
              "      <td>0</td>\n",
              "      <td>0</td>\n",
              "      <td>1.124670e+06</td>\n",
              "      <td>0.676724</td>\n",
              "      <td>0.412470</td>\n",
              "      <td>0.388244</td>\n",
              "      <td>0.326603</td>\n",
              "      <td>0.349605</td>\n",
              "      <td>0.388721</td>\n",
              "      <td>0.352249</td>\n",
              "      <td>0.332996</td>\n",
              "      <td>0.323370</td>\n",
              "      <td>0.322826</td>\n",
              "      <td>0.306915</td>\n",
              "      <td>0.295981</td>\n",
              "      <td>20</td>\n",
              "      <td>0.412470</td>\n",
              "    </tr>\n",
              "    <tr>\n",
              "      <th>1</th>\n",
              "      <td>ANIMACION DIGITAL</td>\n",
              "      <td>PR</td>\n",
              "      <td>UPR1103</td>\n",
              "      <td>95</td>\n",
              "      <td>PROVIDENCIA</td>\n",
              "      <td>2021</td>\n",
              "      <td>Arte y Arquitectura</td>\n",
              "      <td>4</td>\n",
              "      <td>0</td>\n",
              "      <td>8</td>\n",
              "      <td>170000</td>\n",
              "      <td>1</td>\n",
              "      <td>0</td>\n",
              "      <td>0</td>\n",
              "      <td>1.112879e+06</td>\n",
              "      <td>0.730970</td>\n",
              "      <td>0.495783</td>\n",
              "      <td>0.424644</td>\n",
              "      <td>0.332995</td>\n",
              "      <td>0.338842</td>\n",
              "      <td>0.306699</td>\n",
              "      <td>0.259014</td>\n",
              "      <td>0.236340</td>\n",
              "      <td>0.208801</td>\n",
              "      <td>0.176153</td>\n",
              "      <td>0.165144</td>\n",
              "      <td>0.145132</td>\n",
              "      <td>20</td>\n",
              "      <td>0.495783</td>\n",
              "    </tr>\n",
              "    <tr>\n",
              "      <th>2</th>\n",
              "      <td>ARQUITECTURA</td>\n",
              "      <td>PR</td>\n",
              "      <td>UPR160</td>\n",
              "      <td>35</td>\n",
              "      <td>PROVIDENCIA</td>\n",
              "      <td>2021</td>\n",
              "      <td>Arte y Arquitectura</td>\n",
              "      <td>4</td>\n",
              "      <td>0</td>\n",
              "      <td>11</td>\n",
              "      <td>170000</td>\n",
              "      <td>1</td>\n",
              "      <td>0</td>\n",
              "      <td>0</td>\n",
              "      <td>1.071521e+06</td>\n",
              "      <td>0.741593</td>\n",
              "      <td>0.603531</td>\n",
              "      <td>0.569079</td>\n",
              "      <td>0.526135</td>\n",
              "      <td>0.530535</td>\n",
              "      <td>0.540589</td>\n",
              "      <td>0.503190</td>\n",
              "      <td>0.470855</td>\n",
              "      <td>0.473430</td>\n",
              "      <td>0.509561</td>\n",
              "      <td>0.489978</td>\n",
              "      <td>0.475566</td>\n",
              "      <td>20</td>\n",
              "      <td>0.603531</td>\n",
              "    </tr>\n",
              "    <tr>\n",
              "      <th>3</th>\n",
              "      <td>CONSTRUCCION CIVIL</td>\n",
              "      <td>PR</td>\n",
              "      <td>UPR161</td>\n",
              "      <td>15</td>\n",
              "      <td>PROVIDENCIA</td>\n",
              "      <td>2021</td>\n",
              "      <td>Tecnología</td>\n",
              "      <td>4</td>\n",
              "      <td>0</td>\n",
              "      <td>9</td>\n",
              "      <td>170000</td>\n",
              "      <td>1</td>\n",
              "      <td>0</td>\n",
              "      <td>0</td>\n",
              "      <td>1.353673e+06</td>\n",
              "      <td>0.860196</td>\n",
              "      <td>0.133153</td>\n",
              "      <td>0.106691</td>\n",
              "      <td>0.084936</td>\n",
              "      <td>0.088609</td>\n",
              "      <td>0.086677</td>\n",
              "      <td>0.079129</td>\n",
              "      <td>0.069610</td>\n",
              "      <td>0.068438</td>\n",
              "      <td>0.078001</td>\n",
              "      <td>0.078183</td>\n",
              "      <td>0.076046</td>\n",
              "      <td>20</td>\n",
              "      <td>0.133153</td>\n",
              "    </tr>\n",
              "    <tr>\n",
              "      <th>4</th>\n",
              "      <td>DERECHO</td>\n",
              "      <td>PR</td>\n",
              "      <td>UPR156</td>\n",
              "      <td>50</td>\n",
              "      <td>PROVIDENCIA</td>\n",
              "      <td>2021</td>\n",
              "      <td>Derecho</td>\n",
              "      <td>4</td>\n",
              "      <td>0</td>\n",
              "      <td>10</td>\n",
              "      <td>170000</td>\n",
              "      <td>1</td>\n",
              "      <td>0</td>\n",
              "      <td>0</td>\n",
              "      <td>1.478155e+06</td>\n",
              "      <td>0.754431</td>\n",
              "      <td>0.523318</td>\n",
              "      <td>0.481788</td>\n",
              "      <td>0.438443</td>\n",
              "      <td>0.436957</td>\n",
              "      <td>0.425127</td>\n",
              "      <td>0.412691</td>\n",
              "      <td>0.396740</td>\n",
              "      <td>0.409689</td>\n",
              "      <td>0.484010</td>\n",
              "      <td>0.504997</td>\n",
              "      <td>0.509427</td>\n",
              "      <td>20</td>\n",
              "      <td>0.523318</td>\n",
              "    </tr>\n",
              "  </tbody>\n",
              "</table>\n",
              "</div>"
            ],
            "text/plain": [
              "              CARRERA CAMPUS   CODIGO  ...        70 pond_max  prob_max\n",
              "0           AGRONOMIA     PR   UPR153  ...  0.295981       20  0.412470\n",
              "1   ANIMACION DIGITAL     PR  UPR1103  ...  0.145132       20  0.495783\n",
              "2        ARQUITECTURA     PR   UPR160  ...  0.475566       20  0.603531\n",
              "3  CONSTRUCCION CIVIL     PR   UPR161  ...  0.076046       20  0.133153\n",
              "4             DERECHO     PR   UPR156  ...  0.509427       20  0.523318\n",
              "\n",
              "[5 rows x 29 columns]"
            ]
          },
          "metadata": {
            "tags": []
          },
          "execution_count": 109
        }
      ]
    },
    {
      "cell_type": "code",
      "metadata": {
        "id": "5oDelr7_eUuR"
      },
      "source": [
        "salida_2.to_excel('llenar_vacantes_v2.xlsx')"
      ],
      "execution_count": null,
      "outputs": []
    }
  ]
}